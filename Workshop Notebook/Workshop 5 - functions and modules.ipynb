{
 "cells": [
  {
   "cell_type": "markdown",
   "metadata": {},
   "source": [
    "# Workshop 5"
   ]
  },
  {
   "cell_type": "markdown",
   "metadata": {},
   "source": [
    "## Functions and modules"
   ]
  },
  {
   "cell_type": "markdown",
   "metadata": {},
   "source": [
    "### Task 5.1\n",
    "\n",
    "When the wind blows in cold weather, the air feels colder than it actually is because the movement of the air increases the rate of cooling for warm objects, like people. This effect is known as wind chill.\n",
    "\n",
    "This is the formula for calculating wind chill (the temperature it feels like)\n",
    "\n",
    "$\\text{wind chill} = 13.12 + 0.6215\\times T − 11.37\\times  V^{0.16} + 0.3965\\times  T\\times  V^{0.16}$\n",
    "\n",
    "\n",
    "where *T* is the air temperature in degrees Celsius and *V* is the wind speed in kilometres per hour.\n",
    "\n",
    "Write a function called `wind_chill()` that takes two arguments, air temperature in degrees Celsius and wind speed in kilometres per hour and returns the wind chill.\n",
    "\n",
    "Calls to the function have already been written for you in the code cell below. You just need to write the function.\n",
    "\n",
    "<div class=\"alert alert-info\">\n",
    "Your answer should be \n",
    "\n",
    "    wind chill = -14.5\n",
    "    wind chill = -8.6\n",
    "    wind chill = -2.7\n",
    "    wind chill = 3.1\n",
    "    wind chill = 9.0\n",
    "</div>"
   ]
  },
  {
   "cell_type": "code",
   "execution_count": null,
   "metadata": {},
   "outputs": [],
   "source": [
    "# Write your function here\n",
    "\n",
    "\n",
    "\n",
    "# These are the calls to the function. Do not edit.\n",
    "temperatures = [-10, -5, 0, 5, 10]\n",
    "V = 8\n",
    "for T in temperatures:\n",
    "    print( f'wind chill = {wind_chill(T, V):.1f}')"
   ]
  },
  {
   "cell_type": "markdown",
   "metadata": {
    "button": false,
    "collapsed": true,
    "new_sheet": false,
    "run_control": {
     "read_only": false
    }
   },
   "source": [
    "### Task 5.2\n",
    "\n",
    "Write a function called `remove_met()` that takes a protein sequence as an argument and removes the first methionine amino acid (M) only if the second amino acid is alanine (A). Otherwise do nothing to the protein. Return the potentially modified protein sequence.  \n",
    "* *Hint: You wrote the code for removing methionine in [Exercise 8.6](Exercise%20Solutions/08%20-%20Making%20decisions%20I%20-%20conditional%20statements.ipynb#Exercise-8.6). You can copy it from there and paste and modify it into the code cell below.*\n",
    "\n",
    "<div class=\"alert alert-info\">\n",
    "Your output should look like this.\n",
    "\n",
    "    MYPYITTRRFFFCTRSVGILE\n",
    "    APYITTRRFFFCTRSVGILE\n",
    "</div>"
   ]
  },
  {
   "cell_type": "code",
   "execution_count": null,
   "metadata": {},
   "outputs": [],
   "source": [
    "# Write your function here\n",
    "\n",
    "\n",
    "# These are the calls to the function. Do not edit.\n",
    "\n",
    "print( remove_met('MYPYITTRRFFFCTRSVGILE') )\n",
    "print( remove_met('MAPYITTRRFFFCTRSVGILE') )"
   ]
  },
  {
   "cell_type": "code",
   "execution_count": null,
   "metadata": {},
   "outputs": [],
   "source": []
  },
  {
   "attachments": {
    "pippy.jpeg": {
     "image/jpeg": "[encoded data removed]"
    }
   },
   "cell_type": "markdown",
   "metadata": {},
   "source": [
    "### Task 5.3\n",
    "\n",
    "![pippy.jpeg](attachment:pippy.jpeg)\n",
    "\n",
    "In [Task 3.10](Workshop%20Solutions/Workshop%203%20-%20lists%20and%20loops.ipynb#Task-3.10)\n",
    "  you calculated the average wingspan of *Pipistrellus nathusii* in a bat survey.\n",
    "\n",
    "Using the code from [Task 3.10](Workshop%20Solutions/Workshop%203%20-%20lists%20and%20loops.ipynb#Task-3.10), now write a function called `average_wingspan()` that takes three arguments: the species you want the average wingspan of, the list of individual bat species (`bat_list`) and a list of their corresponding wingspans (`wingspans`). Your function should return the average wingspan of the selected species.\n",
    "\n",
    "<div class=\"alert alert-info\">\n",
    "    \n",
    "Answer: The average wingspan of *Plecotus austriacus* is 20.50 cm and the average wingspan of *Myotis nattereri* is 19.80 cm.\n",
    "\n",
    "</div>"
   ]
  },
  {
   "cell_type": "code",
   "execution_count": null,
   "metadata": {},
   "outputs": [],
   "source": [
    "bat_list = ['Plecotus austriacus', 'Pipistrellus nathusii', 'Myotis daubentonii', 'Nyctalus noctula', 'Pipistrellus pipistrellus', 'Pipistrellus pipistrellus', 'Pipistrellus nathusii', 'Pipistrellus nathusii', 'Eptesicus serotinus', 'Myotis bechsteinii', 'Pipistrellus nathusii', 'Pipistrellus pygmaeus', 'Pipistrellus pipistrellus', 'Plecotus austriacus', 'Myotis daubentonii', 'Nyctalus noctula', 'Myotis brandtii', 'Myotis mystacinus', 'Pipistrellus nathusii', 'Pipistrellus pygmaeus', 'Pipistrellus nathusii', 'Rhinolophus hipposideros', 'Nyctalus leisleri', 'Pipistrellus pipistrellus', 'Pipistrellus nathusii', 'Nyctalus noctula', 'Plecotus austriacus', 'Pipistrellus nathusii', 'Myotis nattereri', 'Pipistrellus pipistrellus', 'Pipistrellus nathusii', 'Plecotus auritus', 'Barbastella barbastellus', 'Pipistrellus nathusii', 'Myotis brandtii', 'Pipistrellus pipistrellus', 'Myotis nattereri']\n",
    "\n",
    "wingspans = [20.4, 21.1, 17.1, 16.7, 24.4, 17.8, 20.1, 21.2, 20.8, 18.4, 20.0, 20.8, 19.4, 16.9, 18.0, 18.5, 18.0, 17.5, 18.7, 21.6, 21.6, 20.1, 20.6, 22.0, 20.0, 16.8, 24.2, 15.4, 21.2, 22.2, 26.1, 21.5, 18.9, 18.5, 19.9, 20.9, 18.4]\n",
    "\n",
    "# Write your function here\n",
    "\n",
    "\n",
    "# These are the calls to the function. Do not edit.\n",
    "\n",
    "print( f\"{average_wingspan('Plecotus austriacus', bat_list, wingspans):.2f}\" )\n",
    "print( f\"{average_wingspan('Myotis nattereri', bat_list, wingspans):.2f}\" )"
   ]
  },
  {
   "cell_type": "markdown",
   "metadata": {},
   "source": [
    "### Task 5.4\n",
    "\n",
    "Modify your code from Task 5.3 so that it loops through all unique bat species in `bat_list` printing out each species' average wingspan to 2dp.\n",
    "\n",
    "* *Hint: See [Task 3.9](Workshop%20Solutions/Workshop%203%20-%20lists%20and%20loops.ipynb#Task-3.9)\n",
    " for creating a list of unique species.*\n",
    "\n",
    "<div class=\"alert alert-info\">\n",
    "The answer is    \n",
    "\n",
    "    Plecotus austriacus\t\t20.50\n",
    "    Pipistrellus nathusii\t\t20.27\n",
    "    Myotis daubentonii\t\t17.55\n",
    "    Nyctalus noctula\t\t17.33\n",
    "    Pipistrellus pipistrellus\t\t21.12\n",
    "    Eptesicus serotinus\t\t20.80\n",
    "    Myotis bechsteinii\t\t18.40\n",
    "    Pipistrellus pygmaeus\t\t21.20\n",
    "    Myotis brandtii\t\t18.95\n",
    "    Myotis mystacinus\t\t17.50\n",
    "    Rhinolophus hipposideros\t\t20.10\n",
    "    Nyctalus leisleri\t\t20.60\n",
    "    Myotis nattereri\t\t19.80\n",
    "    Plecotus auritus\t\t21.50\n",
    "    Barbastella barbastellus\t\t18.90\n",
    "</div>"
   ]
  },
  {
   "cell_type": "code",
   "execution_count": null,
   "metadata": {},
   "outputs": [],
   "source": []
  },
  {
   "cell_type": "markdown",
   "metadata": {
    "collapsed": true
   },
   "source": [
    "### Task 5.5\n",
    "\n",
    "In [Task 4.5](Workshop%20Solutions/Workshop%204%20-%20dictionaries.ipynb#Task-4.5)\n",
    " you wrote code to translate a DNA sequence into a protein sequence beginning at the first start codon \"ATG\".\n",
    "\n",
    "Convert the code in [Task 4.5](Workshop%20Solutions/Workshop%204%20-%20dictionaries.ipynb#Task-4.5) into a function called `translate()` that takes each of the DNA sequences in the list `dna_sequences` as an argument and returns its corresponding protein sequence.\n",
    "\n",
    "Your code should convert any DNA sequences in lowercase to uppercase (see [Task 2.8](Workshop%20Solutions/Workshop%202%20-%20strings%20and%20making%20decisions.ipynb#Task-2.8)).\n",
    "\n",
    "If there is no \"ATG\" start codon in the DNA sequence your function should return \"Sequence has no start codon\".\n",
    "\n",
    "<div class=\"alert alert-info\">\n",
    "Your output should look like this:\n",
    "\n",
    "    Sequence has no start codon\n",
    "    MYPYITTRRFFFCTRSVGILE_\n",
    "    MAPYITTRRFFFCTRSVGILE_\n",
    "    MLGMLLAI_LAS_LATY_\n",
    "    MYPYITTRRFFFCTRSVGILEL\n",
    "</div>"
   ]
  },
  {
   "cell_type": "code",
   "execution_count": null,
   "metadata": {},
   "outputs": [],
   "source": [
    "genetic_code = {\n",
    "     'TTT': 'F', 'TCT': 'S', 'TAT': 'Y', 'TGT': 'C',\n",
    "     'TTC': 'F', 'TCC': 'S', 'TAC': 'Y', 'TGC': 'C',\n",
    "     'TTA': 'L', 'TCA': 'S', 'TAA': '_', 'TGA': '_',\n",
    "     'TTG': 'L', 'TCG': 'S', 'TAG': '_', 'TGG': 'W',\n",
    "     'CTT': 'L', 'CCT': 'P', 'CAT': 'H', 'CGT': 'R',\n",
    "     'CTC': 'L', 'CCC': 'P', 'CAC': 'H', 'CGC': 'R',\n",
    "     'CTA': 'L', 'CCA': 'P', 'CAA': 'Q', 'CGA': 'R',\n",
    "     'CTG': 'L', 'CCG': 'P', 'CAG': 'Q', 'CGG': 'R',\n",
    "     'ATT': 'I', 'ACT': 'T', 'AAT': 'N', 'AGT': 'S',\n",
    "     'ATC': 'I', 'ACC': 'T', 'AAC': 'N', 'AGC': 'S',\n",
    "     'ATA': 'I', 'ACA': 'T', 'AAA': 'K', 'AGA': 'R',\n",
    "     'ATG': 'M', 'ACG': 'T', 'AAG': 'K', 'AGG': 'R',\n",
    "     'GTT': 'V', 'GCT': 'A', 'GAT': 'D', 'GGT': 'G',\n",
    "     'GTC': 'V', 'GCC': 'A', 'GAC': 'D', 'GGC': 'G',\n",
    "     'GTA': 'V', 'GCA': 'A', 'GAA': 'E', 'GGA': 'G',\n",
    "     'GTG': 'V', 'GCG': 'A', 'GAG': 'E', 'GGG': 'G'}\n",
    "\n",
    "# Assign a list of DNA sequences to translate to the variable \"dna_seqs\"\n",
    "dna_sequences = [\n",
    "    'TTTTGTATCCTTATATCACAACTCGAAGATTCTTCTTCTGCACGAGAAGCGTGGGAATCCTGGAATAA',\n",
    "    'TTATGTATCCTTATATCACAACTCGAAGATTCTTCTTCTGCACGAGAAGCGTGGGAATCCTGGAATAA',\n",
    "    'TTATGGCTCCTTATATCACAACTCGAAGATTCTTCTTCTGCACGAGAAGCGTGGGAATCCTGGAATAA',\n",
    "    'atagctacacatgctaggcatgttgctagctatctagctagctagctagctagctacgtactag',\n",
    "    'TTATGTATCCTTATATCACAACTCGAAGATTCTTCTTCTGCACGAGAAGCGTGGGAATCCTGGAATTA']\n",
    "\n",
    "# Write your function here\n",
    "\n",
    "\n",
    "# These are the calls to the function. Do not edit.\n",
    "for dna_seq in dna_sequences:\n",
    "    protein_seq = translate(dna_seq)\n",
    "    print(protein_seq)"
   ]
  },
  {
   "cell_type": "markdown",
   "metadata": {
    "collapsed": true
   },
   "source": [
    "### Task 5.6\n",
    "\n",
    "Before returning the protein sequence from your function `translate()`, call the function `remove_met()` (Task 5.2) to remove the first methionine amino acid of the protein sequence if the second amino acid is an alanine.\n",
    "\n",
    "\n",
    "<div class=\"alert alert-info\">\n",
    "Your output should look like this.\n",
    "\n",
    "    Sequence has no start codon\n",
    "    MYPYITTRRFFFCTRSVGILE_\n",
    "    APYITTRRFFFCTRSVGILE_\n",
    "    MLGMLLAI_LAS_LATY_\n",
    "    MYPYITTRRFFFCTRSVGILEL\n",
    "</div>"
   ]
  },
  {
   "cell_type": "code",
   "execution_count": null,
   "metadata": {},
   "outputs": [],
   "source": []
  },
  {
   "cell_type": "markdown",
   "metadata": {},
   "source": [
    "### Task 5.7\n",
    "\n",
    "Protein translation stops at the first stop codon. So once you hit a stop codon stop translation and return the protein sequence.\n",
    "\n",
    "In addition, do not include the stop codon's underscore character \"_\" in the final protein sequence.\n",
    "\n",
    "Finally, if there is no stop codon by the time you reach the end of the DNA sequence, rather than returning the protein sequence return the string \"Sequence has no stop codon\".\n",
    "\n",
    "* *Hint: Do not directly check for one of the three stop codon sequences. Instead, check for the underscore character which signifies a stop codon has occurred.*\n",
    "\n",
    "<div class=\"alert alert-info\">\n",
    "Your output should look like this.\n",
    "\n",
    "    Sequence has no start codon\n",
    "    MYPYITTRRFFFCTRSVGILE\n",
    "    APYITTRRFFFCTRSVGILE\n",
    "    MLGMLLAI\n",
    "    Sequence has no stop codon\n",
    "</div>"
   ]
  },
  {
   "cell_type": "code",
   "execution_count": null,
   "metadata": {},
   "outputs": [],
   "source": []
  },
  {
   "cell_type": "markdown",
   "metadata": {},
   "source": [
    "### Task 5.8\n",
    "\n",
    "In [Exercise 18.3](Exercise%20Solutions/18%20-%20Dictionaries%20IV%20-%20lookup%20table.ipynb#Exercise-18.3)\n",
    "you calculated the molecular mass of the peptide \"FWGCYPT\". \n",
    "\n",
    "Using the code from [Exercise 18.3](Exercise%20Solutions/18%20-%20Dictionaries%20IV%20-%20lookup%20table.ipynb#Exercise-18.3), write a function called `peptide_mass()` that takes a peptide sequence as an argument and returns its molecular mass.\n",
    "\n",
    "<div class=\"alert alert-info\">\n",
    "Your output should look like this.\n",
    "\n",
    "    Mass of CPHRALIAIT is 1075.59605 Daltons\n",
    "    Mass of NGQSVCGMSG is 920.34804 Daltons\n",
    "    Mass of WPFYWRICNH is 1402.63932 Daltons\n",
    "    Mass of DLQVIDQMNW is 1242.57030 Daltons\n",
    "    Mass of CEWIMYVTDE is 1269.50459 Daltons\n",
    "</div>"
   ]
  },
  {
   "cell_type": "code",
   "execution_count": null,
   "metadata": {},
   "outputs": [],
   "source": [
    "masses = {\n",
    "    'A' : 71.03711,\n",
    "    'C' : 103.00919,\n",
    "    'D' : 115.02694,\n",
    "    'E' : 129.04259,\n",
    "    'F' : 147.06841,\n",
    "    'G' :  57.02146,\n",
    "    'H' : 137.05891,\n",
    "    'I' : 113.08406,\n",
    "    'K' : 128.09496,\n",
    "    'L' : 113.08406,\n",
    "    'M' : 131.04049,\n",
    "    'N' : 114.04293,\n",
    "    'P' :  97.05276,\n",
    "    'Q' : 128.05858,\n",
    "    'R' : 156.10111,\n",
    "    'S' :  87.03203,\n",
    "    'T' : 101.04768,\n",
    "    'V' :  99.06841,\n",
    "    'W' : 186.07931,\n",
    "    'Y' : 163.06333}\n",
    "\n",
    "# Write your function here\n",
    "\n",
    "\n",
    "# These are the calls to the function. Do not edit.\n",
    "for peptide in ['CPHRALIAIT', 'NGQSVCGMSG', 'WPFYWRICNH', 'DLQVIDQMNW', 'CEWIMYVTDE']:\n",
    "    print(f'Mass of {peptide} is {peptide_mass(peptide):.5f} Daltons')"
   ]
  },
  {
   "cell_type": "markdown",
   "metadata": {},
   "source": [
    "### Task 5.9\n",
    "\n",
    "Write a function called `random_peptide()` that generates a random peptide of length `n`, using `random.choice` ([See Exercise 22.3](Exercise%20Solutions/22%20-%20Modules.ipynb#Exercise-22.3)) within your function. \n",
    "\n",
    "The length of the peptide, `n`, is a parameter of the function and the random peptide generated should be returned by the function.\n",
    "\n",
    "Use the single letter amino acids codes in the list to help you.\n",
    "\n",
    "* *Hint: Begin with an empty string for your peptide and loop n times, each time choosing a random amino acid to add to the end of the peptide string.*"
   ]
  },
  {
   "cell_type": "code",
   "execution_count": null,
   "metadata": {},
   "outputs": [],
   "source": [
    "import random\n",
    "\n",
    "amino_acids_letters = ['A', 'R', 'N', 'D', 'C', 'Q', 'E', 'G', 'H', 'I', 'L', 'K', 'M', 'F', 'P', 'S', 'T', 'W', 'Y', 'V']\n",
    "\n",
    "# Write your function here\n",
    "\n",
    "\n",
    "# These are the calls to the function. Do not edit.\n",
    "print(random_peptide(20))\n",
    "print(random_peptide(20))"
   ]
  }
 ],
 "metadata": {
  "kernelspec": {
   "display_name": "Python 3",
   "language": "python",
   "name": "python3"
  },
  "language_info": {
   "codemirror_mode": {
    "name": "ipython",
    "version": 3
   },
   "file_extension": ".py",
   "mimetype": "text/x-python",
   "name": "python",
   "nbconvert_exporter": "python",
   "pygments_lexer": "ipython3",
   "version": "3.7.6"
  }
 },
 "nbformat": 4,
 "nbformat_minor": 4
}
