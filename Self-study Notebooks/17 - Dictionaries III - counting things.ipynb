{
 "cells": [
  {
   "cell_type": "markdown",
   "metadata": {},
   "source": [
    "# Dictionaries III - counting things"
   ]
  },
  {
   "cell_type": "markdown",
   "metadata": {},
   "source": [
    "Dictionaries can be used for many things. In this course we will cover two common uses:\n",
    "\n",
    "1. Counting things (covered in this Notebook)\n",
    "2. Lookup table (covered in the next Notebook)"
   ]
  },
  {
   "cell_type": "markdown",
   "metadata": {
    "ExecuteTime": {
     "end_time": "2017-07-11T13:21:10.707464",
     "start_time": "2017-07-11T13:21:10.703985"
    },
    "button": false,
    "new_sheet": false,
    "run_control": {
     "read_only": false
    }
   },
   "source": [
    "## Using dictionaries to keep counts"
   ]
  },
  {
   "attachments": {
    "festuca.jpeg": {
     "image/jpeg": "[encoded data removed]"
    }
   },
   "cell_type": "markdown",
   "metadata": {
    "ExecuteTime": {
     "end_time": "2017-07-11T13:21:10.707464",
     "start_time": "2017-07-11T13:21:10.703985"
    },
    "button": false,
    "new_sheet": false,
    "run_control": {
     "read_only": false
    }
   },
   "source": [
    "We've already seen an example of counting something. In Notebook 10 we counted the number of \"f\"s in the sentence \"*The embryo of Festuca fusca, a native plant species of Old-World countries, is almost half the full length of its grain.*\"\n",
    "\n",
    "![festuca.jpeg](attachment:festuca.jpeg)\n",
    "\n",
    "But what if we had wanted to count the number of occurrences of each and every letter in the string rather than just the \"f\"s. How can we code this?\n",
    "\n",
    "In Notebook 10 we had a variable called `count` that kept a tally of the number of \"f\"s as we looped through the string. One way to count each and every letter would be to have a tally variable for each and every letter. For example, `count_a`, `count_b`, `count_c`, and so on. Writing the code this way would be very tedious as we would need 26 separate variables.\n",
    "\n",
    "Instead we can use a dictionary with its property that each key must be unique.\n",
    "\n",
    "Remember that a dictionary is essentially just a table of two columns. One column is the unique key and the other is its value. So for a tally of letters in the above sentence we would have a table that looks like this:\n",
    "\n",
    "letter (key) | tally (value)\n",
    ":---:|:---:\n",
    "a | 8\n",
    "b | 1\n",
    "... | ...\n",
    "z | 0\n",
    "\n",
    "Translating this into a dictionary, each key will be a letter of the alphabet and its value will be the number of times it occurs in the sentence, i.e.,\n",
    "\n",
    "```python\n",
    "counts = { 'a':8, 'b':1., ..., 'z':0 }\n",
    "```\n",
    "\n",
    "Of course, we don't want to write this out manually - that's just as bad as having a count variable for each letter. What we want is for Python to construct the dictionary for us. \n",
    "\n",
    "First, let's write down the steps involved if we were to do this task by hand. This is often a good way to solve a task: **write first, code later**. Here are the steps involved:\n",
    "\n",
    "1. Setup an empty table, the first column is \"letter\" and the second column is its \"tally\".\n",
    "2. Starting at the beginning, go through the sentence one letter at a time.\n",
    "3. If the current letter is already in our table we have seen it earlier in the sentence; increment its tally by one.\n",
    "4. If the current letter is not in the table this is the first time it has occurred in the sentence; add it to the table and set its tally to one.\n",
    "\n",
    "Now let's translate this algorithm into some Python code.\n",
    "\n",
    "1. Initialise an empty dictionary (each key:value pair will be a letter:tally pair).\n",
    "2. Loop through the sentence one letter at a time.\n",
    "3. If the current letter is in the dictionary, increment its tally by one.\n",
    "4. Otherwise add the letter to the dictionary and set its tally to one.\n",
    "\n",
    "<div class=\"alert alert-danger\">\n",
    "Finally let's write the Python code. Read it first to understand what it is doing before running it.\n",
    "</div>"
   ]
  },
  {
   "cell_type": "code",
   "execution_count": 0,
   "metadata": {},
   "outputs": [],
   "source": [
    "sentence = 'The embryo of Festuca fusca, a native plant species of Old-World countries, is almost half the full length of its grain.'\n",
    "\n",
    "# Initialise an empty dictionary.\n",
    "# Keys will be letters (as these are unique) and values will be counts of each letter.\n",
    "# Items in the dictionary will be added as we loop through the sentence one character at a time.\n",
    "counts = {}\n",
    "\n",
    "# Loop through the sentence one character at a time. character is the iterating variable.\n",
    "for character in sentence:\n",
    "\n",
    "    # Test if the dictionary already contains the current character as a key.\n",
    "    if character in counts:\n",
    "\n",
    "        # If the character is a key in the dictionary increment its value by 1.\n",
    "        counts[character] += 1\n",
    "\n",
    "    else:\n",
    "        # The character is not a key in the dictionary so this is its first occurrence.\n",
    "        # Add the character to the dictionary and set its values to 1.\n",
    "        counts[character] = 1\n",
    "\n",
    "# Output the final counts.\n",
    "counts"
   ]
  },
  {
   "cell_type": "markdown",
   "metadata": {},
   "source": [
    "First we initialise an empty dictionary called `counts` to store the tally of each character in the sentence.\n",
    "\n",
    "Next, starting from the first character \"T\", we loop through the sentence one character at a time. \n",
    "\n",
    "We test if \"T\" already exists as a key in the dictionary `counts`.\n",
    "\n",
    "As the dictionary is empty \"T\" is not a key in it so we add it as a key and set its value to 1.\n",
    "\n",
    "The loop moves onto the next character in the sentence which is \"h\".\n",
    "\n",
    "Whenever we come across a character we have seen before its key will be in the dictionary and so we can increment its value by 1.\n",
    "\n",
    "The output is not quite what we want. First, we've got lower and uppercase letters, but we really only want lowercase. Second we've got punctuation which we don't want. Finally, it would be better if the output was ordered alphabetically. \n",
    "\n",
    "The easiest way to use only lowercase letters is to convert the whole sentence to lowercase. We covered converting a string to lowercase in Notebook 7 on string methods. We could do it like so:\n",
    "```python \n",
    "for character in sentence.lower():\n",
    "```\n",
    "which will convert all the characters in `sentence` to lowercase. Which means the first character will be \"t\" rather than \"T\".\n",
    "\n",
    "To ignore punctuation we should test whether the iterating variable `character` is a letter or punctuation. If you google \"*python test character is a letter*\" you'll find the answer is to use the `isalpha()` method. As this is a test we should use a conditional `if` statement. If `character` is a letter then `character.isalpha()` is True and we can then test if it is in the dictionary as before. If `character` is punctuation then `character.isalpha()` is False and we can ignore it and move onto the next character in the sentence. \n",
    "\n",
    "Finally, to output the counts alphabetically we want to loop through the dictionary sorted on the key. See  Notebook 16 on how to do this.\n",
    "\n",
    "<div class=\"alert alert-danger\">\n",
    "The modified code is given below. Read it first so you understand what it is doing before running it.\n",
    "</div>"
   ]
  },
  {
   "cell_type": "code",
   "execution_count": 0,
   "metadata": {},
   "outputs": [],
   "source": [
    "sentence = 'The embryo of Festuca fusca, a native plant species of Old-World countries, is almost half the full length of its grain.'\n",
    "\n",
    "# Initialise an empty dictionary.\n",
    "# Keys will be letters (as these are unique) and values will be counts of each letter.\n",
    "# Items in the dictionary will be added as we loop through the sentence one character at a time.\n",
    "counts = {}\n",
    "\n",
    "# Loop through the sentence one character at a time. character is the iterating variable.\n",
    "# All characters in \"sentence\" are converted to lowercase.\n",
    "for character in sentence.lower():\n",
    "\n",
    "    # Test if character is a letter and not punctuation.\n",
    "    # If character is a letter then character.isalpha() is True and we go on to test if it is in the dictionary.\n",
    "    # If character is punctuation then character.isalpha() is False. We do nothing and move on to the next character.\n",
    "    if character.isalpha():\n",
    "\n",
    "        # Test if the dictionary already contains the current character.\n",
    "        if character in counts:\n",
    "\n",
    "            # If the character is in the dictionary increment its value by 1.\n",
    "            counts[character] += 1\n",
    "\n",
    "        else:\n",
    "\n",
    "            # The character is not in the dictionary so this is its first occurence.\n",
    "            # Add the character to the dictionary and set its count to 1.\n",
    "            counts[character] = 1\n",
    "\n",
    "# Output the final counts.\n",
    "# Loop through the dictionary one item at a time sorted alphabetically.\n",
    "for letter, count in sorted( counts.items() ):\n",
    "    print(letter, count)\n"
   ]
  },
  {
   "cell_type": "markdown",
   "metadata": {},
   "source": [
    "## Exercise Notebook"
   ]
  },
  {
   "cell_type": "markdown",
   "metadata": {},
   "source": [
    "[Dictionaries III - counting things](../Exercises/17%20-%20Dictionaries%20III%20-%20counting%20things.ipynb)\n"
   ]
  },
  {
   "cell_type": "markdown",
   "metadata": {},
   "source": [
    "## Next Notebook"
   ]
  },
  {
   "cell_type": "markdown",
   "metadata": {},
   "source": [
    "[Dictionaries IV - lookup table](18%20-%20Dictionaries%20IV%20-%20lookup%20table.ipynb)\n"
   ]
  }
 ],
 "metadata": {
  "anaconda-cloud": {},
  "hide_input": false,
  "kernelspec": {
   "display_name": "Python 3",
   "language": "python",
   "name": "python3"
  },
  "language_info": {
   "codemirror_mode": {
    "name": "ipython",
    "version": 3
   },
   "file_extension": ".py",
   "mimetype": "text/x-python",
   "name": "python",
   "nbconvert_exporter": "python",
   "pygments_lexer": "ipython3",
   "version": "3.8.3"
  }
 },
 "nbformat": 4,
 "nbformat_minor": 4
}
