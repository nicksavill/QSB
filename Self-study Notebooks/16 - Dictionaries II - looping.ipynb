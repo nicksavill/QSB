{
 "cells": [
  {
   "cell_type": "markdown",
   "metadata": {},
   "source": [
    "# Dictionaries II - looping"
   ]
  },
  {
   "cell_type": "markdown",
   "metadata": {},
   "source": [
    "## Looping through a dictionary"
   ]
  },
  {
   "cell_type": "markdown",
   "metadata": {},
   "source": [
    "We've seen how to loop through strings and lists. Now we will look at the ways of looping through a dictionary one item at a time.\n",
    "\n",
    "The following code loops through the keys of our dictionary of white blood cell types.\n",
    "\n",
    "<div class=\"alert alert-danger\">\n",
    "Run it to see what happens.\n",
    "</div>"
   ]
  },
  {
   "cell_type": "code",
   "execution_count": 0,
   "metadata": {},
   "outputs": [],
   "source": [
    "white_cells = { 'Neutrophil':11, 'Eosinophil':11,  'Basophil':13.5, 'Small lymphocyte':7.5, 'Large lymphocyte':13.5, 'Monocyte':22.5  }\n",
    "\n",
    "# Loop through the keys one at a time using cell_type as the iterating variable.\n",
    "for cell_type in white_cells:\n",
    "\n",
    "    # Print each key.\n",
    "    print( cell_type )"
   ]
  },
  {
   "cell_type": "markdown",
   "metadata": {},
   "source": [
    "Notice that this code only loops through the keys. The values are ignored."
   ]
  },
  {
   "cell_type": "markdown",
   "metadata": {},
   "source": [
    "## Looping through keys and values simultaneously"
   ]
  },
  {
   "cell_type": "markdown",
   "metadata": {},
   "source": [
    "Often we want to loop through a dictionary and use or output each key:value pair. There are two of ways of doing this:\n",
    "\n",
    "1. Loop through the keys and use them to get each item's value.\n",
    "2. Loop through the items.\n",
    "\n",
    "Let's look at these in turn."
   ]
  },
  {
   "cell_type": "markdown",
   "metadata": {},
   "source": [
    "### 1. Loop through the keys and use them to get each item's value\n",
    "\n",
    "In the last Notebook we saw that to get the value of a key:value pair we use the notation `dict_var[key]`. So we could modify the above code to output each key and its value like so:\n",
    "\n",
    "<div class=\"alert alert-danger\">\n",
    "Run the following code to see how this works.\n",
    "</div>"
   ]
  },
  {
   "cell_type": "code",
   "execution_count": 0,
   "metadata": {},
   "outputs": [],
   "source": [
    "for cell_type in white_cells:\n",
    "\n",
    "    # Use the key in cell_type to get its corresponding diameter.\n",
    "    diameter = white_cells[cell_type]\n",
    "\n",
    "    # Print each key and its value in an f-string.\n",
    "    print( f'The average diameter of a {cell_type} is {diameter} micrometers' )"
   ]
  },
  {
   "cell_type": "markdown",
   "metadata": {},
   "source": [
    "### 2. Loop through items"
   ]
  },
  {
   "cell_type": "markdown",
   "metadata": {},
   "source": [
    "A simpler and shorter way to write the above code is by looping through the items of the dictionary rather than just the keys.\n",
    "\n",
    "<div class=\"alert alert-danger\">\n",
    "Run the following code to see how to do this.\n",
    "</div>"
   ]
  },
  {
   "cell_type": "code",
   "execution_count": 0,
   "metadata": {},
   "outputs": [],
   "source": [
    "# Loop through each item in the dictionary.\n",
    "# There are two iterating variables: cell_type and diameter.\n",
    "for cell_type, diameter in white_cells.items():\n",
    "\n",
    "    print( f'The average diameter of a {cell_type} is {diameter} micrometers' )"
   ]
  },
  {
   "cell_type": "markdown",
   "metadata": {},
   "source": [
    "There is some new notation. The line\n",
    "```python\n",
    "for cell_type, diameter in white_cells.items():\n",
    "```\n",
    "loops through each item in the dictionary. But now there are **two** iterating variables: `cell_type` which contains the key of the item, and `diameter` which contains the value of the item.\n",
    "\n",
    "This is a common way of looping over a dictionary when both the key and its value are needed."
   ]
  },
  {
   "cell_type": "markdown",
   "metadata": {},
   "source": [
    "## Loop through sorted keys"
   ]
  },
  {
   "cell_type": "markdown",
   "metadata": {},
   "source": [
    "We may want to loop through the keys in alphabetical or numerical order. This is achieved by using `sorted()` which we came across in Notebook 12 when we looped through a sorted list.\n",
    "\n",
    "<div class=\"alert alert-danger\">\n",
    "Run the following code to see how this works.\n",
    "</div>"
   ]
  },
  {
   "cell_type": "code",
   "execution_count": 0,
   "metadata": {},
   "outputs": [],
   "source": [
    "# Loop through each item in the dictionary with keys sorted alphabetically\n",
    "for cell_type, diameter in sorted( white_cells.items() ):\n",
    "\n",
    "    print( f'The average diameter of a {cell_type} is {diameter} micrometers' )"
   ]
  },
  {
   "cell_type": "markdown",
   "metadata": {},
   "source": [
    "Notice that the cell types are sorted alphabetically."
   ]
  },
  {
   "cell_type": "markdown",
   "metadata": {},
   "source": [
    "## Loop through reverse sorted keys"
   ]
  },
  {
   "cell_type": "markdown",
   "metadata": {},
   "source": [
    "The following code shows how to loop through the keys sorted in reverse alphabetical order.\n",
    "\n",
    "We've added\n",
    "```python\n",
    "reverse=True\n",
    "```\n",
    "into `sorted()`.\n",
    "\n",
    "<div class=\"alert alert-danger\">\n",
    "Run the following code to see how this works.\n",
    "</div>"
   ]
  },
  {
   "cell_type": "code",
   "execution_count": 0,
   "metadata": {},
   "outputs": [],
   "source": [
    "# Loop through each item in the dictionary with keys sorted in reverse alphabetical order\n",
    "for cell_type, diameter in sorted(white_cells.items(), reverse=True):\n",
    "\n",
    "    print( f'The average diameter of a {cell_type} is {diameter} micrometers' )"
   ]
  },
  {
   "cell_type": "markdown",
   "metadata": {},
   "source": [
    "## Loop through sorted values: Advanced Python"
   ]
  },
  {
   "cell_type": "markdown",
   "metadata": {},
   "source": [
    "Rather than loop through the dictionary sorted on keys we may want to loop through the dictionary sorted on their values, either alphabetically or numerically.\n",
    "\n",
    "<div class=\"alert alert-danger\">\n",
    "Run the following code to see how this works.\n",
    "</div>"
   ]
  },
  {
   "cell_type": "code",
   "execution_count": 0,
   "metadata": {},
   "outputs": [],
   "source": [
    "# Loop through each item in the dictionary with values sorted numerically\n",
    "for cell_type, diameter in sorted(white_cells.items(), key=lambda kv: kv[1]):\n",
    "\n",
    "    print( f'The average diameter of a {cell_type} is {diameter} micrometers' )"
   ]
  },
  {
   "cell_type": "markdown",
   "metadata": {},
   "source": [
    "Notice that `Small lymphocyte` comes first at 7.5 micrometers and `Monocyte` comes last at 22.5 micrometers.\n",
    "\n",
    "We won't explain here how this works as it is beyond the scope of this course."
   ]
  },
  {
   "cell_type": "markdown",
   "metadata": {},
   "source": [
    "## Exercise Notebook"
   ]
  },
  {
   "cell_type": "markdown",
   "metadata": {},
   "source": [
    "[Dictionaries II - looping](../Exercises/16%20-%20Dictionaries%20II%20-%20looping.ipynb)\n"
   ]
  },
  {
   "cell_type": "markdown",
   "metadata": {},
   "source": [
    "## Next Notebook"
   ]
  },
  {
   "cell_type": "markdown",
   "metadata": {},
   "source": [
    "[Dictionaries III - counting things](17%20-%20Dictionaries%20III%20-%20counting%20things.ipynb)\n"
   ]
  }
 ],
 "metadata": {
  "kernelspec": {
   "display_name": "Python 3",
   "language": "python",
   "name": "python3"
  },
  "language_info": {
   "codemirror_mode": {
    "name": "ipython",
    "version": 3
   },
   "file_extension": ".py",
   "mimetype": "text/x-python",
   "name": "python",
   "nbconvert_exporter": "python",
   "pygments_lexer": "ipython3",
   "version": "3.8.3"
  }
 },
 "nbformat": 4,
 "nbformat_minor": 4
}
