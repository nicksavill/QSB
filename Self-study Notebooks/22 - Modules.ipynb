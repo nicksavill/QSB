{
 "cells": [
  {
   "cell_type": "markdown",
   "metadata": {
    "button": false,
    "new_sheet": false,
    "run_control": {
     "read_only": false
    }
   },
   "source": [
    "# Modules"
   ]
  },
  {
   "cell_type": "markdown",
   "metadata": {
    "button": false,
    "new_sheet": false,
    "run_control": {
     "read_only": false
    }
   },
   "source": [
    "So far we have been using Python's inbuilt functions like `print()` and `len()`. Python also comes with lots of other software called **modules**. There are modules for many biological applications such as bioinformatics, molecular signalling, machine learning, plotting graphs, statistics and maths, to name but a few.\n",
    "\n",
    "To be able to use a module we have to **import** it. For example, to import the `math` module, which contains standard maths functions like sine, log, etc., we place the following code at the start of our program:\n",
    "```python\n",
    "import math\n",
    "```\n",
    "Now we can use all of the maths functions contained in this module.\n",
    "\n",
    "<div class=\"alert alert-danger\">\n",
    "\n",
    "Run the following code to calculate the square root of a number.\n",
    "</div>"
   ]
  },
  {
   "cell_type": "code",
   "execution_count": 0,
   "metadata": {},
   "outputs": [],
   "source": [
    "import math\n",
    "\n",
    "math.sqrt(25)"
   ]
  },
  {
   "cell_type": "markdown",
   "metadata": {},
   "source": [
    "To get a list of all the mathematical functions type `help(math)`. There's also a lot of information available [online](https://docs.python.org/3/library/math.html). Most likely you will never need most of these, but it's worth knowing they are there in case you do need one of them.\n",
    "\n",
    "The math module also contains the value of $\\pi$ so that you don't have to remember it.\n",
    "\n",
    "<div class=\"alert alert-danger\">\n",
    "\n",
    "Run the following code to print the value of $\\pi$.\n",
    "</div>"
   ]
  },
  {
   "cell_type": "code",
   "execution_count": 0,
   "metadata": {},
   "outputs": [],
   "source": [
    "# The value of pi\n",
    "math.pi"
   ]
  },
  {
   "cell_type": "markdown",
   "metadata": {
    "button": false,
    "new_sheet": false,
    "run_control": {
     "read_only": false
    }
   },
   "source": [
    "Remember the code you wrote to calculate a mean and median of a list of numbers? There is a Python module called `statistics` that can do that for you. \n",
    "\n",
    "A full list of functions in the statistics module is [here](https://docs.python.org/3/library/statistics.html).\n",
    "\n",
    "\n",
    "<div class=\"alert alert-danger\">\n",
    "\n",
    "Run the following code to calculate the mean and median of a list of numbers.\n",
    "</div>"
   ]
  },
  {
   "cell_type": "code",
   "execution_count": 0,
   "metadata": {
    "button": false,
    "new_sheet": false,
    "run_control": {
     "read_only": false
    }
   },
   "outputs": [],
   "source": [
    "import statistics\n",
    "\n",
    "diameters = [56, 65, 45, 65, 57, 59, 57, 60, 58, 60, 54]\n",
    "\n",
    "print(statistics.mean(diameters))\n",
    "print(statistics.median(diameters))"
   ]
  },
  {
   "cell_type": "markdown",
   "metadata": {},
   "source": [
    "We will be making a lot of use of modules in Exploratory Data Analysis next week."
   ]
  },
  {
   "cell_type": "markdown",
   "metadata": {},
   "source": [
    "## Exercise Notebook"
   ]
  },
  {
   "cell_type": "markdown",
   "metadata": {},
   "source": [
    "[Modules](../Exercises/22%20-%20Modules.ipynb)\n"
   ]
  }
 ],
 "metadata": {
  "anaconda-cloud": {},
  "kernelspec": {
   "display_name": "Python 3",
   "language": "python",
   "name": "python3"
  },
  "language_info": {
   "codemirror_mode": {
    "name": "ipython",
    "version": 3
   },
   "file_extension": ".py",
   "mimetype": "text/x-python",
   "name": "python",
   "nbconvert_exporter": "python",
   "pygments_lexer": "ipython3",
   "version": "3.8.3"
  }
 },
 "nbformat": 4,
 "nbformat_minor": 4
}
