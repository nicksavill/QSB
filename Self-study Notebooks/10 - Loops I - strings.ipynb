{
 "cells": [
  {
   "cell_type": "markdown",
   "metadata": {},
   "source": [
    "<div class=\"alert alert-info\">\n",
    "\n",
    "## It should take you 3 to 5 hours to work through Self-study Notebooks 10-14 and complete Exercise Notebooks 10-14.\n",
    "</div>"
   ]
  },
  {
   "cell_type": "markdown",
   "metadata": {
    "button": false,
    "new_sheet": false,
    "run_control": {
     "read_only": false
    }
   },
   "source": [
    "# Loops I - strings"
   ]
  },
  {
   "attachments": {
    "festuca.jpeg": {
     "image/jpeg": "[encoded data removed]"
    }
   },
   "cell_type": "markdown",
   "metadata": {
    "button": false,
    "new_sheet": false,
    "run_control": {
     "read_only": false
    }
   },
   "source": [
    "The power of computing lies in its ability to perform the same repetitive task many times very quickly. We do this using the concept of loops.\n",
    "\n",
    "To help motivate your understanding of loops, we will revisit the question in Notebook 4: How many \"f\"s are there in this sentence?\n",
    "\n",
    "<div class=\"alert alert-info\">\n",
    "\n",
    "![festuca.jpeg](attachment:festuca.jpeg)    \n",
    "\n",
    "<center>\n",
    "The embryo of <em>Festuca fusca</em>,<br>a native plant species of<br>Old-World countries, is almost<br>half the full length of its grain.\n",
    "</center>\n",
    "\n",
    "</div>\n",
    "\n"
   ]
  },
  {
   "cell_type": "markdown",
   "metadata": {},
   "source": [
    "## Looping through a string"
   ]
  },
  {
   "cell_type": "markdown",
   "metadata": {},
   "source": [
    "Before writing some code to answer this question, let's think how you would you do it by hand. \n",
    "\n",
    "1. Set up a tally of the number of \"f\"s, starting at zero.\n",
    "2. Read the first letter of the sentence. \n",
    "3. If it is an \"f\" increase the tally by 1, if it is not an \"f\" do nothing.\n",
    "4. Move onto the next letter and repeat Step 3 until you reach the end of the sentence.\n",
    "\n",
    "The important concept here is the loop between Step 3 and Step 4. You repeat a task (counting \"f\"s) until you reach the end of the sentence.\n",
    "\n",
    "In Python this is called **looping through a string**. \n",
    "\n",
    "<div class=\"alert alert-danger\">\n",
    "    \n",
    "Run the following code to see the basics of looping through a string using a **for** loop.\n",
    "</div>"
   ]
  },
  {
   "cell_type": "code",
   "execution_count": 0,
   "metadata": {
    "scrolled": true
   },
   "outputs": [],
   "source": [
    "sentence = 'The embryo of Festuca fusca, a native plant species of Old-World countries, is almost half the full length of its grain.'\n",
    "\n",
    "# Loop through each character (letters, spaces, and punctuation)\n",
    "# in the sentence from first to last and print each one.\n",
    "\n",
    "for c in sentence:  # start of the loop\n",
    "\n",
    "    print( c )      # this print() statement is indented and, therefore, in the loop"
   ]
  },
  {
   "cell_type": "markdown",
   "metadata": {},
   "source": [
    "The `for` loop starts at the line\n",
    "```python\n",
    "for c in sentence:\n",
    "```\n",
    "The colon at the end of this line is important; it tells Python that what follows is within the loop.\n",
    "\n",
    "The line\n",
    "```python\n",
    "    print( c )\n",
    "```\n",
    "is **indented**. This tells Python that it is within the loop. If we remove the indentation (try it) we'll get an `IndentationError` (as for conditional statements) because Python is expecting to find indented code just after we write a `for` loop. \n",
    "\n",
    "The code works like this. The first character in the variable `sentence` is the letter \"T\". The line of code `for c in sentence:` assigns the letter \"T\" to the string variable called `c`. Which means that the value of `c` is \"T\". We then print the value of `c`, i.e., we print \"T\". \n",
    "\n",
    "The loop moves onto the second character in `sentence` which is the letter \"h\". The variable `c` is assigned the value of \"h\" and then printed. \n",
    "\n",
    "The loop moves onto the third character in `sentence` which is \"e\". The variable `c` is assigned the value of \"e\" and then printed. \n",
    "\n",
    "And so on until the end of the sentence is reached and the last character, which is a full stop, is printed. At which point the code exits the loop and it is finished."
   ]
  },
  {
   "cell_type": "markdown",
   "metadata": {},
   "source": [
    "## The iterating variable"
   ]
  },
  {
   "cell_type": "markdown",
   "metadata": {},
   "source": [
    "The variable `c` in `for c in sentence:` has a special name because it forms part of the `for` loop. It is called an **iterating variable**."
   ]
  },
  {
   "cell_type": "markdown",
   "metadata": {},
   "source": [
    "## Counting \"f\"s"
   ]
  },
  {
   "cell_type": "markdown",
   "metadata": {},
   "source": [
    "Now that we've got the basics of a `for` loop we can use it to count the number of \"f\"s. \n",
    "\n",
    "<div class=\"alert alert-danger\">\n",
    "Read the following code to see if you can understand what it does before running it.\n",
    "</div>"
   ]
  },
  {
   "cell_type": "code",
   "execution_count": 0,
   "metadata": {},
   "outputs": [],
   "source": [
    "sentence = 'The embryo of Festuca fusca, a native plant species of Old-World countries, is almost half the full length of its grain.'\n",
    "\n",
    "# Initialise a tally to zero.\n",
    "count = 0\n",
    "\n",
    "# Loop through each character in sentence.\n",
    "for c in sentence:\n",
    "\n",
    "    # If the character is an \"f\" or an \"F\" then increase tally by 1.\n",
    "    if c == \"f\" or c == \"F\":\n",
    "        count += 1\n",
    "\n",
    "print( f'There are {count} \"f\"s in the sentence: \"{sentence}\"')"
   ]
  },
  {
   "cell_type": "markdown",
   "metadata": {},
   "source": [
    "We start by initialising the variable `sentence` and a tally called `count` to zero.\n",
    "\n",
    "The loop is entered. Everything indented below `for c in sentence:` is in the loop. \n",
    "\n",
    "The iterating variable `c` is assigned the value \"T\".\n",
    "\n",
    "We test the value of `c` to see if it equals \"f\" or \"F\". As it isn't nothing happens.\n",
    "\n",
    "After we've tested the value of `c` the loop moves onto the second character in `sentence`. `c` is assigned the value of \"h\" which is tested, and so on.\n",
    "\n",
    "When `c` equals \"F\" or \"f\" the tally `count` is incremented by 1. Notice that `count += 1` is double indented. This is because it is part of the condition `if c == \"f\" or c == \"F\":`, which, in turn, is part of the loop.\n",
    "\n",
    "Once the last character in sentence is tested (the full stop) the loop finishes and we drop out of the bottom of the loop. This is the first non-indented line after the loop. In this case it is the `print()` statement which outputs the number of \"f\"s found in `sentence`."
   ]
  },
  {
   "cell_type": "markdown",
   "metadata": {},
   "source": [
    "## Naming the iterating variable"
   ]
  },
  {
   "cell_type": "markdown",
   "metadata": {},
   "source": [
    "Many newcomers to Python incorrectly believe that the name of the iterating variable influences the function of the code. The name of the iterating variable is usually chosen to indicate what the variable will contain. However, it is useful to realise that the code in the following two loops are equivalent and do exactly the same thing. \n",
    "\n",
    "<div class=\"alert alert-danger\">\n",
    "Read the code then run it to see what happens.\n",
    "</div>"
   ]
  },
  {
   "cell_type": "code",
   "execution_count": 0,
   "metadata": {},
   "outputs": [],
   "source": [
    "rna_sequence = 'ACCGU'\n",
    "\n",
    "for nucleotide in rna_sequence:\n",
    "    print(nucleotide)\n",
    "\n",
    "print() # print a blank line\n",
    "\n",
    "for goat in rna_sequence:\n",
    "    print(goat)"
   ]
  },
  {
   "cell_type": "markdown",
   "metadata": {},
   "source": [
    "It is best to name the iterating variable something meaningful. The name `nucleotide` is meaningful in this loop, whereas `goat` is clearly not meaningful.\n",
    "\n",
    "Experiment with the above examples and you will see that any non-reserved word can be used as an iterating variable - as long as you change the variable within the loop to match."
   ]
  },
  {
   "cell_type": "markdown",
   "metadata": {},
   "source": [
    "## Exercise Notebook"
   ]
  },
  {
   "cell_type": "markdown",
   "metadata": {},
   "source": [
    "[Loops I - strings](../Exercises/10%20-%20Loops%20I%20-%20strings.ipynb)\n"
   ]
  },
  {
   "cell_type": "markdown",
   "metadata": {},
   "source": [
    "## Next Notebook"
   ]
  },
  {
   "cell_type": "markdown",
   "metadata": {},
   "source": [
    "[Lists](11%20-%20Lists.ipynb)\n"
   ]
  }
 ],
 "metadata": {
  "anaconda-cloud": {},
  "hide_input": false,
  "kernelspec": {
   "display_name": "Python 3",
   "language": "python",
   "name": "python3"
  },
  "language_info": {
   "codemirror_mode": {
    "name": "ipython",
    "version": 3
   },
   "file_extension": ".py",
   "mimetype": "text/x-python",
   "name": "python",
   "nbconvert_exporter": "python",
   "pygments_lexer": "ipython3",
   "version": "3.8.3"
  }
 },
 "nbformat": 4,
 "nbformat_minor": 4
}
