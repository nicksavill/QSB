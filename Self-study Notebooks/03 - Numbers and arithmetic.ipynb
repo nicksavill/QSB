{
 "cells": [
  {
   "cell_type": "markdown",
   "metadata": {},
   "source": [
    "# Numbers and arithmetic"
   ]
  },
  {
   "cell_type": "markdown",
   "metadata": {},
   "source": [
    "## Simple arithmetic"
   ]
  },
  {
   "cell_type": "markdown",
   "metadata": {},
   "source": [
    "In Python we can add (`2 + 3`), subtract (`2 - 3`), multiply (`2 * 3`) and divide (`2 / 3`) numbers. We can also raise a number to a power, e.g. 3 squared is `3**2`.\n",
    "\n",
    "<div class=\"alert alert-danger\">\n",
    "\n",
    "Try these out in following code. Remember to press **ctrl-enter** or **ctrl-return** to run the code cell.\n",
    "\n",
    "</div>\n",
    "\n",
    "The symbols `+`, `-`, `*`, `/` and `**` are called **arithmetic operators** in Python, that is, they \"operate\" on the numbers to give a result."
   ]
  },
  {
   "cell_type": "code",
   "execution_count": null,
   "metadata": {},
   "outputs": [],
   "source": [
    "# simple arithmetic\n",
    "2+3\n",
    "2-3"
   ]
  },
  {
   "cell_type": "markdown",
   "metadata": {},
   "source": [
    "<div class=\"alert alert-info\">\n",
    "\n",
    "### Jupyter Notebook output\n",
    "\n",
    "If we don't use `print()` in code cells, a Jupyter Notebook only outputs the last result when the code cell is run. Which means running \n",
    "```python\n",
    "2+3\n",
    "2*3\n",
    "```\n",
    "only outputs \n",
    "```python\n",
    "6\n",
    "```\n",
    "If we want to output more than one result we need to use `print()` like so:\n",
    "```python\n",
    "print( 2+3 )\n",
    "print( 2*3 )\n",
    "```\n",
    "which outputs\n",
    "```python\n",
    "5\n",
    "6\n",
    "```\n",
    "</div>\n",
    "\n"
   ]
  },
  {
   "cell_type": "markdown",
   "metadata": {},
   "source": [
    "## Precedence: The order of calculations matter"
   ]
  },
  {
   "cell_type": "markdown",
   "metadata": {},
   "source": [
    "Multiplication and division takes precedence over addition and substraction. Which means `2 + 3 * 4 = 14` not `20`. So `3 * 4` is done first (takes precedence) then the result is added to 2. \n",
    "\n",
    "We can override precedence rules by using parentheses. So `(2 + 3) * 4 = 20`. The parentheses force Python to calculate `(2 + 3)` first then multiply by `4`. \n",
    "\n",
    "Power takes precedence over multiplication and addition. So `2 * 3**2 = 18` not `36`. To override precedence so that the multiplication `2 * 3` is done first you would do `(2 * 3)**2`.\n",
    "\n",
    "<div class=\"alert alert-danger\">\n",
    "\n",
    "Try this out in the code cell below to convince yourself that order matters.\n",
    "\n",
    "</div>"
   ]
  },
  {
   "cell_type": "code",
   "execution_count": null,
   "metadata": {},
   "outputs": [],
   "source": [
    "# precedence\n",
    "print( 2 + 3 * 4 )\n",
    "print( (2 + 3) * 4 )"
   ]
  },
  {
   "cell_type": "markdown",
   "metadata": {},
   "source": [
    "## Number types: integers and floats"
   ]
  },
  {
   "cell_type": "markdown",
   "metadata": {},
   "source": [
    "Python has two types of numbers: whole numbers called integers (e.g., 0, 1, 7, 234, -5, -1002) and real numbers, called floats, which have a decimal point in them (e.g., 1.5, 5.678, -0.16). \n",
    "\n",
    "We can find the type of a number by using the function `type()`. \n",
    "\n",
    "<div class=\"alert alert-danger\">\n",
    "\n",
    "Run `type(1)` in the code cell below. The output is `int` which tells us that Python considers  `1` to be an integer. \n",
    "\n",
    "Now run `type(1.0)` in the code cell.\n",
    "\n",
    "</div>\n",
    "\n",
    "Unexpected? Because there is a decimal point in `1.0` Python considers it as a float and not an integer."
   ]
  },
  {
   "cell_type": "code",
   "execution_count": null,
   "metadata": {},
   "outputs": [],
   "source": [
    "# types of numbers\n",
    "type(1)"
   ]
  },
  {
   "cell_type": "markdown",
   "metadata": {},
   "source": [
    "Here's another operation to be careful of. What **type** of number do you get if you divide 6 by 2? \n",
    "\n",
    "6 divided by 2 is 3, which is an integer right? Wrong!\n",
    "\n",
    "<div class=\"alert alert-danger\">\n",
    "\n",
    "Run the following code to see.\n",
    "    \n",
    "</div>"
   ]
  },
  {
   "cell_type": "code",
   "execution_count": null,
   "metadata": {},
   "outputs": [],
   "source": [
    "print( 6 / 2 )\n",
    "type( 6 / 2 )"
   ]
  },
  {
   "cell_type": "markdown",
   "metadata": {},
   "source": [
    "Even though both 6 and 2 are integers (as they don't contain a decimal point) their division, by the division operator `/`, results in a float containing a decimal point. The division operator `/` always results in a float.\n",
    "\n",
    "Can we tell Python we want an integer result? Yes. Read on."
   ]
  },
  {
   "cell_type": "markdown",
   "metadata": {},
   "source": [
    "## Integer division and remainder (modulus)"
   ]
  },
  {
   "cell_type": "markdown",
   "metadata": {},
   "source": [
    "Consider the following arithmetic:\n",
    "* $\\frac{13}{3}$ is 4 remainder 1\n",
    "* $\\frac{6}{2}$ is 3 remainder 0\n",
    "* $\\frac{33}{5}$ is 6 remainder 3\n",
    "\n",
    "How can we do this arithmetic in Python?\n",
    "\n",
    "To get the quotient (i.e., the 4, 3 and 6 in the above) you can use the **integer division operator** `//` like so: `13 // 3`.\n",
    "\n",
    "To get the remainder (i.e., the 1, 0 and 3 in the above) you can use the **remainder operator** `%` (also known as the **modulus operator**) like so `13 % 3`.\n",
    "\n",
    "<div class=\"alert alert-danger\">\n",
    "\n",
    "Try this in the following code.\n",
    "\n",
    "</div>"
   ]
  },
  {
   "cell_type": "code",
   "execution_count": null,
   "metadata": {},
   "outputs": [],
   "source": [
    "# integer division and remainder\n",
    "print( 13 // 3 )\n",
    "print( 13 % 3 )\n",
    "\n",
    "\n",
    "print( type( 6 // 2 ) )"
   ]
  },
  {
   "cell_type": "markdown",
   "metadata": {},
   "source": [
    "## Rounding numbers"
   ]
  },
  {
   "cell_type": "markdown",
   "metadata": {},
   "source": [
    "If we run `1/7` in the following code cell we'll get a very long number. \n",
    "\n",
    "All those digits after the decimal point are not really necessary, especially when we are working with data collected from experiments or from the field. \n",
    "\n",
    "We can round the output of arithmetic to a given number of decimal places (dp for short) by using the `round()` function. For example, `round(1/7, 3)` will round to 3dp.\n",
    "\n",
    "<div class=\"alert alert-danger\">\n",
    "Try this in the following code.\n",
    "</div>"
   ]
  },
  {
   "cell_type": "code",
   "execution_count": null,
   "metadata": {},
   "outputs": [],
   "source": [
    "# rounding numbers\n",
    "1/7"
   ]
  },
  {
   "cell_type": "markdown",
   "metadata": {},
   "source": [
    "## Very large and very small numbers: Scientific E-notation"
   ]
  },
  {
   "cell_type": "markdown",
   "metadata": {},
   "source": [
    "The diameter of a bacterium is about 0.0000001 metres. The number of people on the planet is about 7,792,000,000. \n",
    "\n",
    "Writing out very small and very large numbers like this is tedious and error prone. They are also difficult to read.\n",
    "\n",
    "In science we use scientific notation to represent such numbers. So 0.0000001 is $1\\times 10^{-6}$ and 7,792,000,000 is $7.792\\times 10^{9}$. That is, we use powers of ten to represent these numbers. \n",
    "\n",
    "Python uses a similar notation called E-notation: It uses `e` or `E` instead of $\\times10$. The `e` stands for *exponent*. So $1\\times 10^{-6}$ is \n",
    "\n",
    "    1e-6 or 1E-6\n",
    "and $7.792\\times 10^{9}$ is\n",
    "\n",
    "    7.792e9 or 7.792E9\n",
    "\n",
    "You can use this notation when doing arithmetic as shown in the following code.\n",
    "\n",
    "\n",
    "<div class=\"alert alert-danger\">\n",
    "\n",
    "Run the following code to see the output.\n",
    "\n",
    "</div>\n",
    "\n"
   ]
  },
  {
   "cell_type": "code",
   "execution_count": null,
   "metadata": {},
   "outputs": [],
   "source": [
    "# e-notation\n",
    "print( 3.4e7 / 2.3E-9 )"
   ]
  },
  {
   "cell_type": "markdown",
   "metadata": {},
   "source": [
    "## Exercise Notebook"
   ]
  },
  {
   "cell_type": "markdown",
   "metadata": {},
   "source": [
    "[Numbers and arithmetic](../Exercises/03%20-%20Numbers%20and%20arithmetic.ipynb)"
   ]
  },
  {
   "cell_type": "markdown",
   "metadata": {},
   "source": [
    "## Next Notebook"
   ]
  },
  {
   "cell_type": "markdown",
   "metadata": {},
   "source": [
    "[Numerical variables](04%20-%20Numerical%20variables.ipynb)"
   ]
  }
 ],
 "metadata": {
  "kernelspec": {
   "display_name": "Python 3",
   "language": "python",
   "name": "python3"
  },
  "language_info": {
   "codemirror_mode": {
    "name": "ipython",
    "version": 3
   },
   "file_extension": ".py",
   "mimetype": "text/x-python",
   "name": "python",
   "nbconvert_exporter": "python",
   "pygments_lexer": "ipython3",
   "version": "3.8.3"
  }
 },
 "nbformat": 4,
 "nbformat_minor": 4
}
