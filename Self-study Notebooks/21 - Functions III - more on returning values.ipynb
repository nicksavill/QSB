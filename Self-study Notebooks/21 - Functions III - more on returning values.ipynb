{
 "cells": [
  {
   "cell_type": "markdown",
   "metadata": {},
   "source": [
    "# Functions III - more on returning values"
   ]
  },
  {
   "cell_type": "markdown",
   "metadata": {},
   "source": [
    "## Functions can return any type of variable"
   ]
  },
  {
   "cell_type": "markdown",
   "metadata": {},
   "source": [
    "Here is an example in which a function returns a list of the lengths of a list of DNA sequences passed to it. \n",
    "\n",
    "Within the function we create a new list with the DNA sequence lengths and return that list back to the call.\n",
    "\n",
    "<div class=\"alert alert-danger\">\n",
    "First read the following code then run it to see how to return a list from a function.\n",
    "</div>"
   ]
  },
  {
   "cell_type": "code",
   "execution_count": 1,
   "metadata": {},
   "outputs": [
    {
     "name": "stdout",
     "output_type": "stream",
     "text": [
      "[17, 12, 17, 14, 12]\n"
     ]
    }
   ],
   "source": [
    "def sequence_lengths(sequences):\n",
    "    \"\"\"Return a list of lengths of DNA sequences\"\"\"\n",
    "\n",
    "    # Create an empty list to store the sequence lengths.\n",
    "    seq_lengths = []\n",
    "\n",
    "    # Loop through the sequences appending each sequence's length to \"seq_lengths\".\n",
    "    for seq in sequences:\n",
    "        seq_lengths.append( len(seq) )\n",
    "\n",
    "    return seq_lengths\n",
    "\n",
    "\n",
    "\n",
    "dna_sequences = [ 'ACGTAATTACGTAACGT','ATGATATATCAT','ATTAGTACACCGAAAAG','GGACAAACCGTTTA','AAAGATATCTTT' ]\n",
    "\n",
    "print( sequence_lengths(dna_sequences) )"
   ]
  },
  {
   "cell_type": "markdown",
   "metadata": {},
   "source": [
    "## Functions can return more than one value"
   ]
  },
  {
   "cell_type": "markdown",
   "metadata": {},
   "source": [
    "The function `count_purines_pyrimidines()` in the following code takes a DNA sequence and returns the number of purines (A and G) **and** the number of pyrimidines (C and T).\n",
    "\n",
    "<div class=\"alert alert-danger\">\n",
    "First read the following code then run it to see how to return two values from a function.\n",
    "</div>"
   ]
  },
  {
   "cell_type": "code",
   "execution_count": 0,
   "metadata": {},
   "outputs": [],
   "source": [
    "def count_purines_pyrimidines(dna_seq):\n",
    "    \"\"\"Return the number of purines and pyrimidines in a DNA sequence\"\"\"\n",
    "\n",
    "    # Count the number of As and Gs in dna_seq.\n",
    "    purines = dna_seq.count('A') + dna_seq.count('G')\n",
    "    \n",
    "    # Count the number of Cs and Ts in dna_seq.\n",
    "    pyrimidines = dna_seq.count('C') + dna_seq.count('T')\n",
    "\n",
    "    return purines, pyrimidines\n",
    "\n",
    "\n",
    "\n",
    "\n",
    "# Assign a DNA sequence to variable dna_seq.\n",
    "dna_seq = 'ACTTTGAGGATTA'\n",
    "\n",
    "# Call the function to count the number of purines and pyrimidines in dna_seq.\n",
    "num_purines, num_pyrimidines = count_purines_pyrimidines( dna_seq )\n",
    "\n",
    "print(f'{num_purines} purines')\n",
    "print(f'{num_pyrimidines} pyrimidines')"
   ]
  },
  {
   "cell_type": "markdown",
   "metadata": {},
   "source": [
    "Note that the line that calls the function has two variables, `num_purines` and `num_pyrimidines` to capture the two values that are returned from the function."
   ]
  },
  {
   "cell_type": "markdown",
   "metadata": {},
   "source": [
    "## Exercise Notebook"
   ]
  },
  {
   "cell_type": "markdown",
   "metadata": {},
   "source": [
    "[Functions III - more on returning values](../Exercises/21%20-%20Functions%20III%20-%20more%20on%20returning%20values.ipynb)\n"
   ]
  },
  {
   "cell_type": "markdown",
   "metadata": {},
   "source": [
    "## Next Notebook"
   ]
  },
  {
   "cell_type": "markdown",
   "metadata": {},
   "source": [
    "[Modules](22%20-%20Modules.ipynb)\n"
   ]
  }
 ],
 "metadata": {
  "anaconda-cloud": {},
  "kernelspec": {
   "display_name": "Python 3",
   "language": "python",
   "name": "python3"
  },
  "language_info": {
   "codemirror_mode": {
    "name": "ipython",
    "version": 3
   },
   "file_extension": ".py",
   "mimetype": "text/x-python",
   "name": "python",
   "nbconvert_exporter": "python",
   "pygments_lexer": "ipython3",
   "version": "3.8.3"
  }
 },
 "nbformat": 4,
 "nbformat_minor": 4
}
