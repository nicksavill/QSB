{
 "cells": [
  {
   "cell_type": "markdown",
   "metadata": {},
   "source": [
    "<div class=\"alert alert-info\">\n",
    "\n",
    "## It should take you 3 to 5 hours to work through Self-study Notebooks 19-22 and complete Exercise Notebooks 19-22.\n",
    "</div>"
   ]
  },
  {
   "cell_type": "markdown",
   "metadata": {},
   "source": [
    "# Functions I - the basics"
   ]
  },
  {
   "cell_type": "markdown",
   "metadata": {
    "button": false,
    "new_sheet": false,
    "run_control": {
     "read_only": false
    }
   },
   "source": [
    "## What is a function?"
   ]
  },
  {
   "cell_type": "markdown",
   "metadata": {
    "button": false,
    "new_sheet": false,
    "run_control": {
     "read_only": false
    }
   },
   "source": [
    "We've used the word \"function\" many times in this course, but what is a function?\n",
    "\n",
    "We have already been using some of Python's **in-built** functions such as `print()`, `len()` and `range()`. \n",
    "\n",
    "Foe example, when we use the function `len()` in the command\n",
    "```python\n",
    "word_length = len( 'Hello' )\n",
    "```\n",
    "Python uses code that has already been written by someone else to count the number of characters in the string \"Hello\" and gives us back the number of characters. The code for the function `len()` exists within CoCalc, but you cant't see it (unless you know where to look). In this example we have stored the number of characters (which is, of course, 5) in a variable called `word_length`.\n",
    "\n",
    "The function `len()` doesn't just count the number of characters in the specific string \"Hello\" though. `len()` is general; it can count the number of characters in **any** word or sentence we give it. This generality is one of a number of reasons why functions are useful.\n",
    "\n",
    "For example,\n",
    "```python\n",
    "len( 'ACCGTTGGAA' )\n",
    "```\n",
    "gives back (or \"returns\" to use the correct technical jargon) the value 10, and\n",
    "```python\n",
    "len( 'My word' )\n",
    "```\n",
    "returns the value 7.\n",
    "\n",
    "Here's another example. When we use the function `sorted()` in the following code\n",
    "```python\n",
    "diameters = [11, 11, 13.5, 7.5, 13.5, 22.5]\n",
    "ascending_diameters = sorted( diameters )\n",
    "```\n",
    "\n",
    "Python uses **in-built** code to sort the numbers in the list called `diameters` and returns that list sorted from lowest to highest. In this example we have then stored the sorted list in the variable called `ascending_diameters`. Again, `sorted()` is general because it can sort **any** list we give it. In fact, it's even more general because it can sort lists of numbers numerically as well as lists of words alphabetically. \n",
    "\n",
    "\n",
    "In conclusion, a function takes a piece of information and returns to us a different piece of information. Specifically, `len()` takes a string and returns the number of characters it contains, `sorted()` takes an unordered list and returns an ordered one.\n",
    "\n",
    "Python has many in-built functions such as `len()` and `sorted()`. This means they are always available for us to run from our code. However, we can also define our own functions, and this is what we'll be looking at this week. \n",
    "\n",
    "The concept of functions can be hard to grasp at first. So let's start by defining a simple function and describing what it does and how it works."
   ]
  },
  {
   "cell_type": "markdown",
   "metadata": {
    "button": false,
    "new_sheet": false,
    "run_control": {
     "read_only": false
    }
   },
   "source": [
    "## A simple function: Fahrenheit to Celsius conversion"
   ]
  },
  {
   "cell_type": "markdown",
   "metadata": {
    "button": false,
    "new_sheet": false,
    "run_control": {
     "read_only": false
    }
   },
   "source": [
    "Let's write a function that converts degrees Fahrenheit to degrees Celsius. Recall that the conversion formula is\n",
    "\n",
    "$\\text{Celsius} = \\frac{5}{9}\\times (\\text{Fahrenheit}-32)$\n",
    "\n",
    "<div class=\"alert alert-danger\">\n",
    "If you run this code nothing will (appear to) happen.\n",
    "</div>"
   ]
  },
  {
   "cell_type": "code",
   "execution_count": null,
   "metadata": {},
   "outputs": [],
   "source": [
    "# Define a function to convert degrees fahrenheit into degrees celsius \n",
    "def fahrenheit_to_celsius(fahrenheit):\n",
    "    \n",
    "    # This is the conversion formula\n",
    "    celsius = 5/9*(fahrenheit-32)\n",
    "    \n",
    "    # Return the result of the conversion\n",
    "    return celsius"
   ]
  },
  {
   "cell_type": "markdown",
   "metadata": {
    "button": false,
    "new_sheet": false,
    "run_control": {
     "read_only": false
    }
   },
   "source": [
    "Why didn't anything happpen when you ran this code?\n",
    "\n",
    "That's because all we are doing is **defining** a function called `fahrenheit_to_celsius()`. That is what <span style=\"color:purple; font-weight:bold\"> def </span> stands for. When we define a function it is saved in computer memory ready to be used later (just like a variable).\n",
    "\n",
    "In order to get the function to do something we need to **call** it by using its name.\n",
    "\n",
    "<div class=\"alert alert-danger\">\n",
    "Read and run the following code to see how this is done. (Make sure you have run the above code first before running the code below.)\n",
    "</div>"
   ]
  },
  {
   "cell_type": "code",
   "execution_count": null,
   "metadata": {},
   "outputs": [],
   "source": [
    "# Example 1\n",
    "\n",
    "# Convert 100 degrees fahrenheit to degrees Celsius.\n",
    "# Call the function fahrenheit_to_celsius(100) and assign it to the variable c.\n",
    "c = fahrenheit_to_celsius( 100 )\n",
    "\n",
    "# Print out the result of the conversion to 1dp\n",
    "print( f'100 degrees Fahrenheit is {c:.1f} degrees C')\n",
    "\n",
    "\n",
    "\n",
    "# Example 2\n",
    "\n",
    "# Convert 15 degrees fahrenheit to degrees Celsius.\n",
    "# Call the function fahrenheit_to_celsius(15) and assign it to the variable c.\n",
    "c = fahrenheit_to_celsius( 15 )\n",
    "\n",
    "# Print out the result of the conversion to 1dp\n",
    "print( f'15 degrees Fahrenheit is {c:.1f} degrees C')"
   ]
  },
  {
   "cell_type": "markdown",
   "metadata": {},
   "source": [
    "## How functions work"
   ]
  },
  {
   "cell_type": "markdown",
   "metadata": {},
   "source": [
    "Let's explain the syntax of the function definition we wrote above. The line \n",
    "```python \n",
    "def fahrenheit_to_celsius(fahrenheit):\n",
    "```\n",
    "tells Python that what we are about to do is define a function called `fahrenheit_to_celsius()`. The colon is necessary because it tells Python that all indented lines below it are within the function.\n",
    "\n",
    "The `fahrenheit` within the parentheses of `fahrenheit_to_celsius(fahrenheit)` is a variable that takes on the value that we pass to the function when we call it. (It's technical term is a **parameter**.) So when we called the function with\n",
    "```python\n",
    "c = fahrenheit_to_celsius( 100 )\n",
    "```\n",
    "the variable `fahrenheit` in the function `fahrenheit_to_celsius(fahrenheit)` was assigned the value 100. And when we called the function with\n",
    "```python\n",
    "c = fahrenheit_to_celsius( 15 )\n",
    "```\n",
    "`fahrenheit`  in the function `fahrenheit_to_celsius(fahrenheit)` was assigned the value 15.\n",
    "\n",
    "\n",
    "The next line is\n",
    "```python\n",
    "    celsius = 5/9*(fahrenheit-32)\n",
    "```\n",
    "which does the conversion: converting the value stored in `fahrenheit` (e.g., 100 or 15) and storing the result in the variable called `celsius`.\n",
    "\n",
    "The next line is\n",
    "```python\n",
    "    return celsius\n",
    "```\n",
    "which returns the value of `celsius` back to the call.\n",
    "\n",
    "When we **call** a function, Python jumps into the function and executes the code inside it. Python then returns a value back to the call which can then be stored in a variable or printed out or whatever we need to do with it.\n",
    "\n",
    "The important thing to remember is that the code within the function is only run when the function is **called**.\n",
    "\n",
    "So going back to our first example, the code in the in-built function `len()` (which we can't see but is there in computer memory) is only run when it is called like so:\n",
    "```python\n",
    "word_length = len( 'Hello' )\n",
    "```\n",
    "\n",
    "#### Don't worry\n",
    "Functions can take some time to understand because your program jumps into and out of functions rather than the line-by-line order you're used to. They can also use different variable names than the code that calls them. But once you've got your head around the way they work you will begin to appreciate how useful they are. Like anything, the best way to understand functions, and how to write them, is by practicing."
   ]
  },
  {
   "cell_type": "markdown",
   "metadata": {},
   "source": [
    "## Functions must be defined before they are called"
   ]
  },
  {
   "cell_type": "markdown",
   "metadata": {},
   "source": [
    "In the following code the function `double_a_number()` is called before it is defined. If you run it you will see it gives a `NameError` because the function's definition was not saved in memory before it was called.\n",
    "\n",
    "<div class=\"alert alert-danger\">\n",
    "Modify the following code to make it work.\n",
    "</div>"
   ]
  },
  {
   "cell_type": "code",
   "execution_count": null,
   "metadata": {},
   "outputs": [],
   "source": [
    "print( double_a_number(3) )\n",
    "\n",
    "# define a function to return double the number passed to it\n",
    "def double_a_number(x):\n",
    "    return 2*x"
   ]
  },
  {
   "cell_type": "markdown",
   "metadata": {},
   "source": [
    "## Doc-strings"
   ]
  },
  {
   "cell_type": "markdown",
   "metadata": {},
   "source": [
    "There is a special way of adding a comment at the start of a function to say what the function does. These are called **doc-strings**. They are enclosed in triple quotes as shown in the following code.\n",
    "\n",
    "You should always add a doc-string to any of your functions, however simple they may be."
   ]
  },
  {
   "cell_type": "code",
   "execution_count": null,
   "metadata": {},
   "outputs": [],
   "source": [
    "def fahrenheit_to_celsius(fahrenheit):\n",
    "    \"\"\"Convert degrees fahrenheit into degrees celsius\"\"\" \n",
    "    \n",
    "    celsius = 5/9*(fahrenheit-32)\n",
    "    \n",
    "    return celsius"
   ]
  },
  {
   "cell_type": "markdown",
   "metadata": {},
   "source": [
    "Doc-strings are used by Python to provide documentation to users. You can get documentation on any of Python's functions by typing\n",
    "```python\n",
    "help( function_name )\n",
    "```\n",
    "So if we type\n",
    "```python\n",
    "help( fahrenheit_to_celsius )\n",
    "```\n",
    "Python prints out the doc-string we wrote in our function."
   ]
  },
  {
   "cell_type": "code",
   "execution_count": null,
   "metadata": {},
   "outputs": [],
   "source": [
    "help( fahrenheit_to_celsius )"
   ]
  },
  {
   "cell_type": "markdown",
   "metadata": {},
   "source": [
    "<div class=\"alert alert-danger\">\n",
    "\n",
    "Try typing `help( function_name )` for other functions like `print`, `type`, `round`, `len`, `input`, `float`, `int`, `sorted`, `range` and `help`. \n",
    "\n",
    "As you will find, the documentation of inbuilt functions assumes quite a high degree of knowledge about Python. So it's better to use online websites to help you code. \n",
    "</div>"
   ]
  },
  {
   "cell_type": "code",
   "execution_count": null,
   "metadata": {},
   "outputs": [],
   "source": [
    "help(help)"
   ]
  },
  {
   "cell_type": "markdown",
   "metadata": {},
   "source": [
    "## Calculations can be done on the same line as `return`"
   ]
  },
  {
   "cell_type": "markdown",
   "metadata": {},
   "source": [
    "We can remove the intermediate step in the function of assigning the conversion to the variable `celsius`. The conversion can be done on the same line as the `return` statement like so:"
   ]
  },
  {
   "cell_type": "code",
   "execution_count": null,
   "metadata": {},
   "outputs": [],
   "source": [
    "def fahrenheit_to_celsius(fahrenheit):\n",
    "    \"\"\"Convert degrees fahrenheit into degrees celsius\"\"\" \n",
    "    return 5/9*(fahrenheit-32)"
   ]
  },
  {
   "cell_type": "markdown",
   "metadata": {},
   "source": [
    "## Exercise Notebook"
   ]
  },
  {
   "cell_type": "markdown",
   "metadata": {},
   "source": [
    "[Functions I - the basics](../Exercises/19%20-%20Functions%20I%20-%20the%20basics.ipynb)\n"
   ]
  },
  {
   "cell_type": "markdown",
   "metadata": {},
   "source": [
    "## Next Notebook"
   ]
  },
  {
   "cell_type": "markdown",
   "metadata": {},
   "source": [
    "[Functions II - more on passing values](20%20-%20Functions%20II%20-%20more%20on%20passing%20values.ipynb)\n"
   ]
  }
 ],
 "metadata": {
  "anaconda-cloud": {},
  "kernelspec": {
   "display_name": "Python 3",
   "language": "python",
   "name": "python3"
  },
  "language_info": {
   "codemirror_mode": {
    "name": "ipython",
    "version": 3
   },
   "file_extension": ".py",
   "mimetype": "text/x-python",
   "name": "python",
   "nbconvert_exporter": "python",
   "pygments_lexer": "ipython3",
   "version": "3.8.3"
  }
 },
 "nbformat": 4,
 "nbformat_minor": 4
}
