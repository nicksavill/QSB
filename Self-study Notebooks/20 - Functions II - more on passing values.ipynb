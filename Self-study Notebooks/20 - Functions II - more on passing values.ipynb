{
 "cells": [
  {
   "cell_type": "markdown",
   "metadata": {
    "button": false,
    "new_sheet": false,
    "run_control": {
     "read_only": false
    }
   },
   "source": [
    "# Functions II - more on passing values"
   ]
  },
  {
   "cell_type": "markdown",
   "metadata": {},
   "source": [
    "## Variables can be passed to functions"
   ]
  },
  {
   "cell_type": "markdown",
   "metadata": {},
   "source": [
    "In the last Notebook we passed a number (degrees Fahrenheit) to the function `fahrenheit_to_celsius()`. We can also pass variables to functions.\n",
    "\n",
    "<div class=\"alert alert-danger\">\n",
    "Run the following code to see how to pass variable to functions.\n",
    "</div>"
   ]
  },
  {
   "cell_type": "code",
   "execution_count": null,
   "metadata": {},
   "outputs": [],
   "source": [
    "def fahrenheit_to_celsius(fahrenheit):\n",
    "    \"\"\"Convert degrees fahrenheit into degrees celsius\"\"\" \n",
    "    return 5/9*(fahrenheit-32)\n",
    "\n",
    "\n",
    "\n",
    "# Assign the value of 100 to the variable f, convert it to Celsius and store the result in variable c\n",
    "f = 100\n",
    "c = fahrenheit_to_celsius( f )\n",
    "\n",
    "# Print out the result of the conversion to 1dp\n",
    "print( f'{f} degrees Fahrenheit is {c:.1f} degrees C')\n"
   ]
  },
  {
   "cell_type": "markdown",
   "metadata": {},
   "source": [
    "We first define the function, then we call it by passing the value stored in the variable `f` (which is 100) to the function.\n",
    "\n",
    "An important point to notice here is that the name of the variable passed to the function (which is `f`) is different from the name of function's parameter (which is `fahrenheit`). **These two variables do not need to have the same name**.\n",
    "\n",
    "This is because it is the **value** of `f` that is passed, not `f` itself. As `f` equals 100, the value 100 is passed to the function, and this value is assigned to the parameter `fahrenheit`, i.e., the value of `fahrenheit` becomes 100. \n",
    "\n",
    "Some more terminology. The thing passed to the function is called the function's **argument**. "
   ]
  },
  {
   "cell_type": "markdown",
   "metadata": {},
   "source": [
    "## Functions become useful when applied to many values"
   ]
  },
  {
   "cell_type": "markdown",
   "metadata": {},
   "source": [
    "Writing a function to do a single calculation, like converting 100 degrees Fahrenheit to Celsius, is pointless.\n",
    "\n",
    "Functions become useful when they perform the same task on many different values passed to them. \n",
    "\n",
    "For example, say we have been given a list of patient temperatures in Fahrenheit and we want to convert them all to degrees Celsius. If we had 1,000 patients, say, having a function to do this for us is very efficient. Let's demonstrate on a list of ten patients.\n",
    "\n",
    "<div class=\"alert alert-danger\">\n",
    "Run the following code to see how to efficiently use a function on many values.\n",
    "</div>"
   ]
  },
  {
   "cell_type": "code",
   "execution_count": null,
   "metadata": {},
   "outputs": [],
   "source": [
    "# A list of patient tempertaures in degrees Fahrenheit\n",
    "patient_temp_F = [99.1, 100.5, 100.1, 98.6, 99.8, 100.0, 98.9, 100.2, 99.9, 99.7]\n",
    "\n",
    "# An empty list of patient temperatures in degrees Celsius\n",
    "patient_temp_C = []\n",
    "\n",
    "# Loop through all patients and convert their temperatures from Fahreneheit to Celsius\n",
    "for temp in patient_temp_F:\n",
    "    \n",
    "    # Append each patient's temperature (in degrees C) to the list patient_temp_C\n",
    "    patient_temp_C.append( fahrenheit_to_celsius(temp) )\n",
    "    \n",
    "print( patient_temp_C )"
   ]
  },
  {
   "cell_type": "markdown",
   "metadata": {},
   "source": [
    "We start with a list of patient temperatures in Fahrenheit `patient_temp_F`. We loop through this list with iterating variable called `temp`, calling the conversion function on each of its values. The returned values in degrees Celsius are appended to a new list called `patient_temp_C` which is finally printed out. "
   ]
  },
  {
   "cell_type": "markdown",
   "metadata": {},
   "source": [
    "## Lists and dictionaries can be passed to functions"
   ]
  },
  {
   "cell_type": "markdown",
   "metadata": {
    "button": false,
    "new_sheet": false,
    "run_control": {
     "read_only": false
    }
   },
   "source": [
    "So far we have just looked at a function that takes a number (degrees Fahrenheit) and converts it to another number (degrees Celsius). In fact we can pass any type of variable to a function: a number, a string, a list or a dictionary. \n",
    "\n",
    "We've seen examples of this in Python's in-built functions. For example, the function `sorted()` takes a list and sorts it.\n",
    "\n",
    "<div class=\"alert alert-danger\">\n",
    "The code below defines a function whose argument is a list of numbers and returns the average of the numbers in the list.\n",
    "</div>"
   ]
  },
  {
   "cell_type": "code",
   "execution_count": null,
   "metadata": {},
   "outputs": [],
   "source": [
    "def average(list_of_numbers):\n",
    "    \"\"\"calculate the average of list_of_numbers\"\"\"\n",
    "    return sum(list_of_numbers) / len(list_of_numbers)\n",
    "\n",
    "\n",
    "# Assign a list of numbers to the variable x\n",
    "x = [2, 2, 4, 4, 5]\n",
    "\n",
    "# Calculate its average value\n",
    "print(f'average = {average(x)}')"
   ]
  },
  {
   "cell_type": "markdown",
   "metadata": {},
   "source": [
    "## Functions can be arguments"
   ]
  },
  {
   "cell_type": "markdown",
   "metadata": {},
   "source": [
    "<div class=\"alert alert-danger\">\n",
    "Run the following code.\n",
    "</div>\n",
    "\n",
    "The argument passed to `print()` is the function `len()` with the argument `'Hello'`."
   ]
  },
  {
   "cell_type": "code",
   "execution_count": null,
   "metadata": {},
   "outputs": [],
   "source": [
    "print( len( 'Hello' ) )"
   ]
  },
  {
   "cell_type": "markdown",
   "metadata": {},
   "source": [
    "## Functions can have more than one argument"
   ]
  },
  {
   "cell_type": "markdown",
   "metadata": {},
   "source": [
    "Our functions so far have taken a single argument. But functions can have any number of arguments.\n",
    "\n",
    "Look at the following example of a function that takes two arguments, a forename and surname, and formats them so that the surname is all in capitals and the forename is capitalised.\n",
    "\n",
    "<div class=\"alert alert-danger\">\n",
    "Run the following code to see how to define a function that takes two arguments.\n",
    "</div>\n"
   ]
  },
  {
   "cell_type": "code",
   "execution_count": null,
   "metadata": {},
   "outputs": [],
   "source": [
    "def format_name(forename, surname):\n",
    "    \"\"\"format a persons name as 'SURNAME, forname' with surname in capitals\"\"\"\n",
    "    return f'{surname.upper()}, {forename.capitalize()}'\n",
    "\n",
    "\n",
    "\n",
    "# Call the function with someone's name\n",
    "print( format_name('harry', 'potter') )\n"
   ]
  },
  {
   "cell_type": "markdown",
   "metadata": {},
   "source": [
    "## Exercise Notebook"
   ]
  },
  {
   "cell_type": "markdown",
   "metadata": {},
   "source": [
    "[Functions II - more on passing values](../Exercises/20%20-%20Functions%20II%20-%20more%20on%20passing%20values.ipynb)\n"
   ]
  },
  {
   "cell_type": "markdown",
   "metadata": {},
   "source": [
    "## Next Notebook"
   ]
  },
  {
   "cell_type": "markdown",
   "metadata": {},
   "source": [
    "[Functions III - more on returning values](21%20-%20Functions%20III%20-%20more%20on%20returning%20values.ipynb)\n"
   ]
  }
 ],
 "metadata": {
  "anaconda-cloud": {},
  "kernelspec": {
   "display_name": "Python 3",
   "language": "python",
   "name": "python3"
  },
  "language_info": {
   "codemirror_mode": {
    "name": "ipython",
    "version": 3
   },
   "file_extension": ".py",
   "mimetype": "text/x-python",
   "name": "python",
   "nbconvert_exporter": "python",
   "pygments_lexer": "ipython3",
   "version": "3.8.3"
  }
 },
 "nbformat": 4,
 "nbformat_minor": 4
}
