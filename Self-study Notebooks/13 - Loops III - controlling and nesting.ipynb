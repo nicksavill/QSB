{
 "cells": [
  {
   "cell_type": "markdown",
   "metadata": {
    "button": false,
    "new_sheet": false,
    "run_control": {
     "read_only": false
    }
   },
   "source": [
    "# Loops III - controlling and nesting loops"
   ]
  },
  {
   "cell_type": "markdown",
   "metadata": {
    "button": false,
    "new_sheet": false,
    "run_control": {
     "read_only": false
    }
   },
   "source": [
    "## Breaking out of a loop: `break`"
   ]
  },
  {
   "cell_type": "markdown",
   "metadata": {
    "button": false,
    "new_sheet": false,
    "run_control": {
     "read_only": false
    }
   },
   "source": [
    "In Exercise 12.3 we looped through **all** DNA sequences in the list `DNA_sequences` testing if they contained the start codon \"ATG\".\n",
    "\n",
    "Say, for example, we want to loop through the list until we find the first DNA sequence containing a start codon and then we stop looping. We can do this by **breaking out of the loop** early when we find the first sequence with a start codon, i.e., before we reach the end of the list.\n",
    "\n",
    "<div class=\"alert alert-danger\">\n",
    "The following code shows how this is done.\n",
    "</div>"
   ]
  },
  {
   "cell_type": "code",
   "execution_count": null,
   "metadata": {},
   "outputs": [],
   "source": [
    "DNA_sequences = [\"GCTACGCTGGC\", \"ATGCACGACGT\", \"TAAGCCGGTAG\", \"AGTTGGAAATC\"]\n",
    "\n",
    "# This code looks for the first DNA sequence in the list which contains the start codon ATG.\n",
    "# So that we know such a sequence has been found we assign an empty string to a variable called found.\n",
    "# If no such sequence has been found, found will still be empty after looping through the list.\n",
    "# If a sequence is found then found will be assigned that sequence.\n",
    "found = ''\n",
    "\n",
    "# Loop through DNA_sequences one sequence at a time.\n",
    "for dna_seq in DNA_sequences:\n",
    "\n",
    "    # Test if the start codon ATG is in the current DNA sequence.\n",
    "    # If it is, assign the sequence to found and immediately\n",
    "    # break out of the loop without testing the remaining DNA sequences.\n",
    "    # If it isn't, do nothing a keep looping through the list.\n",
    "    if 'ATG' in dna_seq:\n",
    "        found = dna_seq\n",
    "        break\n",
    "\n",
    "# If found is not an empty string then we have found a sequence with ATG.\n",
    "if found:\n",
    "    print( f'The first DNA sequence to contain ATG is {found}' )\n",
    "\n",
    "else:\n",
    "    print( 'No DNA sequence contains ATG' )\n"
   ]
  },
  {
   "cell_type": "markdown",
   "metadata": {},
   "source": [
    "As we loop through the list of DNA sequences we test if the start codon \"ATG\" is in the current sequence. If it isn't we do nothing a move on to the next sequence in the list. However, if \"ATG\" is in the current sequence we assign the sequence to the variable `found` (which was previously empty) and immediately **break** out of the loop without testing the remaining sequences.\n",
    "\n",
    "If no sequence in the list contains \"ATG\" then we will loop through all sequences in the list and the variable `found` will still be empty after we exit the loop normally.\n",
    "\n",
    "Next we do something we haven't seen before. We test if `found` is non-empty, which means it contains a DNA sequence. If it is non-empty then the condition\n",
    "```python\n",
    "if found:\n",
    "```\n",
    "is True and we print the sequence with \"ATG\" in it. However, if `found` is still empty then the condition `if found:` is False and therefore we print that no DNA sequence with ATG in it was found. \n",
    "\n",
    "<div class=\"alert alert-danger\">\n",
    "    \n",
    "If you remove the \"ATG\" in the second sequence in the list `DNA_sequences` and rerun the code you will see that no sequence with a start codon is found.\n",
    "</div>"
   ]
  },
  {
   "cell_type": "markdown",
   "metadata": {},
   "source": [
    "## Nested loops"
   ]
  },
  {
   "cell_type": "markdown",
   "metadata": {},
   "source": [
    "Loops can be nested, i.e., one loop inside another. \n",
    "\n",
    "In the following code we count the number of occurrences of each base in each DNA sequence in a list.\n",
    "\n",
    "<div class=\"alert alert-danger\">\n",
    "Read the following code to see if you understand it then run it.\n",
    "</div>"
   ]
  },
  {
   "cell_type": "code",
   "execution_count": null,
   "metadata": {},
   "outputs": [],
   "source": [
    "DNA_sequences = [\"GCTACGCTGGC\", \"ACGCACGACGC\", \"TAAGCCGGTAG\", \"AGTTGGAAATC\"]\n",
    "\n",
    "# Loop through each DNA sequence in the list one at a time.\n",
    "for dna_seq in DNA_sequences:\n",
    "\n",
    "    # Print the DNA sequence.\n",
    "    print(dna_seq)\n",
    "\n",
    "    # Loop through the four bases A, C, G and T one at a time.\n",
    "    for base in 'ACGT':\n",
    "\n",
    "        # Count the number of occurrences of the current base in the DNA sequence.\n",
    "        count_base = dna_seq.count(base)\n",
    "\n",
    "        if count_base == 1:\n",
    "            # If there is a single occurrence of the current base print this:\n",
    "            print( f'There is {count_base} \"{base}\"' )\n",
    "        else:\n",
    "            # Otherwise there are no, or more than one, occurrences so print this:\n",
    "            print( f'There are {count_base} \"{base}\"s' )\n",
    "\n",
    "    # Print a blank line to separate the output for each DNA sequence.\n",
    "    print()"
   ]
  },
  {
   "cell_type": "markdown",
   "metadata": {},
   "source": [
    "In the top loop we loop through each DNA sequence: `dna_seq` is the iterating variable. So on the first iteration `dna_seq` will be \"GCTACGCTGGC\".\n",
    "\n",
    "We then loop through the four bases A, C, G and T in turn. `base` is the iterating variable. On the first iteration `base` will be \"A\", on the second it will be \"C\" and so on. Note that this loop is indented, which means it is inside the previous loop. So this loop is repeated for each and every DNA sequence.\n",
    "\n",
    "We use the string method `count()` to count the number of occurrences of `base` in `dna_seq` and print out the result.\n",
    "\n",
    "We use a conditional statement to test if there is just one occurrence of a base so that the output is grammatically correct."
   ]
  },
  {
   "cell_type": "markdown",
   "metadata": {},
   "source": [
    "## Exercise Notebook"
   ]
  },
  {
   "cell_type": "markdown",
   "metadata": {},
   "source": [
    "[Loops III - controlling and nesting](../Exercises/13%20-%20Loops%20III%20-%20controlling%20and%20nesting.ipynb)\n"
   ]
  },
  {
   "cell_type": "markdown",
   "metadata": {},
   "source": [
    "## Next Notebook"
   ]
  },
  {
   "cell_type": "markdown",
   "metadata": {},
   "source": [
    "[Loops IV - looping by index](14%20-%20Loops%20IV%20-%20looping%20by%20index.ipynb)\n"
   ]
  }
 ],
 "metadata": {
  "anaconda-cloud": {},
  "hide_input": false,
  "kernelspec": {
   "display_name": "Python 3",
   "language": "python",
   "name": "python3"
  },
  "language_info": {
   "codemirror_mode": {
    "name": "ipython",
    "version": 3
   },
   "file_extension": ".py",
   "mimetype": "text/x-python",
   "name": "python",
   "nbconvert_exporter": "python",
   "pygments_lexer": "ipython3",
   "version": "3.8.3"
  }
 },
 "nbformat": 4,
 "nbformat_minor": 4
}
