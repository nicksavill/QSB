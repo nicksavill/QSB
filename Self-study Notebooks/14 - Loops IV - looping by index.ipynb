{
 "cells": [
  {
   "cell_type": "markdown",
   "metadata": {},
   "source": [
    "# Loops IV - looping by index"
   ]
  },
  {
   "cell_type": "markdown",
   "metadata": {},
   "source": [
    "We have so far only concerned ourselves with looping over a single list. Now we consider how to loop over multiple lists simultaneously.\n",
    "\n",
    "But before we do that we need to introduce a new function called `range()`."
   ]
  },
  {
   "cell_type": "markdown",
   "metadata": {},
   "source": [
    "## How `range()` works"
   ]
  },
  {
   "cell_type": "markdown",
   "metadata": {},
   "source": [
    "In its simplest form `range(n)` produces a sequence of ascending integers starting from zero and ending at `n-1`. The following code shows how it works. \n",
    "\n",
    "<div class=\"alert alert-danger\">\n",
    "Run the following code to see how it works.\n",
    "</div>"
   ]
  },
  {
   "cell_type": "code",
   "execution_count": 0,
   "metadata": {},
   "outputs": [],
   "source": [
    "# A loop that iterates 3 times.\n",
    "for i in range(3):\n",
    "\n",
    "    print( i )"
   ]
  },
  {
   "cell_type": "markdown",
   "metadata": {},
   "source": [
    "In this example the loop iterates 3 times. The iterating variable is `i`. On the first iteration `i` is assigned the value 0, on the second iteration `i` is assigned the value 1, and on the third and last iteraton `i` is assigned the value 2.\n",
    "\n",
    "Using `range(n, m)` produces a sequence of ascending integers starting at `n` and ending at `m-1`. The following code shows how it works. \n",
    "\n",
    "<div class=\"alert alert-danger\">\n",
    "Run the following code to see how it works.\n",
    "</div>"
   ]
  },
  {
   "cell_type": "code",
   "execution_count": 0,
   "metadata": {},
   "outputs": [],
   "source": [
    "# A loop that iterates 3 times staring at 5 and ending at 7.\n",
    "for i in range(5, 8):\n",
    "\n",
    "    print( i )"
   ]
  },
  {
   "cell_type": "markdown",
   "metadata": {},
   "source": [
    "Finally, using `range(n, m, s)` produces a sequence of ascending integers starting at `n`, ending at `m-1` and with a step size `s`. The following code shows how it works. \n",
    "\n",
    "<div class=\"alert alert-danger\">\n",
    "Run the following code to see how it works.\n",
    "</div>"
   ]
  },
  {
   "cell_type": "code",
   "execution_count": 0,
   "metadata": {},
   "outputs": [],
   "source": [
    "# A loop that iterates 4 times staring at 0 and ending at 9 with a step size of 3.\n",
    "for i in range(0, 10, 3):\n",
    "\n",
    "    print( i )"
   ]
  },
  {
   "cell_type": "markdown",
   "metadata": {},
   "source": [
    "## Using `range()` to loop through strings"
   ]
  },
  {
   "cell_type": "markdown",
   "metadata": {},
   "source": [
    "In loops, `range()` is commonly used to access characters in a string using their indices. Remember from Notebook 6 that each character in a string has an index (or position) and we can use that index to access the character from the string. This table shows the indices of the string \"Hello, world!\" which we saw in Notebook 6.\n",
    "\n",
    "string: | H | e | l | l | o | , | | W | o | r | l | d | !  \n",
    ":---|:---:|:---:|:---:|:---:|:---:|:---:|:---:|:---:|:---:|:---:|:---:|:---:|:---:\n",
    "index: | 0 | 1 | 2 | 3 | 4 | 5 | 6 | 7 | 8 | 9 | 10 | 11 | 12\n",
    "\n",
    "The following code prints the indicies of all characters in \"Hello, world!\" using `range()`\n",
    "\n",
    "<div class=\"alert alert-danger\">\n",
    "Run the following code to see how it works.\n",
    "</div>"
   ]
  },
  {
   "cell_type": "code",
   "execution_count": 0,
   "metadata": {},
   "outputs": [],
   "source": [
    "sentence = 'Hello, world!'\n",
    "\n",
    "# Loop over every character in the variable sentence.\n",
    "for i in range( len(sentence) ):\n",
    "\n",
    "    print( f'{i}\\t{sentence[i]}' )"
   ]
  },
  {
   "cell_type": "markdown",
   "metadata": {},
   "source": [
    "Notice how in the loop,\n",
    "```python\n",
    "for i in range( len(sentence) ):\n",
    "```\n",
    "we use the function `len(sentence)` to get the number of characters in the string \"Hello, world!\" (13 in total), and then use that length in `range()`. Instead we could have written\n",
    "\n",
    "```python\n",
    "for i in range( 13 ):\n",
    "```\n",
    "but that would mean manually counting the number of characters in `sentence` first. Why do something when you can get the computer to do it for you?\n",
    "\n",
    "In the `print()` function we also used a tab escape character \"\\t\" to format the output into two columns."
   ]
  },
  {
   "cell_type": "markdown",
   "metadata": {},
   "source": [
    "### A realistic example of looping through a string: Extracting codons"
   ]
  },
  {
   "cell_type": "markdown",
   "metadata": {},
   "source": [
    "Consecutive triplets of bases in DNA are called codons. Which are translated into amino acids to produce proteins.  Let's write some code to extract codons from a DNA sequence. \n",
    "\n",
    "<div class=\"alert alert-danger\">\n",
    "First read the following code to understand what it is doing then run it.\n",
    "</div>"
   ]
  },
  {
   "cell_type": "code",
   "execution_count": 0,
   "metadata": {},
   "outputs": [],
   "source": [
    "# Assign a DNA sequence to the string variable dna_seq.\n",
    "dna_seq = 'TTATGTATC'\n",
    "\n",
    "\n",
    "# Loop through dna_seq in chunks of three bases, i.e., one codon at a time.\n",
    "# Use indicies to split dna_seq into codons.\n",
    "# The indices needed are 0, 3, 6, 9, ... until the end of dna_seq is reached.\n",
    "for i in range(0, len(dna_seq), 3):\n",
    "\n",
    "    # Use string slicing to extract the codon.\n",
    "    codon = dna_seq[i:i+3]\n",
    "\n",
    "    print( f'{i}\\t{codon}' )\n"
   ]
  },
  {
   "cell_type": "markdown",
   "metadata": {},
   "source": [
    "In `range()` we have set the step size to 3 so that we index every third position in the DNA sequence, i.e., 0, 3, 6, 9, and and so on. \n",
    "\n",
    "We use string slicing to access substrings (i.e., the codons) of the DNA sequence. For example, when the iterating variable `i` is 0 the slice `dna_seq[i:i+3]` is `dna_seq[0:3]` which accesses the first to third characters in `dna_seq` which is \"TTA\". On the next iteration of the loop `i` is 3, so we access the characters `dna_seq[3:6]`, i.e., the fourth to sixth characters which are \"TGT\". And so on."
   ]
  },
  {
   "cell_type": "markdown",
   "metadata": {},
   "source": [
    "## Using `range()` to loop through lists"
   ]
  },
  {
   "cell_type": "markdown",
   "metadata": {},
   "source": [
    "Using `range()` to loop through a list is the same as using it to loop through a string. \n",
    "\n",
    "<div class=\"alert alert-danger\">\n",
    "Run the following code to see how it is done using our example of calculating the average diameter of white blood cell types.\n",
    "</div>"
   ]
  },
  {
   "cell_type": "code",
   "execution_count": 0,
   "metadata": {},
   "outputs": [],
   "source": [
    "diameters = [11, 11, 13.5, 7.5, 13.5, 22.5]\n",
    "\n",
    "# The number of items in the list diameters.\n",
    "n = len( diameters )\n",
    "\n",
    "# Initialise the sum of values in to zero.\n",
    "sum_of_diameters = 0\n",
    "\n",
    "# Loop through the list summing the diameters one at a time.\n",
    "for i in range(n):\n",
    "    sum_of_diameters += diameters[i]\n",
    "\n",
    "print( f'There are {n} items in the list' )\n",
    "print( f'The sum of diameters is {sum_of_diameters} micrometers' )\n",
    "print( f'The average diameter of white blood cell types is {sum_of_diameters/n:.4g} micrometers' )"
   ]
  },
  {
   "cell_type": "markdown",
   "metadata": {},
   "source": [
    "\n",
    "Notice how we have used `n` (the number of items in the list) in `range(n)`. \n",
    "\n",
    "The only difference in the above code and the code in the Notebook 12 is the loop. In Notebook 12 we had\n",
    "```python\n",
    "for d in diameters:\n",
    "    sum_of_diameters += d\n",
    "```\n",
    "and in this Notebook we have \n",
    "```python\n",
    "for i in range(n):\n",
    "    sum_of_diameters += diameters[i]\n",
    "```\n",
    "These loops do things slightly differently but with the same result: the sum of the diameters of white blood cell types. \n",
    "\n",
    "In the first case we loop through the list and `d`, the iterating variable, takes the values 11, 11, 13.5, etc.\n",
    "\n",
    "In the second case we loop through the numbers 0 to 5 and use these numbers as indicies into the list `diameters` to extract the diameter of each white blood cell type.\n",
    "\n",
    "For the simple code we have written here, the first method is probably preferred because it is easier to read and understand. However, for other tasks the latter method may be better. It all depends on the task."
   ]
  },
  {
   "cell_type": "markdown",
   "metadata": {},
   "source": [
    "## Simultaneous looping through multiple lists"
   ]
  },
  {
   "cell_type": "markdown",
   "metadata": {},
   "source": [
    "Say we have two lists, one with forenames and another with surnames. Our task is to loop through both lists simultaneously, concatenate (join) each forename and surname and create a new list with each full name.\n",
    "\n",
    "For example if we start with two lists\n",
    "```python\n",
    "forenames = ['Harry', 'Ron', 'Hermione']\n",
    "surnames = ['Potter', 'Weasley', 'Granger']\n",
    "```\n",
    "By combining the lists `forenames` and `surnames` we want to obtain the list\n",
    "```python\n",
    "fullnames = ['Harry Potter', 'Ron Weasley', 'Hermione Granger']\n",
    "```\n",
    "\n",
    "Let's write out the algorithm for doing this\n",
    "1. Initialise an empty list called `fullnames`\n",
    "2. Loop through the lists `forenames` and `surnames` simultaneously so that we have a forename and surname pair.\n",
    "3. Concatenate forename and surname into a full name.\n",
    "4. Append the full name to the list called `fullnames`.\n",
    "\n",
    "Apart from Step 2 we have seen how to do the other steps in Notebooks 5 (strings) and 11 (lists). So how do we loop through two lists simultaneously? \n",
    "\n",
    "We can use `range()` to loop through the indicies of the lists. This is shown in the following code.\n",
    "\n",
    "\n",
    "<div class=\"alert alert-danger\">\n",
    "First read the following code to understand what it is doing then run it.\n",
    "</div>"
   ]
  },
  {
   "cell_type": "code",
   "execution_count": 0,
   "metadata": {},
   "outputs": [],
   "source": [
    "forenames = ['Harry', 'Ron', 'Hermione']\n",
    "surnames = ['Potter', 'Weasley', 'Granger']\n",
    "\n",
    "# Initiate an empty list to store the full names.\n",
    "fullnames = []\n",
    "\n",
    "# Loop through the indicies of the lists of names. \n",
    "# As both lists are the same length we can use the length of one of them in range().\n",
    "for i in range( len(forenames) ):\n",
    "\n",
    "    # Use an f-string to concatenate the forename and surname\n",
    "    # and append to the end of the list of fullnames.\n",
    "    fullnames.append( f'{forenames[i]} {surnames[i]}' )\n",
    "\n",
    "print(fullnames)"
   ]
  },
  {
   "cell_type": "markdown",
   "metadata": {},
   "source": [
    "## Exercise Notebook"
   ]
  },
  {
   "cell_type": "markdown",
   "metadata": {},
   "source": [
    "[Loops IV - looping by index](../Exercises/14%20-%20Loops%20IV%20-%20looping%20by%20index.ipynb)\n"
   ]
  },
  {
   "cell_type": "markdown",
   "metadata": {},
   "source": [
    "## Next Notebook"
   ]
  },
  {
   "cell_type": "markdown",
   "metadata": {},
   "source": [
    "[Dictionaries I - the basics](15%20-%20Dictionaries%20I%20-%20the%20basics.ipynb)\n"
   ]
  }
 ],
 "metadata": {
  "kernelspec": {
   "display_name": "Python 3",
   "language": "python",
   "name": "python3"
  },
  "language_info": {
   "codemirror_mode": {
    "name": "ipython",
    "version": 3
   },
   "file_extension": ".py",
   "mimetype": "text/x-python",
   "name": "python",
   "nbconvert_exporter": "python",
   "pygments_lexer": "ipython3",
   "version": "3.8.3"
  }
 },
 "nbformat": 4,
 "nbformat_minor": 4
}
