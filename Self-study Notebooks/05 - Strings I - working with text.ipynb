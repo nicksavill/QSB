{
 "cells": [
  {
   "cell_type": "markdown",
   "metadata": {},
   "source": [
    "<div class=\"alert alert-info\">\n",
    "\n",
    "## It should take you 3 to 5 hours to work through Self-study Notebooks 5-9 and complete Exercise Notebooks 5-9.\n",
    "</div>"
   ]
  },
  {
   "cell_type": "markdown",
   "metadata": {
    "button": false,
    "new_sheet": false,
    "run_control": {
     "read_only": false
    }
   },
   "source": [
    "# Strings I - working with text"
   ]
  },
  {
   "cell_type": "markdown",
   "metadata": {},
   "source": [
    "In biology many types of data are predominantly text, for example, DNA and protein sequences, survey replies, species names or gene identifiers.\n",
    "\n",
    "Python refers to text as **strings** - as in a *string* of characters. A string can be any length and made up of any letters, numbers and punctuation. \n",
    "\n",
    "We've already used a string: \"Hello, world!\", in Notebook 2.\n",
    "\n",
    "A string must start and end with either single quotes or double quotes, as long as both quotes are the same. So both\n",
    "```python\n",
    "'Hello, world!'\n",
    "\"Hello, world!\"\n",
    "```\n",
    "are identical strings."
   ]
  },
  {
   "cell_type": "markdown",
   "metadata": {},
   "source": [
    "## Length of a string"
   ]
  },
  {
   "cell_type": "markdown",
   "metadata": {},
   "source": [
    "The number of characters in a string is called its length. This includes all letters and any spaces and punctuation.\n",
    "\n",
    "The function `len()` returns the length of a string as demonstrated in the following code.\n",
    "\n",
    "<div class=\"alert alert-danger\">\n",
    "\n",
    "Run the following code to see how `len()` works.\n",
    "\n",
    "</div>"
   ]
  },
  {
   "cell_type": "code",
   "execution_count": 0,
   "metadata": {},
   "outputs": [],
   "source": [
    "# Get the length of a sentence and assign it to the variable called sentence_length.\n",
    "sentence_length = len( 'Hello, world!' )\n",
    "\n",
    "# Use an f-string to output the length of the sentence.\n",
    "print( f'The length of the sentence is {sentence_length} characters' )"
   ]
  },
  {
   "cell_type": "markdown",
   "metadata": {},
   "source": [
    "## String variables"
   ]
  },
  {
   "cell_type": "markdown",
   "metadata": {},
   "source": [
    "Just like numbers, we can assign strings to variables so that we can store them in memory, recall them and modify them.\n",
    "\n",
    "The code below shows how to assign a string to a variable called `sentence`. As for a number variable, we can print out the **value** and **type** of a string variable. A string variable has type `str`.\n",
    "\n",
    "<div class=\"alert alert-danger\">\n",
    "\n",
    "Run the following code to see how string variables work.\n",
    "\n",
    "</div>"
   ]
  },
  {
   "cell_type": "code",
   "execution_count": 0,
   "metadata": {},
   "outputs": [],
   "source": [
    "# Assign the string 'Hello, world!' to the string variable called sentence.\n",
    "sentence = 'Hello, world!'\n",
    "\n",
    "\n",
    "print( sentence )        # Print the value of sentence.\n",
    "\n",
    "print( len(sentence) )   # Print the length of the sentence.\n",
    "\n",
    "print( type(sentence) )  # Print the type of sentence.\n",
    "\n",
    "print( 'sentence' )      # 'sentence' in quotes is a string not a variable."
   ]
  },
  {
   "cell_type": "markdown",
   "metadata": {},
   "source": [
    "Notice that when you print a string the quotes are not outputed. \n",
    "\n",
    "Also notice that the variable `sentence` is not in quotes inside the `print()` function:\n",
    "```python\n",
    "print( sentence )\n",
    "```\n",
    "This is because `sentence` is a **string variable** and not a **string**. In other words, `sentence` is a variable with *value* `'Hello, world!'` and *type* string. Whereas `'sentence'` is just a string.\n"
   ]
  },
  {
   "cell_type": "markdown",
   "metadata": {},
   "source": [
    "## The empty string"
   ]
  },
  {
   "cell_type": "markdown",
   "metadata": {},
   "source": [
    "The empty string is simply a pair of quotes, either single or double, with nothing in between them.\n",
    "\n",
    "<div class=\"alert alert-danger\">\n",
    "\n",
    "Run the following code to assign an empty string to the variable called `name`.\n",
    "\n",
    "</div>"
   ]
  },
  {
   "cell_type": "code",
   "execution_count": 1,
   "metadata": {},
   "outputs": [],
   "source": [
    "# Assign the empty string to a variable called name.\n",
    "name = ''"
   ]
  },
  {
   "cell_type": "markdown",
   "metadata": {},
   "source": [
    "## Adding to the end of a string: Concatenation"
   ]
  },
  {
   "cell_type": "markdown",
   "metadata": {},
   "source": [
    "Why is an empty string useful? Sometimes we want to build up a string one letter or word at a time. \n",
    "\n",
    "There are two ways of doing this: with the `+` operator or the `+=` operator. Both are shown in the following code.\n",
    "\n",
    "<div class=\"alert alert-danger\">\n",
    "\n",
    "Run the following code to see how concatenation works.\n",
    "\n",
    "</div>"
   ]
  },
  {
   "cell_type": "code",
   "execution_count": 0,
   "metadata": {},
   "outputs": [],
   "source": [
    "# Assign the empty string to a variable called name.\n",
    "name = ''\n",
    "\n",
    "# Add the string 'Harry' to the value of name and reassign to name.\n",
    "name = name + 'Harry'\n",
    "print(name)\n",
    "\n",
    "# Add the string ' Potter' to the end of name.\n",
    "name += ' Potter'\n",
    "print(name)\n"
   ]
  },
  {
   "cell_type": "markdown",
   "metadata": {},
   "source": [
    "Notice the explicit space character in `' Potter'` so that the two names are separated by a space."
   ]
  },
  {
   "cell_type": "markdown",
   "metadata": {},
   "source": [
    "## Input"
   ]
  },
  {
   "cell_type": "markdown",
   "metadata": {},
   "source": [
    "To ask the user for input we use the `input()` function. \n",
    "\n",
    "<div class=\"alert alert-danger\">\n",
    "To see how this works run the following code.\n",
    "    \n",
    "    \n",
    "</div>    \n",
    "\n",
    "Python asks for input with the prompt \"Enter a name:\". It assigns your input to the string variable called `name` which it then prints in an f-string.\n",
    "\n"
   ]
  },
  {
   "cell_type": "code",
   "execution_count": 0,
   "metadata": {
    "cocalc": {
     "outputs": {
      "0": {
       "name": "input",
       "opts": {
        "password": false,
        "prompt": "Enter a name: "
       },
       "output_type": "stream",
       "value": "fff"
      }
     }
    }
   },
   "outputs": [],
   "source": [
    "# Ask for input with the prompt \"Enter a name\" and assign the input to the string variable called name.\n",
    "name = input('Enter a name: ')\n",
    "\n",
    "print( f'Hello {name}' )"
   ]
  },
  {
   "cell_type": "markdown",
   "metadata": {},
   "source": [
    "## Casting: Converting a string to a number"
   ]
  },
  {
   "cell_type": "markdown",
   "metadata": {},
   "source": [
    "Say you wanted to input two numbers and print their product. For example, if 4 and 6 are inputted your code should output 24.\n",
    "\n",
    "<div class=\"alert alert-danger\">\n",
    "1. Look at the following code and see whether you think it will work or not.\n",
    "    \n",
    "<br>\n",
    "2. Run it and enter two numbers when prompted; any numbers will do.\n",
    "</div>\n"
   ]
  },
  {
   "cell_type": "code",
   "execution_count": 0,
   "metadata": {
    "cocalc": {
     "outputs": {
      "0": {
       "name": "input",
       "opts": {
        "password": false,
        "prompt": "Enter a number: "
       },
       "output_type": "stream",
       "value": "4"
      },
      "1": {
       "name": "input",
       "opts": {
        "password": false,
        "prompt": "Enter another number: "
       },
       "output_type": "stream",
       "value": "5"
      }
     }
    }
   },
   "outputs": [],
   "source": [
    "# Ask for the first number and assign to the variable called number1.\n",
    "number1 = input('Enter a number: ')\n",
    "# Ask for the second number and assign to the variable called number2.\n",
    "number2 = input('Enter another number: ')\n",
    "\n",
    "# Print the product of the two numbers.\n",
    "print( number1 * number2 )"
   ]
  },
  {
   "cell_type": "markdown",
   "metadata": {},
   "source": [
    "The code produced an error, in this case a `TypeError`. A TypeError means you are trying to do something with the wrong **type** of variable. Remember, as well as a variable having a name and a value it also has a type. \n",
    "\n",
    "So far we've seen integer (int), real (float) and string (str) variables. \n",
    "\n",
    "The code above doesn't work because the `input()` function only returns a string variable. Even though you entered a number it is treated as a string. For example, \"3.1\" is a string because it is enclosed by double quotes.\n",
    "\n",
    "This means the line\n",
    "```python\n",
    "print( number1 * number2 )\n",
    "```\n",
    "is trying to multiply two strings together rather than two numbers. And that we cannot do.\n",
    "\n",
    "To fix this we need to convert the strings assigned to `number1` and `number2` to floats. This is called **casting**: the conversion of one data type to another. To do this we use the `float()` function.\n",
    "\n",
    "<div class=\"alert alert-danger\">\n",
    "Run the following code to see how it is done.\n",
    "    \n",
    "</div>"
   ]
  },
  {
   "cell_type": "code",
   "execution_count": 0,
   "metadata": {},
   "outputs": [],
   "source": [
    "# Ask for the first number.\n",
    "number1 = input('Enter a number: ')\n",
    "# Ask for the second number.\n",
    "number2 = input('Enter another number: ')\n",
    "\n",
    "# Print the product of the two numbers but cast them to floats first.\n",
    "print( float(number1) * float(number2) )"
   ]
  },
  {
   "cell_type": "markdown",
   "metadata": {
    "button": false,
    "new_sheet": false,
    "run_control": {
     "read_only": false
    }
   },
   "source": [
    "## Newlines and tabs: Escape characters\n"
   ]
  },
  {
   "cell_type": "markdown",
   "metadata": {
    "button": false,
    "new_sheet": false,
    "run_control": {
     "read_only": false
    }
   },
   "source": [
    "Sometimes text includes invisible characters that indicate how the text should be formatted - such as tabs or new line characters. Since it would be difficult to see these characters in our code, we use **escape characters** in Python strings instead. Escape characters are characters prefixed with a backslash, for example tabs and newline characters are represented by the following escape characters:\n",
    "\n",
    "format type | escape character\n",
    ":--- | :---:\n",
    "new line | \\n\n",
    "tab | \\t\n",
    "\n",
    "<div class=\"alert alert-danger\">\n",
    "\n",
    "Run the following code to see the output.\n",
    "\n",
    "</div>"
   ]
  },
  {
   "cell_type": "code",
   "execution_count": 0,
   "metadata": {},
   "outputs": [],
   "source": [
    "# Separate forename and surname with tabs and rows by newlines.\n",
    "print( 'Forename\\tSurname\\n-----------------------\\nHermione\\tGranger\\nRon\\t\\tWeasley' )"
   ]
  },
  {
   "cell_type": "markdown",
   "metadata": {},
   "source": [
    "## Exercise Notebook"
   ]
  },
  {
   "cell_type": "markdown",
   "metadata": {},
   "source": [
    "[Strings I - working with text](../Exercises/05%20-%20Strings%20I%20-%20working%20with%20text.ipynb)"
   ]
  },
  {
   "cell_type": "markdown",
   "metadata": {},
   "source": [
    "## Next Notebook"
   ]
  },
  {
   "cell_type": "markdown",
   "metadata": {},
   "source": [
    "[Strings II - indicies and substrings](06%20-%20Strings%20II%20-%20indicies%20and%20substrings.ipynb)\n"
   ]
  }
 ],
 "metadata": {
  "anaconda-cloud": {},
  "hide_input": false,
  "kernelspec": {
   "display_name": "Python 3",
   "language": "python",
   "name": "python3"
  },
  "language_info": {
   "codemirror_mode": {
    "name": "ipython",
    "version": 3
   },
   "file_extension": ".py",
   "mimetype": "text/x-python",
   "name": "python",
   "nbconvert_exporter": "python",
   "pygments_lexer": "ipython3",
   "version": "3.8.3"
  }
 },
 "nbformat": 4,
 "nbformat_minor": 4
}
