{
 "cells": [
  {
   "cell_type": "markdown",
   "metadata": {},
   "source": [
    "# Strings II - indicies and substrings"
   ]
  },
  {
   "cell_type": "markdown",
   "metadata": {
    "button": false,
    "new_sheet": false,
    "run_control": {
     "read_only": false
    }
   },
   "source": [
    "## Accessing a character in a string"
   ]
  },
  {
   "cell_type": "markdown",
   "metadata": {
    "button": false,
    "new_sheet": false,
    "run_control": {
     "read_only": false
    }
   },
   "source": [
    "Individual characters in a string can be accessed by specifying the character's index in square brackets after the string's name. The first character has index 0, the second character has index 1, and so on. This can be a bit confusing to start with: just remember that to get the index (0, 1, etc.) subtract 1 from its position (first, second, etc). \n",
    "\n",
    "For instance, the table below shows the indicies of the characters in the string \"Hello, world!\". The letter \"H\" is at index 0, the comma is at index 5, the letter \"d\" is at index 11 and the exclamation mark is at index 12.\n",
    "\n",
    "string | H | e | l | l | o | , | | W | o | r | l | d | !  \n",
    ":---|:---:|:---:|:---:|:---:|:---:|:---:|:---:|:---:|:---:|:---:|:---:|:---:|:---:\n",
    "position |  1<sup>st</sup> | 2<sup>nd</sup> | 3<sup>rd</sup> | 4<sup>th</sup> | 5<sup>th</sup> | 6<sup>th</sup> | 7<sup>th</sup> | 8<sup>th</sup> | 9<sup>th</sup> | 10<sup>th</sup> | 11<sup>th</sup> | 12<sup>th</sup> | 13<sup>th</sup> \n",
    "index | 0 | 1 | 2 | 3 | 4 | 5 | 6 | 7 | 8 | 9 | 10 | 11 | 12\n",
    "index from end | -13 | -12 | -11 | -10 | -9 | -8 | -7 | -6 | -5 | -4 | -3 | -2 | -1\n",
    "\n",
    "It is also possible to specify characters based on their position relative to the end of the string: the last character can be accessed using index -1, the second to last at index -2, etc., as shown above. \n",
    "\n",
    "\n"
   ]
  },
  {
   "cell_type": "code",
   "execution_count": 0,
   "metadata": {
    "button": false,
    "new_sheet": false,
    "run_control": {
     "frozen": false,
     "read_only": false
    }
   },
   "outputs": [],
   "source": [
    "sentence = 'Hello, world!'\n",
    "\n",
    "print( sentence[0] )  # prints the first character (at index 0), i.e. \"H\"\n",
    "\n",
    "print( sentence[5] )  # prints the sixth character (at index 5), i.e. \",\"\n",
    "\n",
    "print( sentence[12] ) # prints the thirteenth character (at index 12), i.e. \"!\"\n",
    "\n",
    "print( sentence[-1] ) # prints the last character (at index -1), i.e. \"!\""
   ]
  },
  {
   "cell_type": "markdown",
   "metadata": {
    "button": false,
    "new_sheet": false,
    "run_control": {
     "read_only": false
    }
   },
   "source": [
    "## Accessing several characters: Substrings\n"
   ]
  },
  {
   "cell_type": "markdown",
   "metadata": {
    "button": false,
    "new_sheet": false,
    "run_control": {
     "read_only": false
    }
   },
   "source": [
    "Parts of strings (known as **substrings**) can be accessed using something called the **slice operator**. Instead of a single index in the square brackets, we use two numbers to refer to the start and end indicies like so: `[start index : end index]`. \n",
    "\n",
    "The character at the location of the end index is not included, so `[3:7]` will access characters from indicies 3 to 6 inclusive (or the fourth to seventh characters inclusive). \n",
    "\n",
    "Where no number is specified **before** the colon e.g. `[:5]`, this will automatically start from the first character of the string. \n",
    "\n",
    "Where no number is specified **after** the colon e.g. `[5:]`, this will automatically end at the last character of the string.\n",
    "\n",
    "\n",
    "If no numbers are specified then all characters are used.\n",
    "\n",
    "\n",
    "<div class=\"alert alert-danger\">\n",
    "Try these in the following code.\n",
    "    \n",
    "</div>"
   ]
  },
  {
   "cell_type": "code",
   "execution_count": 0,
   "metadata": {
    "button": false,
    "new_sheet": false,
    "run_control": {
     "frozen": false,
     "read_only": false
    }
   },
   "outputs": [],
   "source": [
    "sentence = 'Hello, world!'\n",
    "\n",
    "print( sentence[7:12] ) # prints the 8th to 12th characters (indicies 7 to 11), i.e. \"world\"\n",
    "\n",
    "print( sentence[:5] )   # prints the 1st to 5th characters (indicies 0 to 4), i.e. \"Hello\"\n",
    "\n",
    "print( sentence[7:] )   # prints the 8th to last characters (indicies 7 to 12), i.e, \"world!\"\n",
    "\n",
    "print( sentence[:] )    # prints all characters (indicies 0 to 12)\n"
   ]
  },
  {
   "cell_type": "markdown",
   "metadata": {},
   "source": [
    "## Stepping over characters"
   ]
  },
  {
   "cell_type": "markdown",
   "metadata": {},
   "source": [
    "The last example using `[:]` might seem pointless - why not just do `print( sentence )` instead? The reason why this is useful will become clear in a moment.\n",
    "\n",
    "Say we wanted every third character in a string. Then we can use what's called the **extended slice** notation: `[start index : end index : step size]`.\n",
    "\n",
    "To access every third character starting from index 2 and stopping at index 9 we would write\n",
    "```python\n",
    "sentence[2:9:3]\n",
    "```\n",
    "where step size is 3.\n",
    "\n",
    "To access every second character starting from the first character and stopping at the last character we would write\n",
    "```python\n",
    "sentence[::2]\n",
    "```\n",
    "where step size is 2.\n",
    "\n",
    "\n",
    "<div class=\"alert alert-danger\">\n",
    "Try these in the following code.\n",
    "    \n",
    "</div>"
   ]
  },
  {
   "cell_type": "code",
   "execution_count": 0,
   "metadata": {},
   "outputs": [],
   "source": [
    "sentence = 'Hello, world!'\n",
    "\n",
    "print( sentence[2:9:3] ) # prints the 3rd to 9th characters printing every 3rd, i.e. \"l,o\"\n",
    "\n",
    "print( sentence[::2] )   # prints the 1st to last characters printing every 2nd, i.e. \"Hlo ol!\""
   ]
  },
  {
   "cell_type": "markdown",
   "metadata": {},
   "source": [
    "### Reversing a string\n"
   ]
  },
  {
   "cell_type": "markdown",
   "metadata": {},
   "source": [
    "Now here's the clever bit. If the step size is negative we go through the string backwards. Which means that the notation\n",
    "\n",
    "```python\n",
    "sentence[::-1]\n",
    "```\n",
    "reverses the string because step size is -1: We step backwards accessing every character. This is a quick and easy way of reversing strings; something we often want to do with DNA and RNA sequences.\n",
    "\n",
    "\n",
    "<div class=\"alert alert-danger\">\n",
    "Try this in the code cell below.\n",
    "</div>"
   ]
  },
  {
   "cell_type": "code",
   "execution_count": 0,
   "metadata": {},
   "outputs": [],
   "source": [
    "sentence = 'Hello, world!'\n",
    "\n",
    "# Reverse the string in sentence and assign it to the variable called rev_sentence\n",
    "rev_sentence = sentence[::-1]\n",
    "\n",
    "print( rev_sentence )"
   ]
  },
  {
   "cell_type": "markdown",
   "metadata": {},
   "source": [
    "## Exercise Notebook"
   ]
  },
  {
   "cell_type": "markdown",
   "metadata": {},
   "source": [
    "[Strings II - indicies and substrings](../Exercises/06%20-%20Strings%20II%20-%20indicies%20and%20substrings.ipynb)\n"
   ]
  },
  {
   "cell_type": "markdown",
   "metadata": {},
   "source": [
    "## Next Notebook"
   ]
  },
  {
   "cell_type": "markdown",
   "metadata": {},
   "source": [
    "[Strings III - string methods](07%20-%20Strings%20III%20-%20string%20methods.ipynb)\n"
   ]
  }
 ],
 "metadata": {
  "kernelspec": {
   "display_name": "Python 3",
   "language": "python",
   "name": "python3"
  },
  "language_info": {
   "codemirror_mode": {
    "name": "ipython",
    "version": 3
   },
   "file_extension": ".py",
   "mimetype": "text/x-python",
   "name": "python",
   "nbconvert_exporter": "python",
   "pygments_lexer": "ipython3",
   "version": "3.8.3"
  }
 },
 "nbformat": 4,
 "nbformat_minor": 4
}
