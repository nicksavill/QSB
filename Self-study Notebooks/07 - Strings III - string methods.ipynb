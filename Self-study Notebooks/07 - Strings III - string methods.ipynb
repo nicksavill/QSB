{
 "cells": [
  {
   "cell_type": "markdown",
   "metadata": {
    "button": false,
    "new_sheet": false,
    "run_control": {
     "read_only": false
    }
   },
   "source": [
    "# Strings III - string methods\n"
   ]
  },
  {
   "cell_type": "markdown",
   "metadata": {
    "button": false,
    "new_sheet": false,
    "run_control": {
     "read_only": false
    }
   },
   "source": [
    "## Manipulating and interrogating strings with string methods\n"
   ]
  },
  {
   "cell_type": "markdown",
   "metadata": {
    "button": false,
    "new_sheet": false,
    "run_control": {
     "read_only": false
    }
   },
   "source": [
    "There are a many ways in Python to manipulate and interrogate strings; these are called **string methods**. There are far too many to cover in this course. We will look at a couple now, which we will use in the course, and you can google others as they become necessary.\n",
    "\n",
    "\n",
    "A **method** is applied to a string or string variable by using dot notation after the string or string variable.\n"
   ]
  },
  {
   "cell_type": "markdown",
   "metadata": {},
   "source": [
    "### Getting the index of a character or substring"
   ]
  },
  {
   "cell_type": "markdown",
   "metadata": {},
   "source": [
    "In the last Notebook we used indicies to access characters and substrings within a string. We can also do the opposite and find the index of a character or substring within a string. We use the method `find()` to get the index of the first occurrence of a substring.\n",
    "\n",
    "<div class=\"alert alert-danger\">\n",
    "Run the code below to see how this works.\n",
    "</div>"
   ]
  },
  {
   "cell_type": "code",
   "execution_count": 0,
   "metadata": {},
   "outputs": [],
   "source": [
    "sentence = 'Hello, world!'\n",
    "\n",
    "# Find the index of the character '!' in the variable sentence and assign it to the variable called idx.\n",
    "idx = sentence.find('!')\n",
    "\n",
    "print( f'\"!\" is at index {idx}' )\n",
    "\n",
    "# Find the index of the substring 'world' in the variable sentence.\n",
    "idx = sentence.find('world')\n",
    "\n",
    "print( f'\"world\" begins at index {idx}' )"
   ]
  },
  {
   "cell_type": "markdown",
   "metadata": {},
   "source": [
    "If the character or substring we're searching for doesn't exist within the string then `find()` returns -1 as shown in the following code:\n",
    "\n",
    "<div class=\"alert alert-danger\">\n",
    "Run the code below to see how this works.\n",
    "</div>"
   ]
  },
  {
   "cell_type": "code",
   "execution_count": 0,
   "metadata": {},
   "outputs": [],
   "source": [
    "# Find the index of the substring 'today' in the variable sentence.\n",
    "idx = sentence.find('today')\n",
    "\n",
    "print( idx )"
   ]
  },
  {
   "cell_type": "markdown",
   "metadata": {},
   "source": [
    "### Converting a string to lowercase"
   ]
  },
  {
   "cell_type": "markdown",
   "metadata": {
    "button": false,
    "new_sheet": false,
    "run_control": {
     "read_only": false
    }
   },
   "source": [
    "Here is an example in which we convert all the letters in a string to lowercase. \n",
    "\n",
    "<div class=\"alert alert-danger\">\n",
    "Run the following code to see how to convert all letters in a string to lowercase.\n",
    "    \n",
    "</div>"
   ]
  },
  {
   "cell_type": "code",
   "execution_count": 0,
   "metadata": {
    "button": false,
    "new_sheet": false,
    "run_control": {
     "frozen": false,
     "read_only": false
    }
   },
   "outputs": [],
   "source": [
    "name = 'HARRY POTTER'\n",
    "\n",
    "# The lower() method returns a string converted to lowercase.\n",
    "lowercase_name = name.lower()\n",
    "\n",
    "print(lowercase_name)"
   ]
  },
  {
   "cell_type": "markdown",
   "metadata": {
    "button": false,
    "new_sheet": false,
    "run_control": {
     "read_only": false
    }
   },
   "source": [
    "A full list of string functions and methods is available in the [Python 3 documentation](https://docs.python.org/3/library/stdtypes.html#string-methods). "
   ]
  },
  {
   "cell_type": "markdown",
   "metadata": {},
   "source": [
    "## Exercise Notebook"
   ]
  },
  {
   "cell_type": "markdown",
   "metadata": {},
   "source": [
    "[Strings III - string methods](../Exercises/07%20-%20Strings%20III%20-%20string%20methods.ipynb)\n"
   ]
  },
  {
   "cell_type": "markdown",
   "metadata": {},
   "source": [
    "## Next Notebook"
   ]
  },
  {
   "cell_type": "markdown",
   "metadata": {},
   "source": [
    "[Making decisions I - conditional statements](08%20-%20Making%20decisions%20I%20-%20conditional%20statements.ipynb)\n"
   ]
  }
 ],
 "metadata": {
  "kernelspec": {
   "display_name": "Python 3",
   "language": "python",
   "name": "python3"
  },
  "language_info": {
   "codemirror_mode": {
    "name": "ipython",
    "version": 3
   },
   "file_extension": ".py",
   "mimetype": "text/x-python",
   "name": "python",
   "nbconvert_exporter": "python",
   "pygments_lexer": "ipython3",
   "version": "3.8.3"
  }
 },
 "nbformat": 4,
 "nbformat_minor": 4
}
