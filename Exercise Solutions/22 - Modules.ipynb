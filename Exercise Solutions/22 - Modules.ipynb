{
 "cells": [
  {
   "cell_type": "markdown",
   "metadata": {},
   "source": [
    "### Exercise 22.1\n",
    "\n",
    "In Exercise 3.5 you calculated the circumference and area of a circle of radius 5.4 cm. \n",
    "\n",
    "Repeat the exercise but using the value of $\\pi$ in the `math` module. \n"
   ]
  },
  {
   "cell_type": "code",
   "execution_count": null,
   "metadata": {},
   "outputs": [],
   "source": [
    "import math\n",
    "\n",
    "print( round(2 * math.pi * 5.4, 1) )\n",
    "\n",
    "print( round(math.pi * 5.4**2, 1) )"
   ]
  },
  {
   "cell_type": "markdown",
   "metadata": {
    "button": false,
    "new_sheet": false,
    "run_control": {
     "read_only": false
    }
   },
   "source": [
    "### Exercise 22.2\n",
    "\n",
    "Using the `statistics` module, calculate and print the mean and standard deviation of the following list of bat wingspans to 2dp. The documentation for the statistics module is [here](https://docs.python.org/3/library/statistics.html)."
   ]
  },
  {
   "cell_type": "code",
   "execution_count": null,
   "metadata": {},
   "outputs": [],
   "source": [
    "import statistics\n",
    "\n",
    "wingspans = [20.4, 21.1, 17.1, 16.7, 24.4, 17.8, 20.1, 21.2, 20.8, 18.4, 20.0, 20.8, 19.4, 16.9, 18.0, 18.5, 18.0, 17.5, 18.7, 21.6, 21.6, 20.1, 20.6, 22.0, 20.0, 16.8, 24.2, 15.4, 21.2, 22.2, 26.1, 21.5, 18.9, 18.5, 19.9, 20.9, 18.4]\n",
    "\n",
    "print( round(statistics.mean(wingspans), 2) )\n",
    "print( round(statistics.stdev(wingspans), 2) )"
   ]
  },
  {
   "cell_type": "markdown",
   "metadata": {},
   "source": [
    "### Exercise 22.3\n",
    "\n",
    "1. Search online for a module to randomly choose an item from a list. \n",
    "2. Use a method in the module to randomly choose an item from the following list.\n",
    "3. Print the chosen item."
   ]
  },
  {
   "cell_type": "code",
   "execution_count": null,
   "metadata": {},
   "outputs": [],
   "source": [
    "import random\n",
    "\n",
    "cities = ['Doha', 'Vancouver', 'Entebbe', 'Pokhara', 'Whangarei']\n",
    "\n",
    "print(f'A randomly chosen city from the list is {random.choice(cities)}')"
   ]
  }
 ],
 "metadata": {
  "kernelspec": {
   "display_name": "Python 3",
   "language": "python",
   "name": "python3"
  },
  "language_info": {
   "codemirror_mode": {
    "name": "ipython",
    "version": 3
   },
   "file_extension": ".py",
   "mimetype": "text/x-python",
   "name": "python",
   "nbconvert_exporter": "python",
   "pygments_lexer": "ipython3",
   "version": "3.8.3"
  }
 },
 "nbformat": 4,
 "nbformat_minor": 4
}
