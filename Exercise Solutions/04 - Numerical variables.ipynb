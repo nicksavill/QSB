{
 "cells": [
  {
   "cell_type": "markdown",
   "metadata": {},
   "source": [
    "### Exercise 4.1\n",
    "\n",
    "Assign the value of 45 to the variable named `number_of_flies`."
   ]
  },
  {
   "cell_type": "code",
   "execution_count": 0,
   "metadata": {},
   "outputs": [],
   "source": [
    "number_of_flies = 45"
   ]
  },
  {
   "cell_type": "markdown",
   "metadata": {},
   "source": [
    "### Exercise 4.2 \n",
    "\n",
    "Print out the type of the variable `number_of_flies`."
   ]
  },
  {
   "cell_type": "code",
   "execution_count": 0,
   "metadata": {},
   "outputs": [],
   "source": [
    "print( type(number_of_flies) )"
   ]
  },
  {
   "cell_type": "markdown",
   "metadata": {},
   "source": [
    "### Exercise 4.3 \n",
    "\n",
    "Increment the variable `number_of_flies` by 12 and print its new value."
   ]
  },
  {
   "cell_type": "code",
   "execution_count": 0,
   "metadata": {},
   "outputs": [],
   "source": [
    "number_of_flies += 12\n",
    "print( number_of_flies )"
   ]
  },
  {
   "cell_type": "markdown",
   "metadata": {},
   "source": [
    "### Exercise 4.4\n",
    "\n",
    "Scientists counted the number of emperor penguins that joined an Antarctic breeding colony on each day for a whole season. The first three day's records are given in the following table\n",
    "\n",
    "Day | New colonists\n",
    ":--- | ---:\n",
    "1st March | 10\n",
    "2nd March | 156\n",
    "3rd March | 73\n",
    "\n",
    "Using a variable called `number_penguins` print out the cumulative number of penguins in the colony on each of the first three days. Use the operator `+=` to increment the variable."
   ]
  },
  {
   "cell_type": "code",
   "execution_count": 0,
   "metadata": {},
   "outputs": [],
   "source": [
    "number_penguins = 10\n",
    "print( f'1st March {number_penguins}' )\n",
    "\n",
    "number_penguins += 156\n",
    "print( f'2nd March {number_penguins}' )\n",
    "\n",
    "number_penguins += 73\n",
    "print( f'3rd March {number_penguins}' )"
   ]
  },
  {
   "cell_type": "markdown",
   "metadata": {
    "button": false,
    "new_sheet": false,
    "run_control": {
     "read_only": false
    }
   },
   "source": [
    "### Exercise 4.5 \n",
    "\n",
    "Each strand of DNA is made up of four bases: thymine (T), adenine (A), guanine (G) and cytosine (C).\n",
    "\n",
    "The GC content of a strand of DNA is the percentage of bases that are either guanine or cytosine. The GC content can vary widely between different regions of an organism's genome and also varies widely between different organisms. GC content is often of interest to biologists as it can indicate the presence of DNA that may have originated from another organism's genome.  \n",
    "\n",
    "Complete the following code to calculate the GC content of a particular DNA sequence and print its value to 1dp."
   ]
  },
  {
   "cell_type": "code",
   "execution_count": 0,
   "metadata": {
    "button": false,
    "new_sheet": false,
    "run_control": {
     "frozen": false,
     "read_only": false
    }
   },
   "outputs": [],
   "source": [
    "# Assign the length of the DNA sequence (in base pairs) to the variable \"dna_length\".\n",
    "dna_length = 14512\n",
    "\n",
    "# Assign the number of bases that are either G or C to the variable \"number_GC_bases\".\n",
    "number_GC_bases = 8534\n",
    "\n",
    "percentage_GC = number_GC_bases / dna_length * 100\n",
    "\n",
    "print( f'GC content is {percentage_GC:.1f}%' )"
   ]
  },
  {
   "cell_type": "markdown",
   "metadata": {
    "button": false,
    "new_sheet": false,
    "run_control": {
     "read_only": false
    }
   },
   "source": [
    "### Exercise 4.6\n",
    "\n",
    "Complete the code below using an f-string to insert the string variables into the printed string:"
   ]
  },
  {
   "cell_type": "code",
   "execution_count": 0,
   "metadata": {
    "button": false,
    "new_sheet": false,
    "run_control": {
     "frozen": false,
     "read_only": false
    }
   },
   "outputs": [],
   "source": [
    "mean_beak_depth_mm = 9.27874\n",
    "max_beak_depth_mm = 11.128392\n",
    "min_beak_depth_mm = 7.689485\n",
    "\n",
    "print(f\"Beak depth measurements of Ground Finches ranged from {min_beak_depth_mm:.2f} mm to {max_beak_depth_mm:.2f} mm, with a mean of {mean_beak_depth_mm:.2f} mm\")"
   ]
  },
  {
   "cell_type": "markdown",
   "metadata": {},
   "source": [
    "### Exercise 4.7\n",
    "\n",
    "Using the variable `Fahrenheit` below, write code to convert it to degrees Celsius and print the answer to 1dp. The conversion equation is\n",
    "\n",
    "$\\text{Celsius} = \\frac{5}{9}\\times (\\text{Fahrenheit}-32)$"
   ]
  },
  {
   "cell_type": "code",
   "execution_count": 0,
   "metadata": {},
   "outputs": [],
   "source": [
    "Fahrenheit = 98\n",
    "\n",
    "celsius = 5/9*(Fahrenheit-32)\n",
    "print(f'{celsius:.1f} deg C')"
   ]
  },
  {
   "attachments": {
    "white_box.png": {
     "image/png": "[encoded data removed]"
    }
   },
   "cell_type": "markdown",
   "metadata": {},
   "source": [
    "<img src=\"attachment:white_box.png\" style=\"max-width:100%\"><img src=\"attachment:white_box.png\" style=\"max-width:100%\">\n",
    "\n",
    "\n"
   ]
  }
 ],
 "metadata": {
  "kernelspec": {
   "display_name": "Python 3 (ipykernel)",
   "language": "python",
   "name": "python3"
  },
  "language_info": {
   "codemirror_mode": {
    "name": "ipython",
    "version": 3
   },
   "file_extension": ".py",
   "mimetype": "text/x-python",
   "name": "python",
   "nbconvert_exporter": "python",
   "pygments_lexer": "ipython3",
   "version": "3.9.7"
  }
 },
 "nbformat": 4,
 "nbformat_minor": 4
}
