{
 "cells": [
  {
   "cell_type": "markdown",
   "metadata": {},
   "source": [
    "### Exercises 14.1\n",
    "\n",
    "Loop through the following DNA sequence using `range()` and print each base."
   ]
  },
  {
   "cell_type": "code",
   "execution_count": null,
   "metadata": {},
   "outputs": [],
   "source": [
    "dna_seq = 'ACGGATATATATATGCCCGTAATATATAGCG'\n",
    "\n",
    "for i in range( len(dna_seq) ):\n",
    "    print( dna_seq[i] )"
   ]
  },
  {
   "cell_type": "markdown",
   "metadata": {},
   "source": [
    "### Exercises 14.2\n",
    "\n",
    "Modify your code so that it prints all quintuplets (5 consecutive bases). For example, the first few quintuplets are \"ACGGA\", \"CGGAT\", \"GGATA\", etc.\n",
    "\n",
    "* *Hint: This is slightly different to the example in Notebook 14 in which the step size was 3. Here we want a step size of 1.*"
   ]
  },
  {
   "cell_type": "code",
   "execution_count": null,
   "metadata": {},
   "outputs": [],
   "source": [
    "for i in range( len(dna_seq)-4 ):\n",
    "    print( dna_seq[i:i+5] )"
   ]
  },
  {
   "cell_type": "markdown",
   "metadata": {},
   "source": [
    "    \n",
    "### Exercises 14.3\n",
    "\n",
    "Modify your code so that it counts all occurrences of the quintuplet \"TATAT\"."
   ]
  },
  {
   "cell_type": "code",
   "execution_count": null,
   "metadata": {},
   "outputs": [],
   "source": [
    "count = 0\n",
    "for i in range( len(dna_seq)-4 ):\n",
    "    if dna_seq[i:i+5] == 'TATAT':\n",
    "        count += 1\n",
    "\n",
    "print(f'\"TATAT\" occurs {count} times')"
   ]
  },
  {
   "cell_type": "markdown",
   "metadata": {},
   "source": [
    "### Exercises 14.4\n",
    "\n",
    "Use `range()` to calculate the sum of all the numbers in the following list. Print the sum."
   ]
  },
  {
   "cell_type": "code",
   "execution_count": null,
   "metadata": {},
   "outputs": [],
   "source": [
    "arriving_penguins = [10, 156, 73, 376, 786, 432, 1035, 901, 1102, 2567, 1571, 916, 1560, 632, 943, 246, 654, 1456, 504, 632]\n",
    "\n",
    "\n",
    "total = 0\n",
    "\n",
    "for i in range( len(arriving_penguins) ):\n",
    "    total += arriving_penguins[i]\n",
    "\n",
    "print(f'The total number of penguins is {total}' )"
   ]
  },
  {
   "cell_type": "markdown",
   "metadata": {},
   "source": [
    "### Exercises 14.5\n",
    "\n",
    "Use `range()` to simultaneously loop through the following two lists. Add each pair of numbers and print them."
   ]
  },
  {
   "cell_type": "code",
   "execution_count": null,
   "metadata": {},
   "outputs": [],
   "source": [
    "x = [1.2, 12.3, -23.6]\n",
    "y = [15.0, -5.4, 4.5]\n",
    "\n",
    "\n",
    "for i in range( len(x) ):\n",
    "    print (f'{x[i]} + {y[i]} = {x[i]+y[i]}')"
   ]
  }
 ],
 "metadata": {
  "kernelspec": {
   "display_name": "Python 3 (ipykernel)",
   "language": "python",
   "name": "python3"
  },
  "language_info": {
   "codemirror_mode": {
    "name": "ipython",
    "version": 3
   },
   "file_extension": ".py",
   "mimetype": "text/x-python",
   "name": "python",
   "nbconvert_exporter": "python",
   "pygments_lexer": "ipython3",
   "version": "3.9.7"
  }
 },
 "nbformat": 4,
 "nbformat_minor": 4
}
