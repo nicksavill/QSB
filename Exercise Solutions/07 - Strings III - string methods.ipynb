{
 "cells": [
  {
   "cell_type": "markdown",
   "metadata": {},
   "source": [
    "### Exercise 7.1\n",
    "\n",
    "Find and print the index of the substring \"watch\" in the following string.\n",
    "\n"
   ]
  },
  {
   "cell_type": "code",
   "execution_count": null,
   "metadata": {},
   "outputs": [],
   "source": [
    "book_title = 'The blind watchmaker'\n"
   ]
  },
  {
   "cell_type": "code",
   "execution_count": null,
   "metadata": {},
   "outputs": [],
   "source": [
    "print( book_title.find('watch') )"
   ]
  },
  {
   "cell_type": "markdown",
   "metadata": {
    "button": false,
    "new_sheet": false,
    "run_control": {
     "read_only": false
    }
   },
   "source": [
    "### Exercise 7.2\n",
    "\n",
    "Convert the following string to lowercase."
   ]
  },
  {
   "cell_type": "code",
   "execution_count": null,
   "metadata": {
    "button": false,
    "new_sheet": false,
    "run_control": {
     "frozen": false,
     "read_only": false
    }
   },
   "outputs": [],
   "source": [
    "dna_seq = \"TTTTGTATCCTTATATCACAACTCGAAGATTCTTCTTCTGCA\"\n"
   ]
  },
  {
   "cell_type": "code",
   "execution_count": null,
   "metadata": {},
   "outputs": [],
   "source": [
    "print( dna_seq.lower() )"
   ]
  },
  {
   "cell_type": "markdown",
   "metadata": {},
   "source": [
    "### Exercise 7.3\n",
    "\n",
    "The following text, stored in the variable `tbw_intro`, contains two sentences. \n",
    "\n",
    "1. Find the index of the full stop at the end of the first sentence and store it in a variable called `idx`. \n",
    "2. Using string slicing with the variable `idx`, assign the first sentence (with its full stop) to the variable `sentence1`.\n",
    "3. Again using string slicing and `idx`, assign the second sentence (with fits ull stop) to the variable `sentence2`.\n",
    "4. Print `sentence1`.\n",
    "5. Print `sentence2`."
   ]
  },
  {
   "cell_type": "code",
   "execution_count": null,
   "metadata": {},
   "outputs": [],
   "source": [
    "tbw_intro = \"We animals are the most complicated things in the known universe. The universe that we know, of course, is a tiny fragment of the known universe.\"\n"
   ]
  },
  {
   "cell_type": "code",
   "execution_count": null,
   "metadata": {},
   "outputs": [],
   "source": [
    "idx = tbw_intro.find('.')\n",
    "sentence1 = tbw_intro[:idx+1]\n",
    "sentence2 = tbw_intro[idx+2:]\n",
    "print( sentence1 )\n",
    "print( sentence2 )"
   ]
  }
 ],
 "metadata": {
  "kernelspec": {
   "display_name": "Python 3",
   "language": "python",
   "name": "python3"
  },
  "language_info": {
   "codemirror_mode": {
    "name": "ipython",
    "version": 3
   },
   "file_extension": ".py",
   "mimetype": "text/x-python",
   "name": "python",
   "nbconvert_exporter": "python",
   "pygments_lexer": "ipython3",
   "version": "3.8.3"
  }
 },
 "nbformat": 4,
 "nbformat_minor": 4
}
