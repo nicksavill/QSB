{
 "cells": [
  {
   "cell_type": "markdown",
   "metadata": {},
   "source": [
    "### Exercise 15.1\n",
    "\n",
    "Create a dictionary called `mushrooms` containing the data in the following table. Print it.\n",
    "\n",
    "|Scientific Name|\tCommon Name|\n",
    "|:-------|:-------|\n",
    "|*Fistulina hepatica*\t|Beefsteak|\n",
    "|*Laetiporus sulphureus*\t|Chicken-of-the-Woods|\n",
    "|*Flammulina velutipes* |Enoki|\n",
    "|*Hericium erinaceus*\t|Lion’s Mane|"
   ]
  },
  {
   "cell_type": "code",
   "execution_count": null,
   "metadata": {},
   "outputs": [],
   "source": [
    "mushrooms = {'Fistulina hepatica': 'Beefsteak',\n",
    "'Laetiporus sulphureus': 'Chicken-of-the-Woods',\n",
    "'Flammulina velutipes': 'Enoki',\n",
    "'Hericium erinaceus': 'Lion’s Mane'}\n",
    "\n",
    "print(mushrooms)"
   ]
  },
  {
   "cell_type": "markdown",
   "metadata": {},
   "source": [
    "### Exercise 15.2\n",
    "\n",
    "Add the following to `mushrooms`: <br>\n",
    "*Pleurotus pulmonarius*: Summer oyster <br>\n",
    "*Pleurotus euosmos*: Tarragon <br>"
   ]
  },
  {
   "cell_type": "code",
   "execution_count": null,
   "metadata": {},
   "outputs": [],
   "source": [
    "mushrooms['Pleurotus pulmonarius'] = 'Summer oyster'\n",
    "mushrooms['Pleurotus euosmos'] = 'Tarragon'\n",
    "\n",
    "print(mushrooms)"
   ]
  },
  {
   "cell_type": "markdown",
   "metadata": {},
   "source": [
    "### Exercise 15.3\n",
    "\n",
    "Using your dictionary, print the common name for *Laetiporus sulphureus*."
   ]
  },
  {
   "cell_type": "code",
   "execution_count": null,
   "metadata": {},
   "outputs": [],
   "source": [
    "print( mushrooms['Laetiporus sulphureus'] )"
   ]
  },
  {
   "cell_type": "markdown",
   "metadata": {},
   "source": [
    "### Exercise 15.4\n",
    "\n",
    "Replace the common name for *Laetiporus sulphureus* with Sulphur Shelf (this is another common name for this species which forms striking golden-yellow shelf-like fungal structures on tree trunks and branches.)"
   ]
  },
  {
   "cell_type": "code",
   "execution_count": null,
   "metadata": {},
   "outputs": [],
   "source": [
    "mushrooms['Laetiporus sulphureus'] = 'Sulphur Shelf'\n",
    "print( mushrooms )"
   ]
  },
  {
   "cell_type": "markdown",
   "metadata": {},
   "source": [
    "### Exercise 15.5\n",
    "\n",
    "Test if the species *Pholiota nameko* is in `mushrooms`."
   ]
  },
  {
   "cell_type": "code",
   "execution_count": null,
   "metadata": {},
   "outputs": [],
   "source": [
    "if 'Pholiota nameko' in mushrooms:\n",
    "    print ( 'Pholiota nameko is in mushrooms' )\n",
    "else:\n",
    "    print ( 'Pholiota nameko is not in mushrooms' )"
   ]
  },
  {
   "cell_type": "markdown",
   "metadata": {},
   "source": [
    "### Exercise 15.6\n",
    "\n",
    "Create an empty dictionary called `books`."
   ]
  },
  {
   "cell_type": "code",
   "execution_count": null,
   "metadata": {},
   "outputs": [],
   "source": [
    "books = {}\n",
    "\n",
    "print( books )"
   ]
  },
  {
   "cell_type": "markdown",
   "metadata": {},
   "source": [
    "### Exercise 15.7\n",
    "\n",
    "Add the following two books to your dictionary `books`:\n",
    "\n",
    "Book title | Authour\n",
    ":--- | :---\n",
    "The chimpanzees of Gombe | Jane Goodall\n",
    "The blind watchmaker | Richard Dawkins"
   ]
  },
  {
   "cell_type": "code",
   "execution_count": null,
   "metadata": {},
   "outputs": [],
   "source": [
    "books['The chimpanzees of Gombe'] = 'Jane Goodall'\n",
    "books['The blind watchmaker'] = 'Richard Dawkins'\n",
    "\n",
    "print(books)"
   ]
  }
 ],
 "metadata": {
  "kernelspec": {
   "display_name": "Python 3",
   "language": "python",
   "name": "python3"
  },
  "language_info": {
   "codemirror_mode": {
    "name": "ipython",
    "version": 3
   },
   "file_extension": ".py",
   "mimetype": "text/x-python",
   "name": "python",
   "nbconvert_exporter": "python",
   "pygments_lexer": "ipython3",
   "version": "3.7.6"
  }
 },
 "nbformat": 4,
 "nbformat_minor": 4
}
