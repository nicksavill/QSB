{
 "cells": [
  {
   "cell_type": "markdown",
   "metadata": {},
   "source": [
    "### Exercise 13.1\n",
    "\n",
    "Loop through the following DNA sequences. Stop when you find the first sequence starting with \"TATA\" and print that sequence.\n",
    "\n",
    "* *Hint 1: `break` out of the loop.*\n",
    "* *Hint 2: Use string slicing to access the first four bases of each DNA sequence.*"
   ]
  },
  {
   "cell_type": "code",
   "execution_count": null,
   "metadata": {},
   "outputs": [],
   "source": [
    "dna_sequences = ['TATCATGGTATAGGATGAT', 'CTATAGCCTATATATTAGGA', 'TATATCGCTAGGGTATAGGGTT', 'TATGAGGATTAGA', 'TATAGACTAGGAT']\n",
    "\n",
    "\n",
    "for seq in dna_sequences:\n",
    "    if seq[:4] == 'TATA':\n",
    "        print(seq)\n",
    "        break"
   ]
  },
  {
   "cell_type": "markdown",
   "metadata": {},
   "source": [
    "### Exercise 13.2\n",
    "\n",
    "Count how many of the three stop codons \"TAA\", \"TAG\" and \"TGA\" occur in each of the following DNA sequences in the list `dna_sequences`. Ignore multiple occurrences of the same stop codon in a DNA sequence.\n",
    "\n",
    "* *Hint: You will need a nested loop: An outer loop to go through the sequences and a nested loop to go through the stop codons.*"
   ]
  },
  {
   "cell_type": "code",
   "execution_count": null,
   "metadata": {},
   "outputs": [],
   "source": [
    "dna_sequences = ['TATCATGGTATAGGATGAT', 'CTATAGCCTATATATTAGGA', 'TATATCGCTAGGGTATAGGGTT', 'TATGAGGATTAGA', 'TATAGACTAGGAT']\n",
    "\n",
    "stop_codons = ['TAA', 'TAG', 'TGA']\n",
    "\n",
    "for seq in dna_sequences:\n",
    "    count = 0\n",
    "\n",
    "    for codon in stop_codons:\n",
    "        if codon in seq:\n",
    "            count += 1\n",
    "\n",
    "    if count == 1:\n",
    "        print( f'{count} of the stop codons is in {seq}' )\n",
    "    else:\n",
    "        print( f'{count} of the stop codons are in {seq}' )"
   ]
  }
 ],
 "metadata": {
  "kernelspec": {
   "display_name": "Python 3",
   "language": "python",
   "name": "python3"
  },
  "language_info": {
   "codemirror_mode": {
    "name": "ipython",
    "version": 3
   },
   "file_extension": ".py",
   "mimetype": "text/x-python",
   "name": "python",
   "nbconvert_exporter": "python",
   "pygments_lexer": "ipython3",
   "version": "3.7.6"
  }
 },
 "nbformat": 4,
 "nbformat_minor": 4
}
