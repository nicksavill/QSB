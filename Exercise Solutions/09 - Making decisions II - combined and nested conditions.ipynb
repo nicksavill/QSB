{
 "cells": [
  {
   "cell_type": "markdown",
   "metadata": {},
   "source": [
    "### Exercise 9.1\n",
    "\n",
    "1. Say we have three variables, `x`, `y` and `z` that store decimal numbers.\n",
    "2. Write some code to test and print whether `y` is between `x` and `z`. \n",
    "\n",
    "Test your code on the following sets of numbers.\n",
    "```python\n",
    "x = 12.3\n",
    "y = 7.5\n",
    "z = 3.6\n",
    "```\n",
    "and\n",
    "```python\n",
    "x = -2.5\n",
    "y = 7.5\n",
    "z = 13.6\n",
    "```\n",
    "and\n",
    "```python\n",
    "x = -2.5\n",
    "y = 27.5\n",
    "z = 13.6\n",
    "```"
   ]
  },
  {
   "cell_type": "code",
   "execution_count": null,
   "metadata": {},
   "outputs": [],
   "source": [
    "x = 12.3\n",
    "y = 7.5\n",
    "z = 3.6\n",
    "\n",
    "if (x < y and y < z) or (z < y and y < x):\n",
    "    print( f'{y} is between {x} and {z}' )\n",
    "else:\n",
    "    print( f'{y} is not between {x} and {z}' )"
   ]
  },
  {
   "cell_type": "markdown",
   "metadata": {},
   "source": [
    "### Exercise 9.2\n",
    "\n",
    "1. Ask for input of a word.\n",
    "2. Test and print whether either of the letters 'a' or 'e' are in the word."
   ]
  },
  {
   "cell_type": "code",
   "execution_count": null,
   "metadata": {
    "cocalc": {
     "outputs": {
      "0": {
       "name": "input",
       "opts": {
        "password": false,
        "prompt": "Enter a word: "
       },
       "output_type": "stream",
       "value": "hello"
      }
     }
    }
   },
   "outputs": [],
   "source": [
    "word = input('Enter a word: ')\n",
    "\n",
    "if 'a' in word or 'e' in word:\n",
    "    print( f'\"a\" or \"e\" are in {word}' )\n",
    "else:\n",
    "    print( f'\"a\" or \"e\" are not in {word}' )"
   ]
  },
  {
   "cell_type": "markdown",
   "metadata": {},
   "source": [
    "### Exercise 9.3\n",
    "\n",
    "1. Ask for input of a DNA base (A, C, G, and T) in lower or upper case.\n",
    "2. First test that the input is a single letter rather than no input or more than one letter. *Hint: Use `len()`.*\n",
    "3. If the first test is True, next test if the letter entered is a valid base and not some other letter. Print whether the base is valid or not.\n",
    "4. If the first test is False print that the input is not a valid base. \n",
    "\n",
    "**Harder exercise**\n",
    "\n",
    "Write the algorithm in 4 lines of code."
   ]
  },
  {
   "cell_type": "code",
   "execution_count": null,
   "metadata": {},
   "outputs": [],
   "source": [
    "base = input('Enter a base: ')\n",
    "\n",
    "# Method 1: 7 lines of code\n",
    "if len(base) == 1:\n",
    "    if base.upper() in 'ACGT':\n",
    "        print( 'base is valid' )\n",
    "    else:\n",
    "        print( 'base is not valid' )\n",
    "else:\n",
    "    print( 'base is not valid' )\n",
    "    \n",
    "# Method 2: 4 lines of code\n",
    "if len(base) == 1 and base.upper() in 'ACGT':\n",
    "    print( 'base is valid' )\n",
    "else:\n",
    "    print( 'base is not valid' )\n",
    "    "
   ]
  },
  {
   "cell_type": "markdown",
   "metadata": {},
   "source": [
    "### Exercise 9.4\n",
    "\n",
    "1. Ask for input of a word.\n",
    "2. If the letter \"r\" is in the word print the boolean `True` otherwise print the boolean `False`. That is, print the boolean values of the condition not the strings \"True\" and \"False\".\n",
    "\n",
    "**Harder exercise**\n",
    "\n",
    "See if you can combine the condition and the print statement in one line of code.\n"
   ]
  },
  {
   "cell_type": "code",
   "execution_count": null,
   "metadata": {},
   "outputs": [],
   "source": [
    "word = input('Enter a word: ')\n",
    "\n",
    "print( 'r' in word )"
   ]
  }
 ],
 "metadata": {
  "kernelspec": {
   "display_name": "Python 3",
   "language": "python",
   "name": "python3"
  },
  "language_info": {
   "codemirror_mode": {
    "name": "ipython",
    "version": 3
   },
   "file_extension": ".py",
   "mimetype": "text/x-python",
   "name": "python",
   "nbconvert_exporter": "python",
   "pygments_lexer": "ipython3",
   "version": "3.8.3"
  }
 },
 "nbformat": 4,
 "nbformat_minor": 4
}
