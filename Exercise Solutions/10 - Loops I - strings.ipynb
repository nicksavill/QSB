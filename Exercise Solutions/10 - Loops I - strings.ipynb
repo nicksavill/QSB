{
 "cells": [
  {
   "cell_type": "markdown",
   "metadata": {
    "button": false,
    "new_sheet": false,
    "run_control": {
     "read_only": false
    }
   },
   "source": [
    "### Exercise 10.1\n",
    "\n",
    "Loop through the following string printing out each character."
   ]
  },
  {
   "cell_type": "code",
   "execution_count": null,
   "metadata": {},
   "outputs": [],
   "source": [
    "book_title = \"The Chimpanzees of Gombe\"\n",
    "\n",
    "for c in book_title:\n",
    "    print(c)"
   ]
  },
  {
   "cell_type": "markdown",
   "metadata": {
    "button": false,
    "new_sheet": false,
    "run_control": {
     "read_only": false
    }
   },
   "source": [
    "### Exercise 10.2\n",
    "\n",
    "Loop through the following string in reverse printing out each character.\n",
    "* *Hint: See Notebook 6 for how to reverse a string.*"
   ]
  },
  {
   "cell_type": "code",
   "execution_count": null,
   "metadata": {},
   "outputs": [],
   "source": [
    "book_title = \"The Chimpanzees of Gombe\"\n",
    "\n",
    "for c in book_title[::-1]:\n",
    "    print(c)"
   ]
  },
  {
   "cell_type": "markdown",
   "metadata": {
    "button": false,
    "new_sheet": false,
    "run_control": {
     "read_only": false
    }
   },
   "source": [
    "### Exercise 10.3\n",
    "\n",
    "In Notebook 5 we introduced the `len()` function which returns the length of a string. Write your own code that counts the number characters in a string and then prints it out.\n",
    "\n",
    "1. Write your own code which uses a loop to count the number characters in the string variable `book_intro` and then prints it out.\n",
    "\n",
    "2. Test that your code gives the correct answer by using `len(book_intro)`.\n",
    "\n",
    "    * *Hint: You will need a tally variable to keep a count of the number of characters.*"
   ]
  },
  {
   "cell_type": "code",
   "execution_count": null,
   "metadata": {},
   "outputs": [],
   "source": [
    "book_intro = \"Temper tantrums are a characteristic performance of the infant and young juvenile chimpanzee. The animal screaming loudly either leaps into the air with its arms above its head or hurls itself to the ground, writhing about and often hitting itself against surrounding objects.\"\n",
    "\n",
    "count = 0\n",
    "for c in book_intro:\n",
    "    count += 1\n",
    "\n",
    "print(count)\n",
    "print(len(book_intro))"
   ]
  },
  {
   "cell_type": "markdown",
   "metadata": {},
   "source": [
    "### Exercise 10.4\n",
    "\n",
    "Many common tasks in Python usually have an inbuilt method. Counting the number of occurrences of a character in a string is a common thing to do. \n",
    "\n",
    "Try googling \"python count character in string\" to see if you can discover a simpler method for counting \"f\"s in the following sentence. Then use that method to count \"f\"s.\n",
    "* *Hint: Remember to count both lowercase and uppercase \"f\"s.*"
   ]
  },
  {
   "cell_type": "code",
   "execution_count": null,
   "metadata": {},
   "outputs": [],
   "source": [
    "sentence = 'The embryo of Festuca fusca, a native plant species of Old-World countries, is almost half the full length of its grain.'\n",
    "\n",
    "print( sentence.count('f') + sentence.count('F') )"
   ]
  }
 ],
 "metadata": {
  "kernelspec": {
   "display_name": "Python 3",
   "language": "python",
   "name": "python3"
  },
  "language_info": {
   "codemirror_mode": {
    "name": "ipython",
    "version": 3
   },
   "file_extension": ".py",
   "mimetype": "text/x-python",
   "name": "python",
   "nbconvert_exporter": "python",
   "pygments_lexer": "ipython3",
   "version": "3.8.3"
  }
 },
 "nbformat": 4,
 "nbformat_minor": 4
}
