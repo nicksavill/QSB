{
 "cells": [
  {
   "cell_type": "markdown",
   "metadata": {
    "button": false,
    "new_sheet": false,
    "run_control": {
     "read_only": false
    }
   },
   "source": [
    "### Exercise 11.1\n",
    "\n",
    "1. Create a list with the following items: 1, 1, 2, 3, 5, 8.\n",
    "2. Assign it to the variable called `fib`.\n",
    "3. And print it."
   ]
  },
  {
   "cell_type": "code",
   "execution_count": null,
   "metadata": {},
   "outputs": [],
   "source": [
    "fib = [1, 1, 2, 3, 5, 8]\n",
    "print( fib )"
   ]
  },
  {
   "cell_type": "markdown",
   "metadata": {
    "button": false,
    "new_sheet": false,
    "run_control": {
     "read_only": false
    }
   },
   "source": [
    "### Exercise 11.2\n",
    "\n",
    "Print the length of the list `fib`."
   ]
  },
  {
   "cell_type": "code",
   "execution_count": null,
   "metadata": {},
   "outputs": [],
   "source": [
    "print( len(fib) )"
   ]
  },
  {
   "cell_type": "markdown",
   "metadata": {
    "button": false,
    "new_sheet": false,
    "run_control": {
     "read_only": false
    }
   },
   "source": [
    "### Exercise 11.3\n",
    "\n",
    "1. Create an empty list called `eggs_laid`.\n",
    "2. Add the following two items to the list: 10, 11.\n",
    "3. And print it."
   ]
  },
  {
   "cell_type": "code",
   "execution_count": null,
   "metadata": {},
   "outputs": [],
   "source": [
    "eggs_laid = []\n",
    "eggs_laid.append(10)\n",
    "eggs_laid.append(11)\n",
    "print( eggs_laid )"
   ]
  },
  {
   "cell_type": "markdown",
   "metadata": {
    "button": false,
    "new_sheet": false,
    "run_control": {
     "read_only": false
    }
   },
   "source": [
    "### Exercise 11.4\n",
    "\n",
    "1. Sort the following list in place.\n",
    "2. Print it.\n",
    "\n",
    "\n",
    "* Note: As this is a list of strings, the list will be sorted alphabetically."
   ]
  },
  {
   "cell_type": "code",
   "execution_count": null,
   "metadata": {},
   "outputs": [],
   "source": [
    "cell_types = ['Neutrophil', 'Eosinophil', 'Basophil', 'Small lymphocyte', 'Large lymphocyte', 'Monocyte']\n",
    "\n",
    "\n",
    "cell_types.sort()\n",
    "print( cell_types )"
   ]
  },
  {
   "cell_type": "markdown",
   "metadata": {
    "button": false,
    "new_sheet": false,
    "run_control": {
     "read_only": false
    }
   },
   "source": [
    "### Exercise 11.5\n",
    "\n",
    "1. Sort the following list and assign it to a new variable called `sorted_eggs_laid`.\n",
    "2. Print `sorted_eggs_laid`."
   ]
  },
  {
   "cell_type": "code",
   "execution_count": null,
   "metadata": {
    "button": false,
    "new_sheet": false,
    "run_control": {
     "read_only": false
    }
   },
   "outputs": [],
   "source": [
    "eggs_laid = [10,11,14,16,13,14,12,10,16,11,12,13,16,11,10,14,16,16,15,12,11,13,14,15,12,14,12,15,13,13,11]\n",
    "\n",
    "\n",
    "sorted_eggs_laid = sorted(eggs_laid)\n",
    "print(sorted_eggs_laid)"
   ]
  },
  {
   "cell_type": "markdown",
   "metadata": {
    "button": false,
    "new_sheet": false,
    "run_control": {
     "read_only": false
    }
   },
   "source": [
    "### Exercise 11.6\n",
    "\n",
    "Access and print items from the second to the sixth positions inclusive from `sorted_eggs_laid`.\n",
    "* *Hint: Remember that the first item of a list has index 0.*"
   ]
  },
  {
   "cell_type": "code",
   "execution_count": null,
   "metadata": {},
   "outputs": [],
   "source": [
    "print( sorted_eggs_laid[1:6] )"
   ]
  },
  {
   "cell_type": "markdown",
   "metadata": {
    "button": false,
    "new_sheet": false,
    "run_control": {
     "read_only": false
    }
   },
   "source": [
    "### Exercise 11.7\n",
    "\n",
    "Print the reverse of the list `sorted_eggs_laid`."
   ]
  },
  {
   "cell_type": "code",
   "execution_count": null,
   "metadata": {},
   "outputs": [],
   "source": [
    "print( sorted_eggs_laid[::-1] )"
   ]
  },
  {
   "cell_type": "markdown",
   "metadata": {
    "button": false,
    "new_sheet": false,
    "run_control": {
     "read_only": false
    }
   },
   "source": [
    "### Exercise 11.8\n",
    "\n",
    "Get and print the index of the first item with value 14 from `sorted_eggs_laid`."
   ]
  },
  {
   "cell_type": "code",
   "execution_count": null,
   "metadata": {},
   "outputs": [],
   "source": [
    "print( sorted_eggs_laid.index(14) )"
   ]
  },
  {
   "cell_type": "markdown",
   "metadata": {},
   "source": [
    "### Exercise 11.9\n",
    "\n",
    "A single nighttime survey of bats in the Forest of Dean produced a list of the species of all individual bats caught.\n",
    "\n",
    "Test if the bat species *Myotis alcathoe* is in the following list `bat_list` and print whether it is or not."
   ]
  },
  {
   "cell_type": "code",
   "execution_count": null,
   "metadata": {},
   "outputs": [],
   "source": [
    "bat_list = ['Plecotus austriacus', 'Pipistrellus nathusii', 'Myotis daubentonii', 'Nyctalus noctula', 'Pipistrellus pipistrellus', 'Pipistrellus pipistrellus', 'Pipistrellus nathusii', 'Pipistrellus nathusii', 'Eptesicus serotinus', 'Myotis bechsteinii', 'Pipistrellus nathusii', 'Pipistrellus pygmaeus', 'Pipistrellus pipistrellus', 'Plecotus austriacus', 'Myotis daubentonii', 'Nyctalus noctula', 'Myotis brandtii', 'Myotis mystacinus', 'Pipistrellus nathusii', 'Pipistrellus pygmaeus', 'Pipistrellus nathusii', 'Rhinolophus hipposideros', 'Nyctalus leisleri', 'Pipistrellus pipistrellus', 'Pipistrellus nathusii', 'Nyctalus noctula', 'Plecotus austriacus', 'Pipistrellus nathusii', 'Myotis nattereri', 'Pipistrellus pipistrellus', 'Pipistrellus nathusii', 'Plecotus auritus', 'Barbastella barbastellus', 'Pipistrellus nathusii', 'Myotis brandtii', 'Pipistrellus pipistrellus', 'Myotis nattereri']\n",
    "\n",
    "\n",
    "if 'Myotis alcathoe' in bat_list:\n",
    "    print( 'Myotis alcathoe is in bat_list' )\n",
    "else:\n",
    "    print( 'Myotis alcathoe is not in bat_list' )"
   ]
  },
  {
   "cell_type": "markdown",
   "metadata": {},
   "source": [
    "### Exercise 11.10 \n",
    "\n",
    "Test if the bat species *Rhinolophus hipposideros* is in the above list `bat_list`. If it is, print its index in the list otherwise print that it is not in the list."
   ]
  },
  {
   "cell_type": "code",
   "execution_count": null,
   "metadata": {},
   "outputs": [],
   "source": [
    "idx = bat_list.index('Rhinolophus hipposideros')\n",
    "\n",
    "if idx == -1:\n",
    "    print( 'Rhinolophus hipposideros is not in bat list')\n",
    "else:\n",
    "    print( f'Rhinolophus hipposideros is in bat list at index {idx}')"
   ]
  }
 ],
 "metadata": {
  "kernelspec": {
   "display_name": "Python 3",
   "language": "python",
   "name": "python3"
  },
  "language_info": {
   "codemirror_mode": {
    "name": "ipython",
    "version": 3
   },
   "file_extension": ".py",
   "mimetype": "text/x-python",
   "name": "python",
   "nbconvert_exporter": "python",
   "pygments_lexer": "ipython3",
   "version": "3.7.6"
  }
 },
 "nbformat": 4,
 "nbformat_minor": 4
}
