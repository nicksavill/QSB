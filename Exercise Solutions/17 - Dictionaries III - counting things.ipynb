{
 "cells": [
  {
   "cell_type": "markdown",
   "metadata": {},
   "source": [
    "### Exercise 17.1\n",
    "<a href=\"#17.1\"></a>\n",
    "\n",
    "A student field trip to Madagascar resulted in the sightings in the following individual lemurs. \n",
    "\n",
    "1. Create a dictionary of the number of sightings of each lemur species.\n",
    "2. Print out each species name and its number of sightings in descending order of sightings."
   ]
  },
  {
   "cell_type": "code",
   "execution_count": null,
   "metadata": {},
   "outputs": [],
   "source": [
    "lemurs = ['White-headed lemur', 'Gray-headed lemur', 'Common brown lemur', 'Collared brown lemur', 'Red lemur', 'Collared brown lemur', 'Red-fronted lemur', 'Red-bellied lemur', 'Collared brown lemur', 'Crowned lemur', 'Red lemur', 'Crowned lemur', 'Blue-eyed black lemur', 'Common brown lemur', 'Mongoose lemur', 'Common brown lemur', \"Sanford's brown lemur\", 'White-headed lemur', 'Black lemur', 'Mongoose lemur', 'Red-bellied lemur', 'Red-fronted lemur', 'Blue-eyed black lemur', 'Collared brown lemur', 'Blue-eyed black lemur', 'White-headed lemur', 'Red lemur', 'Red-bellied lemur', 'Gray-headed lemur', 'Red-bellied lemur', 'Red lemur', 'Common brown lemur', 'Mongoose lemur', 'Red lemur', 'Common brown lemur', \"Sanford's brown lemur\"]\n",
    "\n",
    "\n",
    "sightings = {}\n",
    "\n",
    "for lemur in lemurs:\n",
    "    if lemur not in sightings:\n",
    "        sightings[lemur] = 1\n",
    "    else:\n",
    "        sightings[lemur] += 1\n",
    "\n",
    "for species, count in sorted(sightings.items(), reverse=True, key=lambda kv: kv[1]):\n",
    "    print( f'{species}\\t{count}')"
   ]
  }
 ],
 "metadata": {
  "kernelspec": {
   "display_name": "Python 3",
   "language": "python",
   "name": "python3"
  },
  "language_info": {
   "codemirror_mode": {
    "name": "ipython",
    "version": 3
   },
   "file_extension": ".py",
   "mimetype": "text/x-python",
   "name": "python",
   "nbconvert_exporter": "python",
   "pygments_lexer": "ipython3",
   "version": "3.7.6"
  }
 },
 "nbformat": 4,
 "nbformat_minor": 4
}
