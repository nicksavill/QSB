{
 "cells": [
  {
   "cell_type": "markdown",
   "metadata": {},
   "source": [
    "### Exercise 16.1\n",
    "\n",
    "Loop through the dictionary `mushrooms` printing each scientific name."
   ]
  },
  {
   "cell_type": "code",
   "execution_count": null,
   "metadata": {},
   "outputs": [],
   "source": [
    "mushrooms = {\n",
    "    'Fistulina hepatica':'Beefsteak',\n",
    "    'Laetiporus sulphureus':'Chicken-of-the-Woods',\n",
    "    'Flammulina velutipes':'Enoki',\n",
    "    'Hericium erinaceus':'Lion’s Mane',\n",
    "    'Pholiota nameko':'Nameko',\n",
    "    'Pleurotus ostreatus':'Pearl oyster',\n",
    "    'Ganoderma lucidium':'Reishi',\n",
    "    'Lentinus edodes':'Shiitake'}\n"
   ]
  },
  {
   "cell_type": "code",
   "execution_count": null,
   "metadata": {},
   "outputs": [],
   "source": [
    "for mushroom in mushrooms:\n",
    "    print(mushroom)"
   ]
  },
  {
   "cell_type": "markdown",
   "metadata": {},
   "source": [
    "### Exercise 16.2\n",
    "\n",
    "Loop through `mushrooms` printing both the scientific and common names."
   ]
  },
  {
   "cell_type": "code",
   "execution_count": null,
   "metadata": {},
   "outputs": [],
   "source": [
    "for sci_name, common_name in mushrooms.items():\n",
    "    print(f'{sci_name}\\t{common_name}')"
   ]
  },
  {
   "cell_type": "markdown",
   "metadata": {},
   "source": [
    "### Exercise 16.3\n",
    "\n",
    "Loop through `mushrooms` printing the scientific name in alphabetical order."
   ]
  },
  {
   "cell_type": "code",
   "execution_count": null,
   "metadata": {},
   "outputs": [],
   "source": [
    "for mushroom in sorted(mushrooms):\n",
    "    print(mushroom)"
   ]
  },
  {
   "cell_type": "markdown",
   "metadata": {},
   "source": [
    "### Exercise 16.4\n",
    "\n",
    "Loop through `mushrooms` with the scientific name in reverse alphabetical order."
   ]
  },
  {
   "cell_type": "code",
   "execution_count": null,
   "metadata": {},
   "outputs": [],
   "source": [
    "for sci_name, common_name in sorted(mushrooms.items(), key=lambda kv: kv[1]):\n",
    "    print(f'{sci_name}\\t{common_name}')"
   ]
  }
 ],
 "metadata": {
  "kernelspec": {
   "display_name": "Python 3",
   "language": "python",
   "name": "python3"
  },
  "language_info": {
   "codemirror_mode": {
    "name": "ipython",
    "version": 3
   },
   "file_extension": ".py",
   "mimetype": "text/x-python",
   "name": "python",
   "nbconvert_exporter": "python",
   "pygments_lexer": "ipython3",
   "version": "3.7.6"
  }
 },
 "nbformat": 4,
 "nbformat_minor": 4
}
