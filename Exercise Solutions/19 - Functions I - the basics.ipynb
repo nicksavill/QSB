{
 "cells": [
  {
   "cell_type": "markdown",
   "metadata": {
    "button": false,
    "new_sheet": false,
    "run_control": {
     "read_only": false
    }
   },
   "source": [
    "### Exercise 19.1\n",
    "\n",
    "1. Write a function called `halve_number()` that halves any number passed to it and returns the result. \n",
    "2. Add a doc-string to your function."
   ]
  },
  {
   "cell_type": "code",
   "execution_count": null,
   "metadata": {},
   "outputs": [],
   "source": [
    "def halve_number(x):\n",
    "    \"\"\"Halve the value of x\"\"\"\n",
    "    return x/2\n",
    "\n",
    "\n",
    "x = halve_number(10)\n",
    "print(f'half of 10 is {x}')\n",
    "\n",
    "y = halve_number(32.6)\n",
    "print(f'half of 32.6 is {y}')\n"
   ]
  },
  {
   "cell_type": "markdown",
   "metadata": {
    "button": false,
    "new_sheet": false,
    "run_control": {
     "read_only": false
    }
   },
   "source": [
    "### Exercise 19.2\n",
    "\n",
    "1. Write a function called `first_codon()` that returns the first three bases of a DNA sequence passed to it.\n",
    "2. Add a doc-string to your function.\n",
    "\n",
    "    * *Hint: Use string slicing in your function to obtain the first three bases of the DNA sequence passed to it.*\n"
   ]
  },
  {
   "cell_type": "code",
   "execution_count": null,
   "metadata": {},
   "outputs": [],
   "source": [
    "def first_codon(dna_seq):\n",
    "    \"\"\"return first codon of dna_seq\"\"\"\n",
    "    return dna_seq[:3]\n",
    "\n",
    "\n",
    "codon = first_codon('GACTATCAGGTAG')\n",
    "print(codon)\n",
    "\n",
    "codon = first_codon('GGCCTTGGTTGG')\n",
    "print(codon)"
   ]
  },
  {
   "cell_type": "markdown",
   "metadata": {
    "button": false,
    "new_sheet": false,
    "run_control": {
     "read_only": false
    }
   },
   "source": [
    "### Exercise 19.3\n",
    "\n",
    "1. Write a function called `contains_start_codon()` that returns `True` if the DNA sequence passed to it contains the start codon \"ATG\" or returns `False` if it doesn't.\n",
    "2. Add a doc-string to your function.\n",
    "\n",
    "    * *Hint: Your function must return boolean `True` or `False` not the strings \"True\" or \"False\".*"
   ]
  },
  {
   "cell_type": "code",
   "execution_count": null,
   "metadata": {},
   "outputs": [],
   "source": [
    "def contains_start_codon(dna_seq):\n",
    "    \"\"\"return if dna_seq contains ATG\"\"\"\n",
    "    return 'ATG' in dna_seq\n",
    "\n",
    "if contains_start_codon('GACGATGATGAGGA'):\n",
    "    print('contains ATG')\n",
    "else:\n",
    "    print('does not contain ATG')\n",
    "\n",
    "if contains_start_codon('GACGGTGTTGAGGA'):\n",
    "    print('contains ATG')\n",
    "else:\n",
    "    print('does not contain ATG')"
   ]
  }
 ],
 "metadata": {
  "kernelspec": {
   "display_name": "Python 3",
   "language": "python",
   "name": "python3"
  },
  "language_info": {
   "codemirror_mode": {
    "name": "ipython",
    "version": 3
   },
   "file_extension": ".py",
   "mimetype": "text/x-python",
   "name": "python",
   "nbconvert_exporter": "python",
   "pygments_lexer": "ipython3",
   "version": "3.8.3"
  }
 },
 "nbformat": 4,
 "nbformat_minor": 4
}
