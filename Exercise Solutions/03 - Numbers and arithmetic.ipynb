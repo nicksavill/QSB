{
 "cells": [
  {
   "cell_type": "markdown",
   "metadata": {},
   "source": [
    "### Exercise 3.1\n",
    "\n",
    "In your head, or on paper, work out the following arithmetic as you would expect Python to do it using the rules of precedence.\n",
    "\n",
    "* 5 * 5 - 5 = ?\n",
    "* 10 - 2 * 3 = ?\n",
    "* 20 + 5 * 2 - 10 = ?\n",
    "* 4 + 4 / 2 = ?\n",
    "* 2 * 5 ** 2 = ?\n",
    "* 9 / 3 ** 2 = ? \n",
    "\n",
    "Check your answers by typing them into the code cell below."
   ]
  },
  {
   "cell_type": "code",
   "execution_count": null,
   "metadata": {},
   "outputs": [],
   "source": [
    "print(5 * 5 - 5)\n",
    "print(10 - 2 * 3)\n",
    "print(20 + 5 * 2)\n",
    "print(4 + 4 / 2)\n",
    "print(2 * 5 ** 2)\n",
    "print(9 / 3 ** 2)"
   ]
  },
  {
   "cell_type": "markdown",
   "metadata": {},
   "source": [
    "### Exercise 3.2\n",
    "\n",
    "What are the types of each of the following numbers?\n",
    "* -6\n",
    "* 10.3\n",
    "* 99.0\n",
    "* -1.0\n",
    "\n",
    "Check your answers in the code cell below."
   ]
  },
  {
   "cell_type": "code",
   "execution_count": null,
   "metadata": {},
   "outputs": [],
   "source": [
    "print( type(-6) )\n",
    "print( type(10.3) )\n",
    "print( type(99.0) )\n",
    "print( type(-1.0) )"
   ]
  },
  {
   "cell_type": "markdown",
   "metadata": {},
   "source": [
    "### Exercise 3.3\n",
    "\n",
    "1. What type of number do you get if you do `4 / 2`?\n",
    "2. What type of number do you get if you do `4 // 2`?\n",
    "\n",
    "Check your answer below."
   ]
  },
  {
   "cell_type": "code",
   "execution_count": null,
   "metadata": {},
   "outputs": [],
   "source": [
    "print( type(4/2) )\n",
    "print( type(4//2) )"
   ]
  },
  {
   "cell_type": "markdown",
   "metadata": {},
   "source": [
    "### Exercise 3.4\n",
    "\n",
    "Round the following floats to the given number of decimal places.\n",
    "\n",
    "* 34.2694 to 2dp\n",
    "* -1.4 to 0dp\n",
    "* 1024.234 to 1dp\n",
    "\n"
   ]
  },
  {
   "cell_type": "code",
   "execution_count": null,
   "metadata": {},
   "outputs": [],
   "source": [
    "print( round(34.2694, 2) )\n",
    "print( round(-1.4, 0))\n",
    "print( round(1024.234, 1) )"
   ]
  },
  {
   "cell_type": "markdown",
   "metadata": {},
   "source": [
    "### Exercise 3.5\n",
    "\n",
    "What are the circumference and area of a circle of radius 5.4 cm rounded to 1 decimal place?\n",
    "\n",
    "*If you've forgotten what the circumference and area of a circle are use google.*"
   ]
  },
  {
   "cell_type": "code",
   "execution_count": null,
   "metadata": {},
   "outputs": [],
   "source": [
    "# Circumference is 2 * pi * radius\n",
    "print( round(2 * 3.142 * 5.4, 1) )\n",
    "\n",
    "# Area is pi * radius**2\n",
    "print( round(3.142 * 5.4**2, 1) )"
   ]
  },
  {
   "cell_type": "markdown",
   "metadata": {},
   "source": [
    "### Exercise 3.6\n",
    "\n",
    "Use Python code to calculate the average of the following set of numbers to 2dp: \n",
    "```python\n",
    "11, 11, 13.5, 7.5, 13.5, 22.5\n",
    "```"
   ]
  },
  {
   "cell_type": "code",
   "execution_count": 1,
   "metadata": {},
   "outputs": [
    {
     "name": "stdout",
     "output_type": "stream",
     "text": [
      "13.17\n"
     ]
    }
   ],
   "source": [
    "print( round( (11 + 11 + 13.5 + 7.5 + 13.5 + 22.5)/6, 2 ) )"
   ]
  },
  {
   "cell_type": "markdown",
   "metadata": {},
   "source": [
    "### Exercise 3.7\n",
    "\n",
    "Avogadro's constant, $N_A$, is the number of particles (e.g, molecules, atoms, ions) in 1 mole of a substance. It's value is approximately 6.022 x 10<sup>23</sup> mol<sup>-1</sup>.\n",
    "\n",
    "In the code cell below, write Avogadro's constant in e-notation."
   ]
  },
  {
   "cell_type": "code",
   "execution_count": null,
   "metadata": {},
   "outputs": [],
   "source": [
    "6.022e23"
   ]
  },
  {
   "cell_type": "code",
   "execution_count": null,
   "metadata": {},
   "outputs": [],
   "source": []
  },
  {
   "cell_type": "markdown",
   "metadata": {},
   "source": [
    "### Exercise 3.8\n",
    "\n",
    "The mass of the electron is approximately 9.11 x 10<sup>-31</sup> kg.\n",
    "\n",
    "In the code cell below, write the electron's mass in e-notation."
   ]
  },
  {
   "cell_type": "code",
   "execution_count": null,
   "metadata": {},
   "outputs": [],
   "source": [
    "9.11e-31"
   ]
  },
  {
   "cell_type": "code",
   "execution_count": null,
   "metadata": {},
   "outputs": [],
   "source": []
  }
 ],
 "metadata": {
  "kernelspec": {
   "display_name": "Python 3 (ipykernel)",
   "language": "python",
   "name": "python3"
  },
  "language_info": {
   "codemirror_mode": {
    "name": "ipython",
    "version": 3
   },
   "file_extension": ".py",
   "mimetype": "text/x-python",
   "name": "python",
   "nbconvert_exporter": "python",
   "pygments_lexer": "ipython3",
   "version": "3.9.7"
  }
 },
 "nbformat": 4,
 "nbformat_minor": 4
}
