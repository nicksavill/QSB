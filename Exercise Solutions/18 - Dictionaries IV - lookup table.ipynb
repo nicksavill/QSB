{
 "cells": [
  {
   "cell_type": "markdown",
   "metadata": {},
   "source": [
    "### Exercise 18.1\n",
    "\n",
    "Restriction enzymes are proteins that cut DNA at specific sites called *cleavage sites*. These sites are widely used for DNA modification and cloning. Interestingly, cleavage sites are palindromic. \n",
    "\n",
    "A DNA palindrome is not quite the same as a word palindrome though. Remember, a word palindrome reads the same backward and forward, such as \"level\".\n",
    "\n",
    "DNA is double stranded. The two strands are complementary, so an A on one strand pairs with a T on the other strand, and G pairs with C. So given one strand, say \"AACCGGTT\" we know that its complement will be \"TTGGCCAA\".\n",
    "\n",
    "A DNA sequence is said to be palindromic if its reverse complement is the same as the DNA sequence. For example, the DNA sequence \"ATGATCAT\" is palindromic because its complement is \"TACTAGTA\", which, when reversed, is \"ATGATCAT\".\n",
    "\n",
    "Write some code to test and print whether the following DNA sequence is palindromic. \n",
    "* *Hint 1: You can reuse the code in Notebook 18 to construct a complementary sequence.*\n",
    "* *Hint 2: You need a conditional statement to test if the DNA sequence equals its reverse complement.*"
   ]
  },
  {
   "cell_type": "code",
   "execution_count": null,
   "metadata": {},
   "outputs": [],
   "source": [
    "complement_table = {\n",
    "    'A':'T',\n",
    "    'C':'G',\n",
    "    'G':'C',\n",
    "    'T':'A'}\n",
    "\n",
    "dna_seq = 'ACAGGTACCTGT'\n",
    "\n",
    "\n",
    "complement_seq = ''\n",
    "\n",
    "for base in dna_seq:\n",
    "    complement_base = complement_table[base]\n",
    "    complement_seq += complement_base\n",
    "\n",
    "if complement_seq[::-1] == dna_seq:\n",
    "    print(f'{dna_seq} is palindromic')\n",
    "else:\n",
    "    print(f'{dna_seq} is not palindromic')"
   ]
  },
  {
   "cell_type": "markdown",
   "metadata": {},
   "source": [
    "### Exercise 18.2\n",
    "\n",
    "Modify your code so that it tests each of the DNA sequences in the following list.\n",
    "* *Hint 1: You'll need a nested loop (see Notebook 13); the outer loop goes through the list one sequence at a time and the nested loop goes through the bases of each sequence.*\n",
    "* *Hint 2: The complement sequence string needs to be assigned the empty string on each iteration of the loop.*"
   ]
  },
  {
   "cell_type": "code",
   "execution_count": null,
   "metadata": {},
   "outputs": [],
   "source": [
    "complement_table = {\n",
    "    'A':'T',\n",
    "    'C':'G',\n",
    "    'G':'C',\n",
    "    'T':'A'}\n",
    "\n",
    "dna_sequences = [ 'ACGTAATTACGT','ATGATATATCAT','ATTAGTACAAAG','GGACCCCGTTTA','AAAGATATCTTT' ]\n",
    "\n",
    "\n",
    "for dna_seq in dna_sequences:\n",
    "    complement_seq = ''\n",
    "\n",
    "    for base in dna_seq:\n",
    "        complement_base = complement_table[base]\n",
    "        complement_seq += complement_base\n",
    "\n",
    "    if complement_seq[::-1] == dna_seq:\n",
    "        print(f'{dna_seq} is palindromic')\n",
    "    else:\n",
    "        print(f'{dna_seq} is not palindromic')\n"
   ]
  },
  {
   "cell_type": "markdown",
   "metadata": {},
   "source": [
    "### Exercise 18.3\n",
    "\n",
    "The molecular masses of amino acids vary. The dictionary in the following code cell gives the molecular masses in Daltons (1 Dalton is 1.7x10<sup>-24</sup> grams) of each of the amino acids represented by their letters.\n",
    "\n",
    "Write a a program that calculates and prints the molecular mass of the peptide \"FWGCYPT\" to 5dp.\n",
    "\n",
    "* *Hint: Have a variable to store the peptide's mass and initialise to 0. Loop through the peptide sequence incrementing the peptide's mass by looking up each amino acid's mass in the dictionary `masses`.*"
   ]
  },
  {
   "cell_type": "code",
   "execution_count": null,
   "metadata": {},
   "outputs": [],
   "source": [
    "masses = {\n",
    "    \"A\" : 71.03711,\n",
    "    \"C\" : 103.00919,\n",
    "    \"D\" : 115.02694,\n",
    "    \"E\" : 129.04259,\n",
    "    \"F\" : 147.06841,\n",
    "    \"G\" :  57.02146,\n",
    "    \"H\" : 137.05891,\n",
    "    \"I\" : 113.08406,\n",
    "    \"K\" : 128.09496,\n",
    "    \"L\" : 113.08406,\n",
    "    \"M\" : 131.04049,\n",
    "    \"N\" : 114.04293,\n",
    "    \"P\" :  97.05276,\n",
    "    \"Q\" : 128.05858,\n",
    "    \"R\" : 156.10111,\n",
    "    \"S\" :  87.03203,\n",
    "    \"T\" : 101.04768,\n",
    "    \"V\" :  99.06841,\n",
    "    \"W\" : 186.07931,\n",
    "    \"Y\" : 163.06333}\n",
    "\n",
    "peptide = \"FWGCYPT\"\n",
    "\n",
    "mass = 0\n",
    "\n",
    "for aa in peptide:\n",
    "    mass += masses[aa]\n",
    "\n",
    "print(f'molecular mass of {peptide} is {mass:.5f} Daltons')"
   ]
  }
 ],
 "metadata": {
  "kernelspec": {
   "display_name": "Python 3",
   "language": "python",
   "name": "python3"
  },
  "language_info": {
   "codemirror_mode": {
    "name": "ipython",
    "version": 3
   },
   "file_extension": ".py",
   "mimetype": "text/x-python",
   "name": "python",
   "nbconvert_exporter": "python",
   "pygments_lexer": "ipython3",
   "version": "3.8.3"
  }
 },
 "nbformat": 4,
 "nbformat_minor": 4
}
