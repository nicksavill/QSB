{
 "cells": [
  {
   "cell_type": "markdown",
   "metadata": {},
   "source": [
    "### Exercise 5.1\n",
    "\n",
    "1. Assign the string \"The Beagle\" to a string variable called `darwin_ship`.\n",
    "\n",
    "2. Print `darwin_ship`.\n",
    "\n",
    "3. Print the length of `darwin_ship`.\n"
   ]
  },
  {
   "cell_type": "code",
   "execution_count": 0,
   "metadata": {},
   "outputs": [],
   "source": [
    "darwin_ship = 'The Beagle'\n",
    "print( darwin_ship )\n",
    "print( len(darwin_ship) )"
   ]
  },
  {
   "cell_type": "markdown",
   "metadata": {},
   "source": [
    "### Exercise 5.2\n",
    "\n",
    "1. Assign the empty string to the variable `famous_scientists`.\n",
    "\n",
    "2. Add \"Jane\" to your empty string.\n",
    "\n",
    "3. Add a space to your string.\n",
    "\n",
    "4. Add \"Goodall\" to your string and print it."
   ]
  },
  {
   "cell_type": "code",
   "execution_count": 1,
   "metadata": {},
   "outputs": [
    {
     "name": "stdout",
     "output_type": "stream",
     "text": [
      "Jane Goodall\n"
     ]
    }
   ],
   "source": [
    "famous_scientists = ''\n",
    "famous_scientists += 'Jane'\n",
    "famous_scientists += ' '\n",
    "famous_scientists += 'Goodall'\n",
    "print( famous_scientists )"
   ]
  },
  {
   "cell_type": "markdown",
   "metadata": {},
   "source": [
    "### Exercise 5.3\n",
    "\n",
    "1. Ask for input of your name.\n",
    "2. Ask for input of your age.\n",
    "3. Using an f-string print\n",
    "\n",
    "\n",
    "    X is Y years old\n",
    "\n",
    "where X is your name and Y is your age."
   ]
  },
  {
   "cell_type": "code",
   "execution_count": 0,
   "metadata": {},
   "outputs": [],
   "source": [
    "name = input('Enter your name: ')\n",
    "age = input('Enter your age: ')\n",
    "\n",
    "print( f'{name} is {age} years old' )"
   ]
  },
  {
   "cell_type": "markdown",
   "metadata": {},
   "source": [
    "### Exercise 5.4\n",
    "\n",
    "1. Ask for input of 2 decimal numbers. \n",
    "2. Using an f-string print \n",
    "\n",
    "    X / Y = Z\n",
    "    \n",
    "where X and Y are the two numbers and Z is the result of X divided by Y rounded to 1dp."
   ]
  },
  {
   "cell_type": "code",
   "execution_count": 0,
   "metadata": {},
   "outputs": [],
   "source": [
    "x = float( input('Enter first number: ') )\n",
    "y = float( input('Enter second number: ') )\n",
    "\n",
    "print( f'{x} / {y} = {x/y:.1f}' )"
   ]
  },
  {
   "cell_type": "markdown",
   "metadata": {},
   "source": [
    "### Exercise 5.5\n",
    "\n",
    "1. Assign the numbers 4.5735, 9.4253 and 1.223 to the variables `x`, `y`, and `z` respectively. \n",
    "2. Using an f-string print each number rounded to 2dp and separated by a tab. "
   ]
  },
  {
   "cell_type": "code",
   "execution_count": 1,
   "metadata": {},
   "outputs": [
    {
     "name": "stdout",
     "output_type": "stream",
     "text": [
      "4.57\t9.43\t1.22\n"
     ]
    }
   ],
   "source": [
    "x = 4.5735\n",
    "y = 9.4253\n",
    "z = 1.223\n",
    "\n",
    "print( f'{x:.2f}\\t{y:.2f}\\t{z:.2f}' )"
   ]
  }
 ],
 "metadata": {
  "kernelspec": {
   "display_name": "Python 3 (ipykernel)",
   "language": "python",
   "name": "python3"
  },
  "language_info": {
   "codemirror_mode": {
    "name": "ipython",
    "version": 3
   },
   "file_extension": ".py",
   "mimetype": "text/x-python",
   "name": "python",
   "nbconvert_exporter": "python",
   "pygments_lexer": "ipython3",
   "version": "3.9.12"
  }
 },
 "nbformat": 4,
 "nbformat_minor": 4
}
