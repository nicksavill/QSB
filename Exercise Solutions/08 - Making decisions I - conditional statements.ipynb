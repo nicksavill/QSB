{
 "cells": [
  {
   "cell_type": "markdown",
   "metadata": {
    "button": false,
    "new_sheet": false,
    "run_control": {
     "read_only": false
    }
   },
   "source": [
    "### Exercise 8.1\n",
    "\n",
    "1. Assign the decimals 17.5 and -34.6 to the variables `x` and `y` respectively. \n",
    "2. Test if `x` is greater than `y` and print whether it is or not.\n",
    "\n",
    "\n",
    "* *Hint: Use `if` ... `else`.*"
   ]
  },
  {
   "cell_type": "code",
   "execution_count": null,
   "metadata": {},
   "outputs": [],
   "source": [
    "x = 17.5\n",
    "y = -34.6\n",
    "\n",
    "if x > y:\n",
    "    print( f'{x} is greater than {y}' )\n",
    "else:\n",
    "    print( f'{x} is not greater than {y}' )"
   ]
  },
  {
   "cell_type": "markdown",
   "metadata": {
    "button": false,
    "new_sheet": false,
    "run_control": {
     "read_only": false
    }
   },
   "source": [
    "### Exercise 8.2\n",
    "\n",
    "The wavelength of visible light ranges from 380 to 750 nanometers (nm). While the\n",
    "spectrum is continuous, it is often divided into 6 colors as shown in this table:\n",
    "\n",
    "\n",
    "Colour | Wavelength (nm)\n",
    ":---|:---\n",
    "Violet |380 to less than 450\n",
    "Blue |450 to less than 495\n",
    "Green |495 to less than 570\n",
    "Yellow |570 to less than 590\n",
    "Orange |590 to less than 620\n",
    "Red |620 to 750\n",
    "\n",
    "Write some code that asks for input of a wavelength and prints its corresponding colour. Display\n",
    "an appropriate error message if the wavelength entered is outside of the\n",
    "visible spectrum.\n",
    "* *Hint: Use `if` ... `elif` ... `else` with one `elif` for each colour.*"
   ]
  },
  {
   "cell_type": "code",
   "execution_count": null,
   "metadata": {
    "cocalc": {
     "outputs": {
      "0": {
       "name": "input",
       "opts": {
        "password": false,
        "prompt": "Enter a wavelength: "
       },
       "output_type": "stream",
       "value": "457"
      }
     }
    }
   },
   "outputs": [],
   "source": [
    "w = float( input('Enter a wavelength: ') )\n",
    "\n",
    "if w < 380:\n",
    "    print('Wavelength is not in the visible spectrum')\n",
    "elif w < 450:\n",
    "    print('violet')\n",
    "elif w < 495:\n",
    "    print('blue')\n",
    "elif w < 570:\n",
    "    print('green')\n",
    "elif w < 590:\n",
    "    print('yellow')\n",
    "elif w < 620:\n",
    "    print('orange')\n",
    "elif w < 750:\n",
    "    print('red')\n",
    "else:\n",
    "    print('Wavelength is not in the visible spectrum')"
   ]
  },
  {
   "cell_type": "markdown",
   "metadata": {
    "button": false,
    "new_sheet": false,
    "run_control": {
     "read_only": false
    }
   },
   "source": [
    "### Exercise 8.3\n",
    "\n",
    "1. Ask the user to input a word. \n",
    "2. Test and print whether the letter 'e' is in the word or not."
   ]
  },
  {
   "cell_type": "code",
   "execution_count": null,
   "metadata": {
    "cocalc": {
     "outputs": {
      "0": {
       "name": "input",
       "opts": {
        "password": false,
        "prompt": "Enter a word: "
       },
       "output_type": "stream",
       "value": "no"
      }
     }
    }
   },
   "outputs": [],
   "source": [
    "word = input('Enter a word: ')\n",
    "\n",
    "if 'e' in word:\n",
    "    print( f'\"e\" is in {word}')\n",
    "else:\n",
    "    print( f'\"e\" is not in {word}')"
   ]
  },
  {
   "cell_type": "markdown",
   "metadata": {
    "button": false,
    "new_sheet": false,
    "run_control": {
     "read_only": false
    }
   },
   "source": [
    "### Exercise 8.4\n",
    "\n",
    "Modify Exercise 8.3 so that if `e` is in the word the index of its first occurrence is printed, otherwise print that it is not in the word. \n",
    "* *Hint: See Notebook 7 on how to find the index of a character.*"
   ]
  },
  {
   "cell_type": "code",
   "execution_count": null,
   "metadata": {
    "cocalc": {
     "outputs": {
      "0": {
       "name": "input",
       "opts": {
        "password": false,
        "prompt": "Enter a word: "
       },
       "output_type": "stream",
       "value": "know"
      }
     }
    }
   },
   "outputs": [],
   "source": [
    "word = input('Enter a word: ')\n",
    "idx = word.find('e')\n",
    "\n",
    "if idx != -1:\n",
    "    print( f'Index of \"e\" in {word} is {idx}')\n",
    "else:\n",
    "    print( f'\"e\" is not in {word}')"
   ]
  },
  {
   "cell_type": "markdown",
   "metadata": {},
   "source": [
    "### Exercise 8.5\n",
    "\n",
    "1. Access the second to the last characters in the following variable `protein_seq` and re-assign them to the same variable.\n",
    "\n",
    "2. Print `protein_seq`.\n"
   ]
  },
  {
   "cell_type": "code",
   "execution_count": null,
   "metadata": {},
   "outputs": [],
   "source": [
    "protein_seq = 'MAPYITTRRFFFCTRSVGILE'\n",
    "\n",
    "protein_seq = protein_seq[1:]\n",
    "print( protein_seq )"
   ]
  },
  {
   "cell_type": "markdown",
   "metadata": {
    "button": false,
    "new_sheet": false,
    "run_control": {
     "read_only": false
    }
   },
   "source": [
    "### Exercise 8.6\n",
    "\n",
    "During protein synthesis methionine is the first amino acid of a protein sequence. After translation proteins are modified, one of these modifications is removal of methionine from the start of the protein sequence. However, this is more likely if the second amino acid in the sequence is an alanine.\n",
    "\n",
    "Write some code to test if the second amino acid in each of the following two protein sequences is alanine (A). If it is modify the protein sequence to remove methionine (M). If it isn't do not change the protein sequence.\n",
    "\n",
    "Print the resulting protein sequences."
   ]
  },
  {
   "cell_type": "code",
   "execution_count": null,
   "metadata": {},
   "outputs": [],
   "source": [
    "protein_seq1 = 'MAPYITTRRFFFCTRSVGILE'\n",
    "protein_seq2 = 'MLGMLLAI'\n"
   ]
  },
  {
   "cell_type": "code",
   "execution_count": null,
   "metadata": {},
   "outputs": [],
   "source": [
    "if protein_seq1[1] == 'A':\n",
    "    protein_seq1 = protein_seq1[1:]\n",
    "\n",
    "if protein_seq2[1] == 'A':\n",
    "    protein_seq2 = protein_seq2[1:]\n",
    "\n",
    "print(protein_seq1)\n",
    "print(protein_seq2)"
   ]
  }
 ],
 "metadata": {
  "kernelspec": {
   "display_name": "Python 3 (ipykernel)",
   "language": "python",
   "name": "python3"
  },
  "language_info": {
   "codemirror_mode": {
    "name": "ipython",
    "version": 3
   },
   "file_extension": ".py",
   "mimetype": "text/x-python",
   "name": "python",
   "nbconvert_exporter": "python",
   "pygments_lexer": "ipython3",
   "version": "3.9.7"
  }
 },
 "nbformat": 4,
 "nbformat_minor": 4
}
