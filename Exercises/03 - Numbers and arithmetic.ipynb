{
 "cells": [
  {
   "cell_type": "markdown",
   "metadata": {},
   "source": [
    "### Exercise 3.1\n",
    "\n",
    "In your head, or on paper, work out the following arithmetic as you would expect Python to do it using the rules of precedence.\n",
    "\n",
    "* 5 * 5 - 5 = ?\n",
    "* 10 - 2 * 3 = ?\n",
    "* 20 + 5 * 2 - 10 = ?\n",
    "* 4 + 4 / 2 = ?\n",
    "* 2 * 5 ** 2 = ?\n",
    "* 9 / 3 ** 2 = ? \n",
    "\n",
    "Check your answers by typing them into the following code cell."
   ]
  },
  {
   "cell_type": "code",
   "execution_count": null,
   "metadata": {},
   "outputs": [],
   "source": []
  },
  {
   "cell_type": "markdown",
   "metadata": {},
   "source": [
    "### Exercise 3.2\n",
    "\n",
    "What are the types of each of the following numbers?\n",
    "* -6\n",
    "* 10.3\n",
    "* 99.0\n",
    "* -1.0\n",
    "\n",
    "Check your answers in the following code cell."
   ]
  },
  {
   "cell_type": "code",
   "execution_count": null,
   "metadata": {},
   "outputs": [],
   "source": []
  },
  {
   "cell_type": "markdown",
   "metadata": {},
   "source": [
    "### Exercise 3.3\n",
    "\n",
    "1. What **type** of number do you get if you do `4 / 2`?\n",
    "2. What **type** of number do you get if you do `4 // 2`?\n",
    "\n",
    "Check your answer in the following code cell."
   ]
  },
  {
   "cell_type": "code",
   "execution_count": null,
   "metadata": {},
   "outputs": [],
   "source": []
  },
  {
   "cell_type": "markdown",
   "metadata": {},
   "source": [
    "### Exercise 3.4\n",
    "\n",
    "Round the following floats to the given number of decimal places.\n",
    "\n",
    "* 34.2694 to 2dp\n",
    "* -1.4 to 0dp\n",
    "* 1024.234 to 1dp\n",
    "\n"
   ]
  },
  {
   "cell_type": "code",
   "execution_count": null,
   "metadata": {},
   "outputs": [],
   "source": []
  },
  {
   "cell_type": "markdown",
   "metadata": {},
   "source": [
    "### Exercise 3.5\n",
    "\n",
    "What are the circumference and area of a circle of radius 5.4 cm rounded to 1 decimal place?\n",
    "\n",
    "*If you've forgotten what the circumference and area of a circle are use google.*"
   ]
  },
  {
   "cell_type": "code",
   "execution_count": null,
   "metadata": {},
   "outputs": [],
   "source": []
  },
  {
   "cell_type": "markdown",
   "metadata": {},
   "source": [
    "### Exercise 3.6\n",
    "\n",
    "Use Python to calculate the average of the following set of numbers to 2dp: \n",
    "```python\n",
    "11, 11, 13.5, 7.5, 13.5, 22.5\n",
    "```\n",
    "\n",
    "\n",
    "<div class=\"alert alert-info\">\n",
    "Your answer should be\n",
    "    13.17\n",
    "</div>"
   ]
  },
  {
   "cell_type": "code",
   "execution_count": null,
   "metadata": {},
   "outputs": [],
   "source": []
  },
  {
   "cell_type": "markdown",
   "metadata": {},
   "source": [
    "### Exercise 3.7\n",
    "\n",
    "Using Python code calculate what 321 minutes is in hours and minutes?\n",
    "\n",
    "\n",
    "<div class=\"alert alert-info\">\n",
    "Your answer should be 5 hours 21 minutes.\n",
    "</div>"
   ]
  },
  {
   "cell_type": "code",
   "execution_count": null,
   "metadata": {},
   "outputs": [],
   "source": []
  },
  {
   "cell_type": "markdown",
   "metadata": {},
   "source": [
    "### Exercise 3.8\n",
    "\n",
    "Using Python code find the remainder of the following:\n",
    "\n",
    "* $\\frac{59}{2}$\n",
    "* $\\frac{100}{2}$\n",
    "\n",
    "<div class=\"alert alert-info\">\n",
    "Your answers should be 1 and 0.\n",
    "    \n",
    "- If you want to find out if a number is odd or even you can use the remainder operator (%). If a number is odd its remainder is 1, if it is even its remainder is 0.\n",
    "</div>"
   ]
  },
  {
   "cell_type": "code",
   "execution_count": null,
   "metadata": {},
   "outputs": [],
   "source": []
  }
 ],
 "metadata": {
  "kernelspec": {
   "display_name": "Python 3",
   "language": "python",
   "name": "python3"
  },
  "language_info": {
   "codemirror_mode": {
    "name": "ipython",
    "version": 3
   },
   "file_extension": ".py",
   "mimetype": "text/x-python",
   "name": "python",
   "nbconvert_exporter": "python",
   "pygments_lexer": "ipython3",
   "version": "3.8.3"
  }
 },
 "nbformat": 4,
 "nbformat_minor": 4
}
