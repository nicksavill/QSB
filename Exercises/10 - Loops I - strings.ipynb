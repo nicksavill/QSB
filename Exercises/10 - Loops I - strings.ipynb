{
 "cells": [
  {
   "cell_type": "markdown",
   "metadata": {
    "button": false,
    "new_sheet": false,
    "run_control": {
     "read_only": false
    }
   },
   "source": [
    "### Exercise 10.1\n",
    "\n",
    "Loop through the string `book_title` printing out each character.\n",
    "\n",
    "<div class=\"alert alert-info\">\n",
    "Your answer should be\n",
    "    \n",
    "    T\n",
    "    h\n",
    "    e\n",
    "    etc.\n",
    "</div>"
   ]
  },
  {
   "cell_type": "code",
   "execution_count": 0,
   "metadata": {},
   "outputs": [],
   "source": [
    "book_title = \"The Chimpanzees of Gombe\""
   ]
  },
  {
   "cell_type": "markdown",
   "metadata": {
    "button": false,
    "new_sheet": false,
    "run_control": {
     "read_only": false
    }
   },
   "source": [
    "### Exercise 10.2\n",
    "\n",
    "Loop through the string `book_title` in **reverse** printing out each character.\n",
    "\n",
    "* *Hint: See [Notebook 6](../Self-study%20Notebooks/06%20-%20Strings%20II%20-%20indicies%20and%20substrings.ipynb#Reversing-a-string)\n",
    " for how to reverse a string.*\n",
    " \n",
    "<div class=\"alert alert-info\">\n",
    "Your answer should be\n",
    "    \n",
    "    e\n",
    "    b\n",
    "    m\n",
    "    etc.\n",
    "</div>"
   ]
  },
  {
   "cell_type": "code",
   "execution_count": 0,
   "metadata": {},
   "outputs": [],
   "source": [
    "book_title = \"The Chimpanzees of Gombe\""
   ]
  },
  {
   "cell_type": "markdown",
   "metadata": {
    "button": false,
    "new_sheet": false,
    "run_control": {
     "read_only": false
    }
   },
   "source": [
    "### Exercise 10.3\n",
    "\n",
    "In Notebook 5 we introduced the `len()` function which returns the length (number of characters) of a string. \n",
    "\n",
    "1. Write your own code which uses a loop to count the number characters in the string variable `book_intro` and then prints it out.\n",
    "\n",
    "2. Test that your code gives the correct answer by using `len(book_intro)`.\n",
    "\n",
    "    * *Hint: You will need a tally variable to keep a count of the number of characters.*\n",
    "    \n",
    "<div class=\"alert alert-info\">\n",
    "Your answer should be 276 characters.\n",
    "</div>"
   ]
  },
  {
   "cell_type": "code",
   "execution_count": 0,
   "metadata": {},
   "outputs": [],
   "source": [
    "book_intro = \"Temper tantrums are a characteristic performance of the infant and young juvenile chimpanzee. The animal screaming loudly either leaps into the air with its arms above its head or hurls itself to the ground, writhing about and often hitting itself against surrounding objects.\""
   ]
  },
  {
   "cell_type": "markdown",
   "metadata": {},
   "source": [
    "### Exercise 10.4\n",
    "\n",
    "Many common tasks in Python usually have an inbuilt method. Counting the number of occurrences of a character in a string is a common thing to do. \n",
    "\n",
    "Try googling \"python count character in string\" to see if you can discover a simpler method for counting \"f\"s in the following sentence. Then use that method to count \"f\"s.\n",
    "* *Hint: Remember to count both lowercase and uppercase \"f\"s.*\n",
    "\n",
    "<div class=\"alert alert-info\">\n",
    "Your answer should be 7 \"f\"s.\n",
    "</div>"
   ]
  },
  {
   "cell_type": "code",
   "execution_count": 0,
   "metadata": {},
   "outputs": [],
   "source": [
    "sentence = 'The embryo of Festuca fusca, a native plant species of Old-World countries, is almost half the full length of its grain.'"
   ]
  }
 ],
 "metadata": {
  "kernelspec": {
   "display_name": "Python 3",
   "language": "python",
   "name": "python3"
  },
  "language_info": {
   "codemirror_mode": {
    "name": "ipython",
    "version": 3
   },
   "file_extension": ".py",
   "mimetype": "text/x-python",
   "name": "python",
   "nbconvert_exporter": "python",
   "pygments_lexer": "ipython3",
   "version": "3.8.3"
  }
 },
 "nbformat": 4,
 "nbformat_minor": 4
}
