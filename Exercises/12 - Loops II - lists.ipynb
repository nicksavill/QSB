{
 "cells": [
  {
   "cell_type": "markdown",
   "metadata": {},
   "source": [
    "### Exercise 12.1 \n",
    "\n",
    "Loop through the list `words` in the code cell below and print out each word.\n",
    "\n",
    "<div class=\"alert alert-info\">\n",
    "Your answer should be \n",
    "    \n",
    "    golf\n",
    "    level\n",
    "    spoon\n",
    "    etc.\n",
    "</div>"
   ]
  },
  {
   "cell_type": "code",
   "execution_count": 0,
   "metadata": {},
   "outputs": [],
   "source": [
    "words = ['golf', 'level', 'spoon', 'reverser', 'noon', 'racecar', 'cell', 'rotator', 'tape', 'stats', 'bridge', 'lagoon', 'tenet']"
   ]
  },
  {
   "cell_type": "markdown",
   "metadata": {},
   "source": [
    "### Exercise 12.2\n",
    "\n",
    "Loop through the list `words` in the code cell below and print out the **reverse** of each word.\n",
    "\n",
    "<div class=\"alert alert-info\">\n",
    "Your answer should be \n",
    "    \n",
    "    flog\n",
    "    level\n",
    "    noops\n",
    "    etc.\n",
    "</div>"
   ]
  },
  {
   "cell_type": "code",
   "execution_count": 0,
   "metadata": {},
   "outputs": [],
   "source": [
    "words = ['golf', 'level', 'spoon', 'reverser', 'noon', 'racecar', 'cell', 'rotator', 'tape', 'stats', 'bridge', 'lagoon', 'tenet']"
   ]
  },
  {
   "cell_type": "markdown",
   "metadata": {},
   "source": [
    "### Exercise 12.3\n",
    "\n",
    "Loop through the following list of DNA sequences. Test and print if the start codon \"ATG\" is in each sequence.\n",
    "\n",
    "<div class=\"alert alert-info\">\n",
    "Your answer should be \n",
    "    \n",
    "    ATG is in TATCATGGTAGAT\n",
    "    ATG is not in TATATCGCTAGGG\n",
    "    ATG is not in CTATAGCCTAGGA\n",
    "    ATG is in TATGAGGATTAGA\n",
    "    ATG is not in TATAGACTAGGAT\n",
    "</div>"
   ]
  },
  {
   "cell_type": "code",
   "execution_count": 5,
   "metadata": {},
   "outputs": [],
   "source": [
    "DNA_sequences = ['TATCATGGTAGAT', 'TATATCGCTAGGG', 'CTATAGCCTAGGA', 'TATGAGGATTAGA', 'TATAGACTAGGAT']"
   ]
  },
  {
   "cell_type": "markdown",
   "metadata": {},
   "source": [
    "### Exercise 12.4\n",
    "\n",
    "Loop through the following list of measurements of female haemoglobin levels. Test and print if each measurement is between the normal values of 11.6 and 15.0 g/dl.\n",
    "\n",
    "<div class=\"alert alert-info\">\n",
    "Your answer should be \n",
    "\n",
    "    12.5 is in the normal range\n",
    "    15.1 is not in the normal range\n",
    "    12.6 is in the normal range\n",
    "    etc.\n",
    "</div>"
   ]
  },
  {
   "cell_type": "code",
   "execution_count": 0,
   "metadata": {},
   "outputs": [],
   "source": [
    "haemoglobin_levels = [12.5, 15.1, 12.6, 10.4, 15.7, 9.2, 17.6, 12.9, 10.6, 12.3, 17.9, 14.0, 15.5, 12.5, 10.6]"
   ]
  },
  {
   "cell_type": "markdown",
   "metadata": {},
   "source": [
    "### Exercise 12.5\n",
    "\n",
    "The number of items in a list is given by the `len()` function.\n",
    "\n",
    "1. Write your own code that uses a loop to count the number items in a list and prints it out.\n",
    "2. Test your code on any of the lists in these exercises.\n",
    "\n",
    "<div class=\"alert alert-info\">\n",
    "    \n",
    "Your answer for the list `haemoglobin_levels` is 15.\n",
    "    \n",
    "</div>"
   ]
  },
  {
   "cell_type": "code",
   "execution_count": 0,
   "metadata": {},
   "outputs": [],
   "source": []
  },
  {
   "cell_type": "markdown",
   "metadata": {},
   "source": [
    "### Exercise 12.6\n",
    "\n",
    "1. Create an empty list called `squares`. \n",
    "2. Loop through the list called `numbers` in the code cell below. For each number in `numbers` append the square of that number to the end of the list `squares`. \n",
    "3. Print the list `squares`.\n",
    "\n",
    "<div class=\"alert alert-info\">\n",
    "Your answer should be [1, 4, 9, 16, 25, 36, 49].\n",
    "    \n",
    "</div>"
   ]
  },
  {
   "cell_type": "code",
   "execution_count": 0,
   "metadata": {},
   "outputs": [],
   "source": [
    "numbers = [1, 2, 3, 4, 5, 6, 7]\n"
   ]
  }
 ],
 "metadata": {
  "kernelspec": {
   "display_name": "Python 3 (ipykernel)",
   "language": "python",
   "name": "python3"
  },
  "language_info": {
   "codemirror_mode": {
    "name": "ipython",
    "version": 3
   },
   "file_extension": ".py",
   "mimetype": "text/x-python",
   "name": "python",
   "nbconvert_exporter": "python",
   "pygments_lexer": "ipython3",
   "version": "3.9.7"
  }
 },
 "nbformat": 4,
 "nbformat_minor": 4
}
