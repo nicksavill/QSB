{
 "cells": [
  {
   "cell_type": "markdown",
   "metadata": {},
   "source": [
    "### Exercise 7.1\n",
    "\n",
    "Find and print the index of the substring \"watch\" in the following string.\n",
    "\n",
    "<div class=\"alert alert-info\">\n",
    "Your answer should be\n",
    "    10\n",
    "</div>"
   ]
  },
  {
   "cell_type": "code",
   "execution_count": 0,
   "metadata": {},
   "outputs": [],
   "source": [
    "book_title = 'The blind watchmaker'\n"
   ]
  },
  {
   "cell_type": "markdown",
   "metadata": {
    "button": false,
    "new_sheet": false,
    "run_control": {
     "read_only": false
    }
   },
   "source": [
    "### Exercise 7.2\n",
    "\n",
    "Convert the following string to lowercase.\n",
    "\n",
    "<div class=\"alert alert-info\">\n",
    "Your answer should be\n",
    "\n",
    "    ttttgtatccttatatcacaactcgaagattcttcttctgca\n",
    "</div>"
   ]
  },
  {
   "cell_type": "code",
   "execution_count": 0,
   "metadata": {
    "button": false,
    "new_sheet": false,
    "run_control": {
     "frozen": false,
     "read_only": false
    }
   },
   "outputs": [],
   "source": [
    "dna_seq = \"TTTTGTATCCTTATATCACAACTCGAAGATTCTTCTTCTGCA\"\n"
   ]
  },
  {
   "cell_type": "markdown",
   "metadata": {},
   "source": [
    "### Exercise 7.3\n",
    "The following text, stored in the variable `tbw_intro`, contains two sentences.\n",
    "\n",
    "The aim of this exercise is to split the text stored in `tbw_intro` into two separate sentences and to print each sentence on a separate line.\n",
    "\n",
    "Below are the five steps by which we'll do this. Writing out the steps like this helps us to break down the problem into manageable chunks that a computer program can do. This is called an **algorithm**.\n",
    "\n",
    "1. Find the index of the full stop at the end of the first sentence and store it in a variable called `idx`. \n",
    "2. Using string slicing with the variable `idx`, assign the first sentence (with its full stop) to the variable `sentence1`.\n",
    "3. Again using string slicing and `idx`, assign the second sentence (with its full stop) to the variable `sentence2`.\n",
    "4. Print `sentence1`.\n",
    "5. Print `sentence2`.\n",
    "\n",
    "Each of the five steps can be converted into a line of Python code: one line of code for each step.\n",
    "\n",
    "<div class=\"alert alert-info\">\n",
    "Your answer should be\n",
    "    \n",
    "    We animals are the most complicated things in the known universe.\n",
    "    The universe that we know, of course, is a tiny fragment of the known universe.\n",
    "</div>"
   ]
  },
  {
   "cell_type": "code",
   "execution_count": 0,
   "metadata": {},
   "outputs": [],
   "source": [
    "tbw_intro = \"We animals are the most complicated things in the known universe. The universe that we know, of course, is a tiny fragment of the known universe.\"\n"
   ]
  }
 ],
 "metadata": {
  "kernelspec": {
   "display_name": "Python 3",
   "language": "python",
   "name": "python3"
  },
  "language_info": {
   "codemirror_mode": {
    "name": "ipython",
    "version": 3
   },
   "file_extension": ".py",
   "mimetype": "text/x-python",
   "name": "python",
   "nbconvert_exporter": "python",
   "pygments_lexer": "ipython3",
   "version": "3.8.3"
  }
 },
 "nbformat": 4,
 "nbformat_minor": 4
}
