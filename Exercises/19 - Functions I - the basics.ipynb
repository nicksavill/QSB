{
 "cells": [
  {
   "cell_type": "markdown",
   "metadata": {
    "button": false,
    "new_sheet": false,
    "run_control": {
     "read_only": false
    }
   },
   "source": [
    "### Exercise 19.1\n",
    "\n",
    "1. Write a function called `halve_number()` that halves any number passed to it and returns the result. \n",
    "2. Add a doc-string to your function.\n",
    "\n",
    "Calls to the function have already been written for you in the code cell below. You just need to write the function.\n",
    "\n",
    "<div class=\"alert alert-info\">\n",
    "Your answer should be \n",
    "\n",
    "    half of 10 is 5.0\n",
    "    half of 32.6 is 16.3\n",
    "\n",
    "</div>"
   ]
  },
  {
   "cell_type": "code",
   "execution_count": null,
   "metadata": {},
   "outputs": [],
   "source": [
    "# Write your function here\n",
    "\n",
    "\n",
    "# These are the calls to the function. Do not edit.\n",
    "x = halve_number(10)\n",
    "print(f'half of 10 is {x}')\n",
    "\n",
    "y = halve_number(32.6)\n",
    "print(f'half of 32.6 is {y}')\n"
   ]
  },
  {
   "cell_type": "markdown",
   "metadata": {
    "button": false,
    "new_sheet": false,
    "run_control": {
     "read_only": false
    }
   },
   "source": [
    "### Exercise 19.2\n",
    "\n",
    "1. Write a function called `first_codon()` that returns the first three bases of a DNA sequence passed to it.\n",
    "2. Add a doc-string to your function.\n",
    "\n",
    "    * *Hint: Use string slicing in your function to obtain the first three bases of the DNA sequence passed to it.*\n",
    "\n",
    "Calls to the function have already been written for you in the code cell below. You just need to write the function.\n",
    "\n",
    "<div class=\"alert alert-info\">\n",
    "Your answer should be \n",
    "\n",
    "    GAC\n",
    "    GGC\n",
    "\n",
    "</div>"
   ]
  },
  {
   "cell_type": "code",
   "execution_count": null,
   "metadata": {},
   "outputs": [],
   "source": [
    "# Write your function here\n",
    "\n",
    "\n",
    "# These are the calls to the function. Do not edit.\n",
    "codon = first_codon('GACTATCAGGTAG')\n",
    "print(codon)\n",
    "\n",
    "codon = first_codon('GGCCTTGGTTGG')\n",
    "print(codon)"
   ]
  },
  {
   "cell_type": "markdown",
   "metadata": {
    "button": false,
    "new_sheet": false,
    "run_control": {
     "read_only": false
    }
   },
   "source": [
    "### Exercise 19.3\n",
    "\n",
    "1. Write a function called `contains_start_codon()` that returns `True` if the DNA sequence passed to it contains the start codon \"ATG\" or returns `False` if it doesn't.\n",
    "2. Add a doc-string to your function.\n",
    "\n",
    "    * *Hint: Your function must return boolean `True` or `False` not the strings \"True\" or \"False\".*\n",
    "\n",
    "\n",
    "<div class=\"alert alert-info\">\n",
    "Your answer should be \n",
    "    \n",
    "    contains ATG\n",
    "    does not contain ATG\n",
    "</div>"
   ]
  },
  {
   "cell_type": "code",
   "execution_count": null,
   "metadata": {},
   "outputs": [],
   "source": [
    "# Write your function here\n",
    "\n",
    "\n",
    "# These are the calls to the function. Do not edit.\n",
    "if contains_start_codon('GACGATGATGAGGA'):\n",
    "    print('contains ATG')\n",
    "else:\n",
    "    print('does not contain ATG')\n",
    "\n",
    "if contains_start_codon('GACGGTGTTGAGGA'):\n",
    "    print('contains ATG')\n",
    "else:\n",
    "    print('does not contain ATG')"
   ]
  }
 ],
 "metadata": {
  "kernelspec": {
   "display_name": "Python 3",
   "language": "python",
   "name": "python3"
  },
  "language_info": {
   "codemirror_mode": {
    "name": "ipython",
    "version": 3
   },
   "file_extension": ".py",
   "mimetype": "text/x-python",
   "name": "python",
   "nbconvert_exporter": "python",
   "pygments_lexer": "ipython3",
   "version": "3.8.3"
  }
 },
 "nbformat": 4,
 "nbformat_minor": 4
}
