{
 "cells": [
  {
   "cell_type": "markdown",
   "metadata": {
    "button": false,
    "new_sheet": false,
    "run_control": {
     "read_only": false
    }
   },
   "source": [
    "### Exercise 20.1\n",
    "\n",
    "1. Write a function called `min_value()` that returns the minimum value of a list of numbers. \n",
    "2. Add a doc-string to your function.\n",
    "\n",
    "<div class=\"alert alert-info\">\n",
    "Your answer should be \n",
    "    \n",
    "    Minimum haemoglobin level is 9.2\n",
    "</div>"
   ]
  },
  {
   "cell_type": "code",
   "execution_count": null,
   "metadata": {},
   "outputs": [],
   "source": [
    "# Write your function here\n",
    "\n",
    "\n",
    "# This is the call to the function. Do not edit.\n",
    "haemoglobin_levels = [12.5, 15.1, 12.6, 10.4, 15.7, 9.2, 17.6, 12.9, 10.6, 12.3, 17.9, 14.0, 15.5, 12.5, 10.6]\n",
    "\n",
    "print( f'Minimum haemoglobin level is {min_value(haemoglobin_levels)}')"
   ]
  },
  {
   "cell_type": "markdown",
   "metadata": {},
   "source": [
    "### Exercise 20.2\n",
    "\n",
    "1. Write a function called `multiply()` that takes two numbers as arguments and returns their product.\n",
    "2. Add a doc-string to your function.\n",
    "\n",
    "<div class=\"alert alert-info\">\n",
    "Your answer should be\n",
    "    \n",
    "    341.02\n",
    "    21   \n",
    "</div>"
   ]
  },
  {
   "cell_type": "code",
   "execution_count": null,
   "metadata": {},
   "outputs": [],
   "source": [
    "# Write your function here\n",
    "\n",
    "\n",
    "# These are the calls to the function. Do not edit.\n",
    "print( multiply(3.4, 100.3) )\n",
    "print( multiply(-7, -3) )"
   ]
  },
  {
   "cell_type": "markdown",
   "metadata": {
    "button": false,
    "new_sheet": false,
    "run_control": {
     "read_only": false
    }
   },
   "source": [
    "### Exercise 20.3\n",
    "\n",
    "1. Write a function called `TTAAGG_index()` that takes a DNA sequence and returns the index of the first occurrence of the motif \"TTAAGG\". If the motif is not in the passed DNA sequence then return -1. \n",
    "2. Add a doc-string to your function.\n",
    "\n",
    "    * *Hint: See [Notebook 7 on string methods](../Self-study%20Notebooks/07%20-%20Strings%20III%20-%20string%20methods.ipynb) if you've forgotten how to search for indicies of substrings*\n",
    "    * *See if you can write your function so that it contains just one line of code (not including the doc-string)*\n",
    "\n",
    "<div class=\"alert alert-info\">\n",
    "Your answer should be \n",
    "    \n",
    "    TTAAGG is at index 6 in ACGTAATTAAGGCGTAACGT\n",
    "    ATGATATATCAT does not contain TTAAGG\n",
    "    ATTAGTACACCGAAAAG does not contain TTAAGG\n",
    "    TTAAGG is at index 11 in GGACAAACCGTTTAAGG   \n",
    "</div>"
   ]
  },
  {
   "cell_type": "code",
   "execution_count": null,
   "metadata": {},
   "outputs": [],
   "source": [
    "# Write your function here\n",
    "\n",
    "\n",
    "# This is the call to the function. Do not edit.\n",
    "DNA_sequences = [ 'ACGTAATTAAGGCGTAACGT','ATGATATATCAT','ATTAGTACACCGAAAAG','GGACAAACCGTTTAAGG']\n",
    "\n",
    "for dna_seq in DNA_sequences:\n",
    "    idx = TTAAGG_index(dna_seq)\n",
    "    \n",
    "    if idx == -1:\n",
    "        print(f'{dna_seq} does not contain TTAAGG')\n",
    "    else:\n",
    "        print(f'TTAAGG is at index {idx} in {dna_seq}')"
   ]
  },
  {
   "cell_type": "markdown",
   "metadata": {
    "button": false,
    "new_sheet": false,
    "run_control": {
     "read_only": false
    }
   },
   "source": [
    "### Exercise 20.4\n",
    "\n",
    "1. Using your code from Exercise 20.2, now write a more general function called `motif_index()` takes two arguments: a DNA sequence and a motif sequence, and returns the index of the first occurrence of the motif. If the motif is not in a particular DNA sequence then return -1. \n",
    "2. Add a doc-string to your function.\n",
    "\n",
    "<div class=\"alert alert-info\">\n",
    "Your answer should be \n",
    "\n",
    "    ACGT is at index 0 in ACGTAATTAAGGCGTAACGT\n",
    "    ATGATATATCAT does not contain ACGT\n",
    "    ATTAGTACACCGAAAAG does not contain ACGT\n",
    "    GGACAAACCGTTTAAGG does not contain ACGT\n",
    "</div>"
   ]
  },
  {
   "cell_type": "code",
   "execution_count": null,
   "metadata": {},
   "outputs": [],
   "source": [
    "# Write your function here\n",
    "\n",
    "\n",
    "# This is the call to the function. Do not edit.\n",
    "DNA_sequences = [ 'ACGTAATTAAGGCGTAACGT','ATGATATATCAT','ATTAGTACACCGAAAAG','GGACAAACCGTTTAAGG']\n",
    "\n",
    "# The motif to search for in the DNA sequences\n",
    "motif = 'ACGT'\n",
    "\n",
    "for dna_seq in DNA_sequences:\n",
    "    idx = motif_index(dna_seq, motif)\n",
    "    \n",
    "    if idx == -1:\n",
    "        print(f'{dna_seq} does not contain {motif}')\n",
    "    else:\n",
    "        print(f'{motif} is at index {idx} in {dna_seq}')"
   ]
  }
 ],
 "metadata": {
  "kernelspec": {
   "display_name": "Python 3",
   "language": "python",
   "name": "python3"
  },
  "language_info": {
   "codemirror_mode": {
    "name": "ipython",
    "version": 3
   },
   "file_extension": ".py",
   "mimetype": "text/x-python",
   "name": "python",
   "nbconvert_exporter": "python",
   "pygments_lexer": "ipython3",
   "version": "3.8.3"
  }
 },
 "nbformat": 4,
 "nbformat_minor": 4
}
