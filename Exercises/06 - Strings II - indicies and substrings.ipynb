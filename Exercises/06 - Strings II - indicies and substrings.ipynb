{
 "cells": [
  {
   "cell_type": "markdown",
   "metadata": {},
   "source": [
    "All of the following exercises use the string \"The Chimpanzees of Gombe\" stored in the variable `title`."
   ]
  },
  {
   "cell_type": "code",
   "execution_count": 2,
   "metadata": {},
   "outputs": [],
   "source": [
    "# Run this code cell first to store the string in the variable title\n",
    "title = \"The Chimpanzees of Gombe\""
   ]
  },
  {
   "cell_type": "markdown",
   "metadata": {},
   "source": [
    "### Exercise 6.1\n",
    "\n",
    "1. Print the characters at indicies 10, and -2 in the string.\n",
    "2. Print the first, and last characters in the string.\n",
    "\n",
    "<div class=\"alert alert-info\">\n",
    "Your answer should be\n",
    "    \n",
    "    n\n",
    "    b\n",
    "    T\n",
    "    e\n",
    "</div>"
   ]
  },
  {
   "cell_type": "code",
   "execution_count": 0,
   "metadata": {},
   "outputs": [],
   "source": []
  },
  {
   "cell_type": "markdown",
   "metadata": {},
   "source": [
    "### Exercise 6.2\n",
    "\n",
    "1. Print the characters from indicies 4 to 13 inclusive in the string.\n",
    "2. Print the 20th to the last characters in the string.\n",
    "\n",
    "<div class=\"alert alert-info\">\n",
    "Your answer should be\n",
    "    \n",
    "    Chimpanzee\n",
    "    Gombe\n",
    "</div>"
   ]
  },
  {
   "cell_type": "code",
   "execution_count": 0,
   "metadata": {},
   "outputs": [],
   "source": []
  },
  {
   "cell_type": "markdown",
   "metadata": {},
   "source": [
    "### Exercise 6.3\n",
    "\n",
    "1. Print every other character in the string.\n",
    "2. Print the reverse of the string.\n",
    "\n",
    "<div class=\"alert alert-info\">\n",
    "Your answer should be\n",
    "    \n",
    "    TeCipneso ob\n",
    "    ebmoG fo seeznapmihC ehT\n",
    "</div>"
   ]
  },
  {
   "cell_type": "code",
   "execution_count": 0,
   "metadata": {},
   "outputs": [],
   "source": []
  }
 ],
 "metadata": {
  "kernelspec": {
   "display_name": "Python 3",
   "language": "python",
   "name": "python3"
  },
  "language_info": {
   "codemirror_mode": {
    "name": "ipython",
    "version": 3
   },
   "file_extension": ".py",
   "mimetype": "text/x-python",
   "name": "python",
   "nbconvert_exporter": "python",
   "pygments_lexer": "ipython3",
   "version": "3.8.3"
  }
 },
 "nbformat": 4,
 "nbformat_minor": 4
}
