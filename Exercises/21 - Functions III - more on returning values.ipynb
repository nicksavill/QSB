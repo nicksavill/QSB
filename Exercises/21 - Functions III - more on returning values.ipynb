{
 "cells": [
  {
   "cell_type": "markdown",
   "metadata": {},
   "source": [
    "### Exercise 21.1\n",
    "\n",
    "Write a function called `split_name()` that splits someone's full name into a forename and surname and returns both of these separately.\n",
    "\n",
    "* *Hint: In [Exercise 7.3](../Exercise%20Solutions/07%20-%20Strings%20III%20-%20string%20methods.ipynb#Exercise-7.3) you split a string of two sentences into two separate sentences. You can use the same technique here but split on a space character rather than a full stop. Alternatively, google search for how to split a string on a space character.*\n",
    "\n",
    "<div class=\"alert alert-info\">\n",
    "Your answer should be\n",
    "    \n",
    "    POTTER Harry\n",
    "    GRANGER Hermione\n",
    "    WEASLEY Ronald   \n",
    "</div>"
   ]
  },
  {
   "cell_type": "code",
   "execution_count": null,
   "metadata": {},
   "outputs": [],
   "source": [
    "# Write your function here\n",
    "    \n",
    "\n",
    "\n",
    "# This is the call to the function. Do not edit.\n",
    "\n",
    "full_names = ['Harry Potter', 'Hermione Granger', 'Ronald Weasley']\n",
    "\n",
    "for fullname in full_names:\n",
    "    \n",
    "    forename, surname = split_name(fullname)\n",
    "    \n",
    "    print(f'{surname.upper()} {forename}')"
   ]
  },
  {
   "cell_type": "markdown",
   "metadata": {},
   "source": [
    "### Exercise 21.2\n",
    "\n",
    "Write a function called `metric_to_imperial()` that converts a length in centimetres to feet and inches. Your function should return feet and inches as two separate values.\n",
    "\n",
    "<div class=\"alert alert-info\">\n",
    "Your answer should be\n",
    "\n",
    "    130 cm is 4' 3\"\n",
    "    145 cm is 4' 9\"\n",
    "    150 cm is 4' 11\"\n",
    "    179 cm is 5' 10\"\n",
    "    201 cm is 6' 7\"\n",
    "</div>"
   ]
  },
  {
   "cell_type": "code",
   "execution_count": null,
   "metadata": {},
   "outputs": [],
   "source": [
    "# Write your function here\n",
    "    \n",
    "\n",
    "\n",
    "# This is the call to the function. Do not edit.\n",
    "for cm in [130, 145, 150, 179, 201]:\n",
    "    \n",
    "    feet, inches = metric_to_imperial(cm)\n",
    "    \n",
    "    print(f'{cm} cm is {feet:.0f}\\' {inches:.0f}\"')"
   ]
  }
 ],
 "metadata": {
  "kernelspec": {
   "display_name": "Python 3",
   "language": "python",
   "name": "python3"
  },
  "language_info": {
   "codemirror_mode": {
    "name": "ipython",
    "version": 3
   },
   "file_extension": ".py",
   "mimetype": "text/x-python",
   "name": "python",
   "nbconvert_exporter": "python",
   "pygments_lexer": "ipython3",
   "version": "3.8.3"
  }
 },
 "nbformat": 4,
 "nbformat_minor": 4
}
