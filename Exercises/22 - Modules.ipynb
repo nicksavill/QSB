{
 "cells": [
  {
   "cell_type": "markdown",
   "metadata": {},
   "source": [
    "### Exercise 22.1\n",
    "\n",
    "In [Exercise 3.5](../Exercise%20Solutions/03%20-%20Numbers%20and%20arithmetic.ipynb#Exercise-3.5) you calculated the circumference and area of a circle of radius 5.4 cm. \n",
    "\n",
    "Repeat the exercise but using the value of $\\pi$ in the `math` module. \n",
    "\n",
    "<div class=\"alert alert-info\">\n",
    "Your answer should be \n",
    "\n",
    "    33.9\n",
    "    91.6\n",
    "</div>\n"
   ]
  },
  {
   "cell_type": "code",
   "execution_count": null,
   "metadata": {},
   "outputs": [],
   "source": []
  },
  {
   "attachments": {
    "pippy.jpeg": {
     "image/jpeg": "[encoded data removed]"
    }
   },
   "cell_type": "markdown",
   "metadata": {
    "button": false,
    "new_sheet": false,
    "run_control": {
     "read_only": false
    }
   },
   "source": [
    "### Exercise 22.2\n",
    "\n",
    "![pippy.jpeg](attachment:pippy.jpeg)\n",
    "\n",
    "Using the `statistics` module, calculate the mean and standard deviation of the following list of bat wingspans. The documentation for the statistics module is [here](https://docs.python.org/3/library/statistics.html).\n",
    "\n",
    "<div class=\"alert alert-info\">\n",
    "Your answer should be \n",
    "\n",
    "    19.88\n",
    "    2.29\n",
    "</div>\n"
   ]
  },
  {
   "cell_type": "code",
   "execution_count": null,
   "metadata": {},
   "outputs": [],
   "source": [
    "\n",
    "\n",
    "wingspans = [20.4, 21.1, 17.1, 16.7, 24.4, 17.8, 20.1, 21.2, 20.8, 18.4, 20.0, 20.8, 19.4, 16.9, 18.0, 18.5, 18.0, 17.5, 18.7, 21.6, 21.6, 20.1, 20.6, 22.0, 20.0, 16.8, 24.2, 15.4, 21.2, 22.2, 26.1, 21.5, 18.9, 18.5, 19.9, 20.9, 18.4]"
   ]
  },
  {
   "cell_type": "markdown",
   "metadata": {},
   "source": [
    "### Exercise 22.3\n",
    "\n",
    "1. Search online for a module to randomly choose an item from a list. \n",
    "2. Use a method in the module to randomly choose an item from the following list.\n",
    "3. Print the chosen item.\n"
   ]
  },
  {
   "cell_type": "code",
   "execution_count": null,
   "metadata": {},
   "outputs": [],
   "source": [
    "\n",
    "\n",
    "cities = ['Doha', 'Vancouver', 'Entebbe', 'Pokhara', 'Whangarei']"
   ]
  }
 ],
 "metadata": {
  "kernelspec": {
   "display_name": "Python 3 (ipykernel)",
   "language": "python",
   "name": "python3"
  },
  "language_info": {
   "codemirror_mode": {
    "name": "ipython",
    "version": 3
   },
   "file_extension": ".py",
   "mimetype": "text/x-python",
   "name": "python",
   "nbconvert_exporter": "python",
   "pygments_lexer": "ipython3",
   "version": "3.9.7"
  }
 },
 "nbformat": 4,
 "nbformat_minor": 4
}
