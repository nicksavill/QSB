{
 "cells": [
  {
   "cell_type": "markdown",
   "metadata": {},
   "source": [
    "### Exercise 9.1\n",
    "\n",
    "1. Say we have three variables, `x`, `y` and `z` that store decimal numbers.\n",
    "2. Write some code to test and print whether `y` is between `x` and `z`. \n",
    "\n",
    "Test your code on the following sets of numbers.\n",
    "```python\n",
    "x = 12.3\n",
    "y = 7.5\n",
    "z = 3.6\n",
    "```\n",
    "and\n",
    "```python\n",
    "x = -2.5\n",
    "y = 7.5\n",
    "z = 13.6\n",
    "```\n",
    "and\n",
    "```python\n",
    "x = -2.5\n",
    "y = 27.5\n",
    "z = 13.6\n",
    "```\n",
    "\n",
    "<div class=\"alert alert-info\">\n",
    "For the first set of numbers your answer should be\n",
    "    \n",
    "    7.5 is between 12.3 and 3.6\n",
    "\n",
    "For the second set of numbers your answer should be\n",
    "    \n",
    "    7.5 is between -2.5 and 13.6\n",
    "\n",
    "For the third set of numbers your answer should be\n",
    "    \n",
    "    27.5 is not between -2.5 and 13.6\n",
    "\n",
    "\n",
    "</div>"
   ]
  },
  {
   "cell_type": "code",
   "execution_count": 0,
   "metadata": {},
   "outputs": [],
   "source": []
  },
  {
   "cell_type": "markdown",
   "metadata": {},
   "source": [
    "### Exercise 9.2\n",
    "\n",
    "1. Ask for input of a word.\n",
    "2. Test and print whether either of the letters 'a' or 'e' are in the word.\n",
    "\n",
    "<div class=\"alert alert-info\">\n",
    "For example, if the inputted word is \"hello\" you should output \n",
    "    \n",
    "    a or e is in hello\n",
    "    \n",
    "or if the inputted word is \"hill\" you should output\n",
    "    \n",
    "    a or e is not in hill\n",
    "\n",
    "</div>"
   ]
  },
  {
   "cell_type": "code",
   "execution_count": 0,
   "metadata": {},
   "outputs": [],
   "source": []
  },
  {
   "cell_type": "markdown",
   "metadata": {},
   "source": [
    "### Exercise 9.3\n",
    "\n",
    "1. Ask for input of a DNA base (A, C, G, and T) in lower or upper case.\n",
    "2. First test that the input is a single letter rather than no input or more than one letter. *Hint: Use `len()`.*\n",
    "3. If the test in Step 2 is True, next test if the letter entered is a valid base and not some other letter. Print whether the base is valid or not.\n",
    "4. If the test in Step 2 is False print that the input is not a valid base. \n",
    "\n",
    "*Hint: You should be able to write this algorithm in 7 lines of code (excluding the call to `input()` but including the calls to `print()`).*\n",
    "\n",
    "**Harder exercise**\n",
    "\n",
    "Write the algorithm in 4 lines of code.\n",
    "\n",
    "<div class=\"alert alert-info\">\n",
    "For example, if the input is \"GT\" you could output\n",
    "    \n",
    "    base is not valid\n",
    "    \n",
    "or if the input is \"X\", for example, you should output\n",
    "    \n",
    "    base is not valid\n",
    "\n",
    "or if the input is A, C, G or T (or their lowercase equivalents) you should output\n",
    "    \n",
    "    base is valid\n",
    "</div>"
   ]
  },
  {
   "cell_type": "code",
   "execution_count": 0,
   "metadata": {},
   "outputs": [],
   "source": []
  },
  {
   "cell_type": "markdown",
   "metadata": {},
   "source": [
    "### Exercise 9.4\n",
    "\n",
    "1. Ask for input of a word.\n",
    "2. If the letter \"r\" is in the word print the boolean `True` otherwise print the boolean `False`. That is, print the boolean values of the condition **not** the strings \"True\" and \"False\".\n",
    "\n",
    "**Harder exercise**\n",
    "\n",
    "See if you can combine the condition and the print statement in one line of code."
   ]
  },
  {
   "cell_type": "code",
   "execution_count": 0,
   "metadata": {},
   "outputs": [],
   "source": []
  }
 ],
 "metadata": {
  "kernelspec": {
   "display_name": "Python 3",
   "language": "python",
   "name": "python3"
  },
  "language_info": {
   "codemirror_mode": {
    "name": "ipython",
    "version": 3
   },
   "file_extension": ".py",
   "mimetype": "text/x-python",
   "name": "python",
   "nbconvert_exporter": "python",
   "pygments_lexer": "ipython3",
   "version": "3.8.3"
  }
 },
 "nbformat": 4,
 "nbformat_minor": 4
}
