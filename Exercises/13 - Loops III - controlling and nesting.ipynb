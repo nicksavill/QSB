{
 "cells": [
  {
   "cell_type": "markdown",
   "metadata": {},
   "source": [
    "### Exercise 13.1\n",
    "\n",
    "Loop through the following DNA sequences. Stop when you find the first sequence **starting with \"TATA\"** and print that sequence.\n",
    "\n",
    "* *Hint 1: `break` out of the loop.*\n",
    "* *Hint 2: Use string slicing to access the first four bases of each DNA sequence.*\n",
    "\n",
    "<div class=\"alert alert-info\">\n",
    "Your answer should be TATATCGCTAGGGTATAGGGTT\n",
    "</div>"
   ]
  },
  {
   "cell_type": "code",
   "execution_count": 0,
   "metadata": {},
   "outputs": [],
   "source": [
    "dna_sequences = ['TATCATGGTATAGGATGAT', 'CTATAGCCTATATATTAGGA', 'TATATCGCTAGGGTATAGGGTT', 'TATGAGGATTAGA', 'TATAGACTAGGAT']\n"
   ]
  },
  {
   "cell_type": "markdown",
   "metadata": {},
   "source": [
    "### Exercise 13.2\n",
    "\n",
    "Count how many of the three stop codons \"TAA\", \"TAG\" and \"TGA\" occur in each of the following DNA sequences in the list `dna_sequences`. Ignore multiple occurrences of the same stop codon in a DNA sequence.\n",
    "\n",
    "* *Hint: You will need a nested loop: An outer loop to go through the sequences and a nested loop to go through each of the stop codons.*\n",
    "\n",
    "<div class=\"alert alert-info\">\n",
    "Your answer should be \n",
    "    \n",
    "    2 of the stop codons are in TATCATGGTATAGGATGAT\n",
    "    1 of the stop codons is in CTATAGCCTATATATTAGGA\n",
    "    1 of the stop codons is in TATATCGCTAGGGTATAGGGTT\n",
    "    2 of the stop codons are in TATGAGGATTAGA\n",
    "    1 of the stop codons is in TATAGACTAGGAT\n",
    "</div>"
   ]
  },
  {
   "cell_type": "code",
   "execution_count": 0,
   "metadata": {},
   "outputs": [],
   "source": [
    "dna_sequences = ['TATCATGGTATAGGATGAT', 'CTATAGCCTATATATTAGGA', 'TATATCGCTAGGGTATAGGGTT', 'TATGAGGATTAGA', 'TATAGACTAGGAT']\n",
    "\n",
    "stop_codons = ['TAA', 'TAG', 'TGA']"
   ]
  }
 ],
 "metadata": {
  "kernelspec": {
   "display_name": "Python 3",
   "language": "python",
   "name": "python3"
  },
  "language_info": {
   "codemirror_mode": {
    "name": "ipython",
    "version": 3
   },
   "file_extension": ".py",
   "mimetype": "text/x-python",
   "name": "python",
   "nbconvert_exporter": "python",
   "pygments_lexer": "ipython3",
   "version": "3.8.3"
  }
 },
 "nbformat": 4,
 "nbformat_minor": 4
}
