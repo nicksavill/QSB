{
 "cells": [
  {
   "cell_type": "markdown",
   "metadata": {},
   "source": [
    "# Workshop 5"
   ]
  },
  {
   "cell_type": "markdown",
   "metadata": {},
   "source": [
    "## Functions and modules"
   ]
  },
  {
   "cell_type": "markdown",
   "metadata": {},
   "source": [
    "### Task 5.1\n",
    "\n",
    "When the wind blows in cold weather, the air feels colder than it actually is because the movement of the air increases the rate of cooling for warm objects, like people. This effect is known as wind chill.\n",
    "\n",
    "This is the formula for calculating wind chill (the temperature it feels like)\n",
    "\n",
    "$\\text{wind chill} = 13.12 + 0.6215\\times T − 11.37\\times  V^{0.16} + 0.3965\\times  T\\times  V^{0.16}$\n",
    "\n",
    "\n",
    "where *T* is the air temperature in degrees Celsius and *V* is the wind speed in kilometres per hour.\n",
    "\n",
    "Write a function called `wind_chill()` that takes two arguments, air temperature in degrees Celsius and wind speed in kilometres per hour and returns the wind chill.\n"
   ]
  },
  {
   "cell_type": "code",
   "execution_count": null,
   "metadata": {},
   "outputs": [],
   "source": [
    "def wind_chill(T, V):\n",
    "    return 13.12 + 0.6215*T - 11.37*V**0.16 + 0.3965*T*V**0.16\n",
    "\n",
    "\n",
    "temperatures = [-10, -5, 0, 5, 10]\n",
    "V = 8\n",
    "for T in temperatures:\n",
    "    print( f'wind chill = {wind_chill(T, V):.1f}')"
   ]
  },
  {
   "cell_type": "markdown",
   "metadata": {
    "button": false,
    "collapsed": true,
    "new_sheet": false,
    "run_control": {
     "read_only": false
    }
   },
   "source": [
    "### Task 5.2\n",
    "\n",
    "Write a function called `remove_met()` that takes a protein sequence as an argument and removes the first methionine amino acid (M) only if the second amino acid is alanine (A). Otherwise do nothing to the protein. Return the potentially modified protein sequence.  \n",
    "* *Hint: You wrote the code for removing methionine in Exercise 8.6.*\n"
   ]
  },
  {
   "cell_type": "code",
   "execution_count": null,
   "metadata": {},
   "outputs": [],
   "source": [
    "def remove_met(seq):\n",
    "    '''Remove methionine from the start of a protein sequence if the second amino acid is alanine'''\n",
    "    if seq[1] == 'A':\n",
    "        return seq[1:]\n",
    "    else:\n",
    "        return seq\n",
    "\n",
    "print( remove_met('MYPYITTRRFFFCTRSVGILE') )\n",
    "print( remove_met('MAPYITTRRFFFCTRSVGILE') )"
   ]
  },
  {
   "cell_type": "markdown",
   "metadata": {},
   "source": [
    "### Task 5.3\n",
    "\n",
    "In Task 3.10 you calculated the average wingspan of *Pipistrellus nathusii* in a bat survey.\n",
    "\n",
    "Now write a function called `average_wingspan()` that takes three arguments: the species you want the average wingspan of, the list of individual bat species (`bat_list`) and a list of their corresponding wingspans (`wingspans`). Your function should return the average wingspan of the selected species.\n"
   ]
  },
  {
   "cell_type": "code",
   "execution_count": null,
   "metadata": {},
   "outputs": [],
   "source": [
    "bat_list = ['Plecotus austriacus', 'Pipistrellus nathusii', 'Myotis daubentonii', 'Nyctalus noctula', 'Pipistrellus pipistrellus', 'Pipistrellus pipistrellus', 'Pipistrellus nathusii', 'Pipistrellus nathusii', 'Eptesicus serotinus', 'Myotis bechsteinii', 'Pipistrellus nathusii', 'Pipistrellus pygmaeus', 'Pipistrellus pipistrellus', 'Plecotus austriacus', 'Myotis daubentonii', 'Nyctalus noctula', 'Myotis brandtii', 'Myotis mystacinus', 'Pipistrellus nathusii', 'Pipistrellus pygmaeus', 'Pipistrellus nathusii', 'Rhinolophus hipposideros', 'Nyctalus leisleri', 'Pipistrellus pipistrellus', 'Pipistrellus nathusii', 'Nyctalus noctula', 'Plecotus austriacus', 'Pipistrellus nathusii', 'Myotis nattereri', 'Pipistrellus pipistrellus', 'Pipistrellus nathusii', 'Plecotus auritus', 'Barbastella barbastellus', 'Pipistrellus nathusii', 'Myotis brandtii', 'Pipistrellus pipistrellus', 'Myotis nattereri']\n",
    "\n",
    "wingspans = [20.4, 21.1, 17.1, 16.7, 24.4, 17.8, 20.1, 21.2, 20.8, 18.4, 20.0, 20.8, 19.4, 16.9, 18.0, 18.5, 18.0, 17.5, 18.7, 21.6, 21.6, 20.1, 20.6, 22.0, 20.0, 16.8, 24.2, 15.4, 21.2, 22.2, 26.1, 21.5, 18.9, 18.5, 19.9, 20.9, 18.4]\n",
    "\n",
    "def average_wingspan(species, bat_list, wingspans):\n",
    "    '''calculate average wingspan of species in bat_list'''\n",
    "    wingspan = []\n",
    "\n",
    "    for i in range(len(bat_list)):\n",
    "        if bat_list[i] == species:\n",
    "            wingspan.append(wingspans[i])\n",
    "\n",
    "    return sum(wingspan)/len(wingspan)\n",
    "\n",
    "print( f\"{average_wingspan('Plecotus austriacus', bat_list, wingspans):.2f}\" )\n",
    "print( f\"{average_wingspan('Myotis nattereri', bat_list, wingspans):.2f}\" )"
   ]
  },
  {
   "attachments": {
    "banner_video.png": {}
   },
   "cell_type": "markdown",
   "metadata": {},
   "source": [
    "### Task 5.4\n",
    "\n",
    "<a href=\"https://media.ed.ac.uk/media/1_8b9rkxgm\"><img src=\"attachment:banner_video.png\" alt=\"Video answer>\" style=\"width:200px\"></a>\n",
    "\n",
    "\n",
    "Modify your code so that it loops through all unique bat species in `bat_list` printing out each species' average wingspan to 2dp.\n",
    "\n",
    "* *Hint: See Task 3.9 for creating a list of unique species.*"
   ]
  },
  {
   "cell_type": "code",
   "execution_count": null,
   "metadata": {},
   "outputs": [],
   "source": [
    "def average_wingspan(species, bat_list, wingspans):\n",
    "    '''calculate average wingspan of species in bat_list'''\n",
    "    wingspan = []\n",
    "\n",
    "    for i in range(len(bat_list)):\n",
    "        if bat_list[i] == species:\n",
    "            wingspan.append(wingspans[i])\n",
    "\n",
    "    return sum(wingspan)/len(wingspan)\n",
    "\n",
    "species = []\n",
    "\n",
    "for bat in bat_list:\n",
    "    if bat not in species:\n",
    "        species.append(bat)\n",
    "\n",
    "for u in species:\n",
    "    print(f'{u}\\t\\t{average_wingspan(u, bat_list, wingspans):.2f}')"
   ]
  },
  {
   "attachments": {
    "banner_video.png": {}
   },
   "cell_type": "markdown",
   "metadata": {
    "collapsed": true
   },
   "source": [
    "### Task 5.5\n",
    "\n",
    "<a href=\"https://media.ed.ac.uk/media/1_obl9m5lc\"><img src=\"attachment:banner_video.png\" alt=\"Video answer>\" style=\"width:200px\"></a>\n",
    "\n",
    "\n",
    "In Task 4.5 you wrote code to translate a DNA sequence into a protein sequence beginning at the first start codon \"ATG\".\n",
    "\n",
    "Convert the code in Task 4.5 into a function called `translate()` that takes each of the DNA sequences in the list `dna_sequences` as an argument and returns its corresponding protein sequence.\n",
    "\n",
    "Your code should convert any DNA sequences in lowercase to uppercase (see Task 2.8).\n",
    "\n",
    "If there is no \"ATG\" start codon in the DNA sequence your function should return \"Sequence has no start codon\".\n"
   ]
  },
  {
   "cell_type": "code",
   "execution_count": null,
   "metadata": {},
   "outputs": [],
   "source": [
    "genetic_code = {\n",
    "     'TTT': 'F', 'TCT': 'S', 'TAT': 'Y', 'TGT': 'C',\n",
    "     'TTC': 'F', 'TCC': 'S', 'TAC': 'Y', 'TGC': 'C',\n",
    "     'TTA': 'L', 'TCA': 'S', 'TAA': '_', 'TGA': '_',\n",
    "     'TTG': 'L', 'TCG': 'S', 'TAG': '_', 'TGG': 'W',\n",
    "     'CTT': 'L', 'CCT': 'P', 'CAT': 'H', 'CGT': 'R',\n",
    "     'CTC': 'L', 'CCC': 'P', 'CAC': 'H', 'CGC': 'R',\n",
    "     'CTA': 'L', 'CCA': 'P', 'CAA': 'Q', 'CGA': 'R',\n",
    "     'CTG': 'L', 'CCG': 'P', 'CAG': 'Q', 'CGG': 'R',\n",
    "     'ATT': 'I', 'ACT': 'T', 'AAT': 'N', 'AGT': 'S',\n",
    "     'ATC': 'I', 'ACC': 'T', 'AAC': 'N', 'AGC': 'S',\n",
    "     'ATA': 'I', 'ACA': 'T', 'AAA': 'K', 'AGA': 'R',\n",
    "     'ATG': 'M', 'ACG': 'T', 'AAG': 'K', 'AGG': 'R',\n",
    "     'GTT': 'V', 'GCT': 'A', 'GAT': 'D', 'GGT': 'G',\n",
    "     'GTC': 'V', 'GCC': 'A', 'GAC': 'D', 'GGC': 'G',\n",
    "     'GTA': 'V', 'GCA': 'A', 'GAA': 'E', 'GGA': 'G',\n",
    "     'GTG': 'V', 'GCG': 'A', 'GAG': 'E', 'GGG': 'G'}\n",
    "\n",
    "# Assign a list of DNA sequences to translate to the variable \"dna_seqs\"\n",
    "dna_sequences = [\n",
    "    'TTTTGTATCCTTATATCACAACTCGAAGATTCTTCTTCTGCACGAGAAGCGTGGGAATCCTGGAATAA',\n",
    "    'TTATGTATCCTTATATCACAACTCGAAGATTCTTCTTCTGCACGAGAAGCGTGGGAATCCTGGAATAA',\n",
    "    'TTATGGCTCCTTATATCACAACTCGAAGATTCTTCTTCTGCACGAGAAGCGTGGGAATCCTGGAATAA',\n",
    "    'atagctacacatgctaggcatgttgctagctatctagctagctagctagctagctacgtactag',\n",
    "    'TTATGTATCCTTATATCACAACTCGAAGATTCTTCTTCTGCACGAGAAGCGTGGGAATCCTGGAATTA']\n",
    "\n",
    "def translate(dna_seq):\n",
    "    '''Translate a DNA sequence into a protein sequence'''\n",
    "    protein_seq = ''\n",
    "    dna_seq = dna_seq.upper()\n",
    "\n",
    "    start_idx = dna_seq.find('ATG')\n",
    "\n",
    "    if start_idx != -1:\n",
    "        for i in range(start_idx, len(dna_seq), 3):\n",
    "            codon = dna_seq[i:i+3]\n",
    "            amino_acid = genetic_code[codon]\n",
    "            protein_seq += amino_acid\n",
    "\n",
    "        return protein_seq\n",
    "\n",
    "    else:\n",
    "        return 'Sequence has no start codon'\n",
    "\n",
    "for dna_seq in dna_sequences:\n",
    "    protein_seq = translate(dna_seq)\n",
    "    print(protein_seq)"
   ]
  },
  {
   "cell_type": "markdown",
   "metadata": {
    "collapsed": true
   },
   "source": [
    "### Task 5.6\n",
    "\n",
    "Before returning the protein sequence from your function `translate()`, call the function `remove_met()` (Task 5.2) to remove the first methionine amino acid of the protein sequence if the second amino acid is an alanine.\n"
   ]
  },
  {
   "cell_type": "code",
   "execution_count": null,
   "metadata": {},
   "outputs": [],
   "source": [
    "def remove_met(seq):\n",
    "    '''Remove methionine from the start of a protein sequence if the second amino acid is alanine'''\n",
    "    if seq[1] == 'A':\n",
    "        return seq[1:]\n",
    "    else:\n",
    "        return seq\n",
    "\n",
    "def translate(dna_seq):\n",
    "    '''Translate a DNA sequence into a protein sequence'''\n",
    "    protein_seq = '' \n",
    "    dna_seq = dna_seq.upper()\n",
    "\n",
    "    start_idx = dna_seq.find('ATG')\n",
    "\n",
    "    if start_idx != -1:\n",
    "        for i in range(start_idx, len(dna_seq), 3):\n",
    "            codon = dna_seq[i:i+3] \n",
    "            amino_acid = genetic_code[codon]\n",
    "            protein_seq += amino_acid\n",
    "\n",
    "        return remove_met(protein_seq)\n",
    "\n",
    "    else:\n",
    "        return 'Sequence has no start codon'\n",
    "\n",
    "for dna_seq in dna_sequences:\n",
    "    protein_seq = translate(dna_seq)\n",
    "    print(protein_seq)"
   ]
  },
  {
   "cell_type": "markdown",
   "metadata": {},
   "source": [
    "### Task 5.7\n",
    "\n",
    "Protein translation stops at the first stop codon. So once you hit a stop codon stop translation and return the protein sequence.\n",
    "\n",
    "In addition, do not include the stop codon's underscore character \"_\" in the final protein sequence.\n",
    "\n",
    "Finally, if there is no stop codon by the time you reach the end of the DNA sequence, rather than returning the protein sequence return the string \"Sequence has no stop codon\".\n",
    "\n",
    "* *Hint: Do not directly check for one of the three stop codon sequences. Instead, check for the underscore character which signifies a stop codon has occurred.*\n"
   ]
  },
  {
   "cell_type": "code",
   "execution_count": null,
   "metadata": {},
   "outputs": [],
   "source": [
    "def remove_met(seq):\n",
    "    '''Remove methionine from the start of a protein sequence if the second amino acid is alanine'''\n",
    "    if seq[1] == 'A':\n",
    "        return seq[1:]\n",
    "    else:\n",
    "        return seq\n",
    "\n",
    "def translate(dna_seq):\n",
    "    '''Translate a DNA sequence into a protein sequence'''\n",
    "    protein_seq = '' \n",
    "    dna_seq = dna_seq.upper()\n",
    "\n",
    "    start_idx = dna_seq.find('ATG')\n",
    "\n",
    "    if start_idx != -1:\n",
    "        for i in range(start_idx, len(dna_seq), 3):\n",
    "            codon = dna_seq[i:i+3]\n",
    "            amino_acid = genetic_code[codon]\n",
    "\n",
    "            if amino_acid == '_':\n",
    "                return remove_met(protein_seq)\n",
    "            protein_seq += amino_acid\n",
    "\n",
    "        return 'Sequence has no stop codon'\n",
    "\n",
    "    else:\n",
    "        return 'Sequence has no start codon'\n",
    "\n",
    "for dna_seq in dna_sequences:\n",
    "    protein_seq = translate(dna_seq)\n",
    "    print(protein_seq)"
   ]
  },
  {
   "cell_type": "markdown",
   "metadata": {},
   "source": [
    "### Task 5.8\n",
    "\n",
    "In [Exercise 18.3](Exercise%20Solutions/18%20-%20Dictionaries%20IV%20-%20lookup%20table.ipynb#Exercise-18.3)\n",
    "you calculated the molecular mass of the peptide \"FWGCYPT\". \n",
    "\n",
    "Using the code from [Exercise 18.3](Exercise%20Solutions/18%20-%20Dictionaries%20IV%20-%20lookup%20table.ipynb#Exercise-18.3), write a function called `peptide_mass()` that takes a peptide sequence as an argument and returns its molecular mass."
   ]
  },
  {
   "cell_type": "code",
   "execution_count": null,
   "metadata": {},
   "outputs": [],
   "source": [
    "masses = {\n",
    "    'A' : 71.03711,\n",
    "    'C' : 103.00919,\n",
    "    'D' : 115.02694,\n",
    "    'E' : 129.04259,\n",
    "    'F' : 147.06841,\n",
    "    'G' :  57.02146,\n",
    "    'H' : 137.05891,\n",
    "    'I' : 113.08406,\n",
    "    'K' : 128.09496,\n",
    "    'L' : 113.08406,\n",
    "    'M' : 131.04049,\n",
    "    'N' : 114.04293,\n",
    "    'P' :  97.05276,\n",
    "    'Q' : 128.05858,\n",
    "    'R' : 156.10111,\n",
    "    'S' :  87.03203,\n",
    "    'T' : 101.04768,\n",
    "    'V' :  99.06841,\n",
    "    'W' : 186.07931,\n",
    "    'Y' : 163.06333}\n",
    "\n",
    "# Write your function here\n",
    "def peptide_mass(peptide):\n",
    "    mass = 0\n",
    "\n",
    "    for aa in peptide:\n",
    "        mass += masses[aa]\n",
    "    return mass\n",
    "\n",
    "# These are the calls to the function. Do not edit.\n",
    "for peptide in ['CPHRALIAIT', 'NGQSVCGMSG', 'WPFYWRICNH', 'DLQVIDQMNW', 'CEWIMYVTDE']:\n",
    "    print(f'Mass of {peptide} is {peptide_mass(peptide):.5f} Daltons')"
   ]
  },
  {
   "cell_type": "markdown",
   "metadata": {},
   "source": [
    "### Task 5.9\n",
    "\n",
    "Write a function called `random_peptide()` that generates a random peptide of length `n`, using `random.choice` within your function. \n",
    "\n",
    "The length of the peptide, `n`, is a parameter of the function and the random peptide generated should be returned by the function.\n",
    "\n",
    "Use the single letter amino acids codes in the list to help you.\n",
    "\n",
    "* *Hint: Begin with an empty string for your peptide and loop n times, each time choosing a random amino acid to add to the end of the peptide string.*"
   ]
  },
  {
   "cell_type": "code",
   "execution_count": null,
   "metadata": {},
   "outputs": [],
   "source": [
    "import random\n",
    "\n",
    "amino_acids_letters = ['A', 'R', 'N', 'D', 'C', 'Q', 'E', 'G', 'H', 'I', 'L','K', 'M', 'F','P', 'S', 'T', 'W', 'Y', 'V']\n",
    "\n",
    "def random_peptide(n):\n",
    "    '''generate a random peptide of length n'''\n",
    "    peptide = ''\n",
    "\n",
    "    for i in range(n):\n",
    "        peptide += random.choice(amino_acids_letters)\n",
    "\n",
    "    return peptide\n",
    "\n",
    "print(random_peptide(20))"
   ]
  }
 ],
 "metadata": {
  "kernelspec": {
   "display_name": "Python 3",
   "language": "python",
   "name": "python3"
  },
  "language_info": {
   "codemirror_mode": {
    "name": "ipython",
    "version": 3
   },
   "file_extension": ".py",
   "mimetype": "text/x-python",
   "name": "python",
   "nbconvert_exporter": "python",
   "pygments_lexer": "ipython3",
   "version": "3.7.6"
  }
 },
 "nbformat": 4,
 "nbformat_minor": 4
}
