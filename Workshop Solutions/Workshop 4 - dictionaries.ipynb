{
 "cells": [
  {
   "cell_type": "markdown",
   "metadata": {},
   "source": [
    "# Workshop 4"
   ]
  },
  {
   "cell_type": "markdown",
   "metadata": {},
   "source": [
    "## Dictionaries"
   ]
  },
  {
   "attachments": {
    "banner_video.png": {}
   },
   "cell_type": "markdown",
   "metadata": {},
   "source": [
    "### Task 4.1\n",
    "\n",
    "<a href=\"https://media.ed.ac.uk/media/1_jsuaf08u\"><img src=\"attachment:banner_video.png\" alt=\"Video answer>\" style=\"width:200px\"></a>\n",
    "\n",
    "\n",
    "The table below tabulates the average diameters of white blood cells in human blood.\n",
    "\n",
    "Cell type | Diameter ($\\mu$m)\n",
    ":---|:---:\n",
    "Neutrophil | 11\n",
    "Eosinophil | 11\n",
    "Basophil | 13.5\n",
    "Small lymphocyte | 7.5\n",
    "Large lymphocyte | 13.5\n",
    "Monocyte | 22.5\n",
    "\n",
    "By simultaneously looping through the two following lists, construct a dictionary with cell types as keys and diameters as values.\n",
    "\n",
    "* *Hint: Begin with an empty dictionary and, as you loop through the lists, add key:value pairs.*"
   ]
  },
  {
   "cell_type": "code",
   "execution_count": null,
   "metadata": {},
   "outputs": [],
   "source": [
    "cell_types = ['Neutrophil', 'Eosinophil', 'Basophil', 'Small lymphocyte', 'Large lymphocyte', 'Monocyte']\n",
    "diameters = [11, 11, 13.5, 7.5, 13.5, 22.5]\n",
    "\n",
    "white_cells = {}\n",
    "\n",
    "for i in range(len(cell_types)):\n",
    "    key = cell_types[i]\n",
    "    value = diameters[i]\n",
    "    white_cells[key] = value\n",
    "\n",
    "print(white_cells)"
   ]
  },
  {
   "attachments": {
    "banner_video.png": {}
   },
   "cell_type": "markdown",
   "metadata": {},
   "source": [
    "### Task 4.2\n",
    "\n",
    "<a href=\"https://media.ed.ac.uk/media/1_jk79t5cy\"><img src=\"attachment:banner_video.png\" alt=\"Video answer>\" style=\"width:200px\"></a>\n",
    "\n",
    "Loop through the dictionary you have just constructed and convert the diameters from micrometers to millimeters.\n",
    "* *Hint: 1$\\mu$m equals 0.001mm*"
   ]
  },
  {
   "cell_type": "code",
   "execution_count": null,
   "metadata": {},
   "outputs": [],
   "source": [
    "for cell, diameter in white_cells.items():\n",
    "    white_cells[cell] = diameter/1000\n",
    "\n",
    "print(white_cells)"
   ]
  },
  {
   "attachments": {
    "banner_video.png": {}
   },
   "cell_type": "markdown",
   "metadata": {},
   "source": [
    "### Task 4.3\n",
    "\n",
    "<a href=\"https://media.ed.ac.uk/media/1_8fm15eqa\"><img src=\"attachment:banner_video.png\" alt=\"Video answer>\" style=\"width:200px\"></a>\n",
    "\n",
    "Below is the list of bats identified in the bat survey from the Forest of Dean.\n",
    "\n",
    "Use dictionaries to answer these questions:\n",
    "\n",
    "1. How many of each bat species were observed?\n",
    "2. How many different bat species were observed?\n",
    "    * *Hint: Remember, each key in a dictionary is unique.*\n",
    "3. How many species in the genus *Pipistrellus* were observed?\n",
    "    * *Hint 1: Loop through the keys of the dictionary you constructed and count the number of keys starting with \"Pipistrellus\".*\n",
    "    * *Hint 2: You might like to google the string method `startswith()`.*"
   ]
  },
  {
   "cell_type": "code",
   "execution_count": null,
   "metadata": {},
   "outputs": [],
   "source": [
    "bat_list = ['Plecotus austriacus', 'Pipistrellus nathusii', 'Myotis daubentonii', 'Nyctalus noctula', 'Pipistrellus pipistrellus', 'Pipistrellus pipistrellus', 'Pipistrellus nathusii', 'Pipistrellus nathusii', 'Eptesicus serotinus', 'Myotis bechsteinii', 'Pipistrellus nathusii', 'Pipistrellus pygmaeus', 'Pipistrellus pipistrellus', 'Plecotus austriacus', 'Myotis daubentonii', 'Nyctalus noctula', 'Myotis brandtii', 'Myotis mystacinus', 'Pipistrellus nathusii', 'Pipistrellus pygmaeus', 'Pipistrellus nathusii', 'Rhinolophus hipposideros', 'Nyctalus leisleri', 'Pipistrellus pipistrellus', 'Pipistrellus nathusii', 'Nyctalus noctula', 'Plecotus austriacus', 'Pipistrellus nathusii', 'Myotis nattereri', 'Pipistrellus pipistrellus', 'Pipistrellus nathusii', 'Plecotus auritus', 'Barbastella barbastellus', 'Pipistrellus nathusii', 'Myotis brandtii', 'Pipistrellus pipistrellus', 'Myotis nattereri']\n",
    "\n",
    "species = {}\n",
    "for bat in bat_list:\n",
    "    if bat not in species:\n",
    "        species[bat] = 1\n",
    "    else:\n",
    "        species[bat] += 1\n",
    "\n",
    "for s, c in species.items():\n",
    "    print( f'{s}\\t\\t{c}')\n",
    "\n",
    "print(f'The number of different bat species observed is {len(species)}')\n",
    "\n",
    "count = 0\n",
    "for s in species:\n",
    "    if s.startswith('Pipistrellus'):\n",
    "        count += 1\n",
    "print(f'The number species in the genus Pipistrellus is {count}')"
   ]
  },
  {
   "attachments": {
    "banner_video.png": {}
   },
   "cell_type": "markdown",
   "metadata": {},
   "source": [
    "### Task 4.4\n",
    "\n",
    "<a href=\"https://media.ed.ac.uk/media/1_rdmy1mj1\"><img src=\"attachment:banner_video.png\" alt=\"Video answer>\" style=\"width:200px\"></a>\n",
    "\n",
    "Write code to translate the following DNA sequence."
   ]
  },
  {
   "cell_type": "code",
   "execution_count": null,
   "metadata": {},
   "outputs": [],
   "source": [
    "# Assign the genetic code to a dictionary variable called \"genetic_code\".\n",
    "# Keys are codons and values are amino acid letters.\n",
    "# Stop codons are represented by the underscore character \"_\".\n",
    "\n",
    "genetic_code = {\n",
    "     'TTT': 'F', 'TCT': 'S', 'TAT': 'Y', 'TGT': 'C',\n",
    "     'TTC': 'F', 'TCC': 'S', 'TAC': 'Y', 'TGC': 'C',\n",
    "     'TTA': 'L', 'TCA': 'S', 'TAA': '_', 'TGA': '_',\n",
    "     'TTG': 'L', 'TCG': 'S', 'TAG': '_', 'TGG': 'W',\n",
    "     'CTT': 'L', 'CCT': 'P', 'CAT': 'H', 'CGT': 'R',\n",
    "     'CTC': 'L', 'CCC': 'P', 'CAC': 'H', 'CGC': 'R',\n",
    "     'CTA': 'L', 'CCA': 'P', 'CAA': 'Q', 'CGA': 'R',\n",
    "     'CTG': 'L', 'CCG': 'P', 'CAG': 'Q', 'CGG': 'R',\n",
    "     'ATT': 'I', 'ACT': 'T', 'AAT': 'N', 'AGT': 'S',\n",
    "     'ATC': 'I', 'ACC': 'T', 'AAC': 'N', 'AGC': 'S',\n",
    "     'ATA': 'I', 'ACA': 'T', 'AAA': 'K', 'AGA': 'R',\n",
    "     'ATG': 'M', 'ACG': 'T', 'AAG': 'K', 'AGG': 'R',\n",
    "     'GTT': 'V', 'GCT': 'A', 'GAT': 'D', 'GGT': 'G',\n",
    "     'GTC': 'V', 'GCC': 'A', 'GAC': 'D', 'GGC': 'G',\n",
    "     'GTA': 'V', 'GCA': 'A', 'GAA': 'E', 'GGA': 'G',\n",
    "     'GTG': 'V', 'GCG': 'A', 'GAG': 'E', 'GGG': 'G'}\n",
    "\n",
    "dna_seq = 'TTTATGTATCCTTATATCACAACTCGAAGATTCTTCTTCTGCACGAGAAGCGTGGGAATCATGGAATAA'\n",
    "\n",
    "protein_seq = ''\n",
    "\n",
    "for i in range(0, len(dna_seq), 3):\n",
    "    codon = dna_seq[i:i+3]\n",
    "    amino_acid = genetic_code[codon]\n",
    "    protein_seq += amino_acid\n",
    "\n",
    "print(protein_seq)"
   ]
  },
  {
   "cell_type": "markdown",
   "metadata": {},
   "source": [
    "### Task 4.5\n",
    "\n",
    "Protein synthesis begins at the start codon \"ATG\". In Task 4.4 we started translating the DNA sequence at its first base. Instead we should have started translation at the first \"ATG\" codon. \n",
    "\n",
    "In Task 2.11 you wrote some code to find the index of \"ATG\" in a DNA sequence. \n",
    "\n",
    "1. Incorporate that code into your DNA translation code to start translation at \"ATG\" and not before.\n",
    "2. You should first check if \"ATG\" is in the DNA sequence. If it isn't print that the DNA sequence does not contain a start codon, otherwise translate the sequence as normal."
   ]
  },
  {
   "cell_type": "code",
   "execution_count": null,
   "metadata": {},
   "outputs": [],
   "source": [
    "protein_seq = ''\n",
    "\n",
    "start_idx = dna_seq.find('ATG')\n",
    "\n",
    "if start_idx != -1:\n",
    "    for i in range(start_idx, len(dna_seq), 3):\n",
    "        codon = dna_seq[i:i+3]\n",
    "        amino_acid = genetic_code[codon]\n",
    "        protein_seq += amino_acid\n",
    "\n",
    "    print(protein_seq)\n",
    "\n",
    "else:\n",
    "    print('Sequence has no start codon')"
   ]
  },
  {
   "attachments": {
    "banner_video.png": {}
   },
   "cell_type": "markdown",
   "metadata": {},
   "source": [
    "### Task 4.6\n",
    "\n",
    "<a href=\"https://media.ed.ac.uk/media/1_l0tzc03w\"><img src=\"attachment:banner_video.png\" alt=\"Video answer>\" style=\"width:200px\"></a>\n",
    "\n",
    "\n",
    "It is useful to be able to search long DNA sequences to find palindromic sequences. \n",
    "\n",
    "Write a program to print **all** palindromic sequences between 4 and 8 basepairs long inclusive in the following sequence.\n",
    "* *Hint 1: This is a difficult task so you should write an algorithm on paper first before attempting to code it. By writing an algorithm first you are able to spot potential problems early instead of staring blankly at a broken piece of code.*\n",
    "* *Hint 2: You will need two nested loops. The outermost loop to go through the different palindrome sizes (4 to 8), the first nested loop to go through the DNA sequence from left to right, and a second nested loop to construct the reverse complement of all substrings.*"
   ]
  },
  {
   "cell_type": "code",
   "execution_count": null,
   "metadata": {},
   "outputs": [],
   "source": [
    "complement_table = {\n",
    "    'A':'T',\n",
    "    'C':'G',\n",
    "    'G':'C',\n",
    "    'T':'A'}\n",
    "\n",
    "dna_sequence = 'ATGAGATAGAAGAGCGCATCGATCGATGGACCGATCGATCGATTCGCGAGCTCGCGATCGATCGGCCGATATCGCGCGATATGCGCTGCGTACGCACGATCGATCGATGGTAATCGTACGACTTCGAAGTCGCGC'\n",
    "\n",
    "\n",
    "for size in range(4, 9):\n",
    "    for i in range( len(dna_sequence)-size+1 ):\n",
    "        dna_seq = dna_sequence[i:i+size]\n",
    "        complement_seq = ''\n",
    "\n",
    "        for base in dna_seq:\n",
    "            complement_base = complement_table[base]\n",
    "            complement_seq += complement_base\n",
    "\n",
    "        if complement_seq[::-1] == dna_seq:\n",
    "            print(dna_seq)"
   ]
  }
 ],
 "metadata": {
  "kernelspec": {
   "display_name": "Python 3",
   "language": "python",
   "name": "python3"
  },
  "language_info": {
   "codemirror_mode": {
    "name": "ipython",
    "version": 3
   },
   "file_extension": ".py",
   "mimetype": "text/x-python",
   "name": "python",
   "nbconvert_exporter": "python",
   "pygments_lexer": "ipython3",
   "version": "3.7.6"
  }
 },
 "nbformat": 4,
 "nbformat_minor": 4
}
